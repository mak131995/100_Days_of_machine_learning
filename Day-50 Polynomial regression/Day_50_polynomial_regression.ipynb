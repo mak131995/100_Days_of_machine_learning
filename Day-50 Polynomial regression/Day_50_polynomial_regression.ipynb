{
  "cells": [
    {
      "cell_type": "code",
      "source": [
        "# Import necessary libraries\n",
        "import numpy as np                  # Import NumPy for numerical operations\n",
        "import matplotlib.pyplot as plt    # Import Matplotlib for data visualization\n",
        "\n",
        "# Import libraries for machine learning tasks\n",
        "from sklearn.model_selection import train_test_split  # Import train_test_split for data splitting\n",
        "from sklearn.linear_model import LinearRegression, SGDRegressor  # Import LinearRegression and SGDRegressor for modeling\n",
        "from sklearn.preprocessing import PolynomialFeatures, StandardScaler  # Import PolynomialFeatures and StandardScaler for data preprocessing\n",
        "from sklearn.metrics import r2_score  # Import r2_score for model evaluation\n",
        "from sklearn.pipeline import Pipeline  # Import Pipeline for creating a modeling pipeline\n"
      ],
      "metadata": {
        "id": "LPFN2zaFK2tm"
      },
      "id": "LPFN2zaFK2tm",
      "execution_count": 1,
      "outputs": []
    },
    {
      "cell_type": "markdown",
      "source": [
        "`np.random.rand()` is a NumPy function used to generate random numbers from a uniform distribution over the half-open interval `[0.0, 1.0)`. This means that the generated numbers are greater than or equal to 0.0 and less than 1.0. It returns random numbers in the form of a NumPy array.\n",
        "\n",
        "Here are the key details about `np.random.rand()`:\n",
        "\n",
        "- **Arguments**: Unlike some other random number generation functions in NumPy, `np.random.rand()` does not take any arguments. You simply call it without passing any parameters.\n",
        "\n",
        "- **Shape Control**: You can control the shape of the output array by using the standard NumPy array reshaping methods. For example, if you want a 2x3 array of random numbers between 0 and 1, you can reshape the output like this:\n",
        ""
      ],
      "metadata": {
        "id": "Phu8Hi5jNI62"
      },
      "id": "Phu8Hi5jNI62"
    },
    {
      "cell_type": "code",
      "source": [
        "np.random.rand()"
      ],
      "metadata": {
        "colab": {
          "base_uri": "https://localhost:8080/"
        },
        "id": "ui8fjuesNb2V",
        "outputId": "9cb2e10d-d780-40f0-b865-0ad14aa9805f"
      },
      "id": "ui8fjuesNb2V",
      "execution_count": 2,
      "outputs": [
        {
          "output_type": "execute_result",
          "data": {
            "text/plain": [
              "0.42961543523558765"
            ]
          },
          "metadata": {},
          "execution_count": 2
        }
      ]
    },
    {
      "cell_type": "code",
      "source": [
        "random_array = np.random.rand(2, 3)\n",
        "random_array"
      ],
      "metadata": {
        "colab": {
          "base_uri": "https://localhost:8080/"
        },
        "id": "OEDJOhS0OLw7",
        "outputId": "e1882627-8c96-4829-dafc-8ff887ada607"
      },
      "id": "OEDJOhS0OLw7",
      "execution_count": 3,
      "outputs": [
        {
          "output_type": "execute_result",
          "data": {
            "text/plain": [
              "array([[0.37477925, 0.54068974, 0.79047035],\n",
              "       [0.12601461, 0.41627259, 0.37813309]])"
            ]
          },
          "metadata": {},
          "execution_count": 3
        }
      ]
    },
    {
      "cell_type": "markdown",
      "source": [
        "- **Uniform Distribution**: The function generates random numbers from a uniform distribution. This means that each number in the generated array is equally likely to fall within the interval `[0.0, 1.0)`.\n",
        "\n",
        "- **No Seed Control**: By default, NumPy uses a system-dependent seed value to initialize the random number generator. This means that calling `np.random.rand()` without setting a seed will produce different random numbers each time it's called. If you want to produce reproducible results, you can set the seed using `np.random.seed()`.\n",
        "\n",
        "- **Applications**: `np.random.rand()` is often used when you need random values between 0 and 1 for various tasks in simulations, statistical analysis, and machine learning. You can scale these values and use them as random coefficients, probabilities, or initializations for various algorithms.\n",
        "\n",
        "In summary, `np.random.rand()` is a convenient way to generate random numbers from a uniform distribution in NumPy without the need for additional arguments. It's a versatile function used in various applications involving randomness and probability."
      ],
      "metadata": {
        "id": "Gnkn2wVcODv-"
      },
      "id": "Gnkn2wVcODv-"
    },
    {
      "cell_type": "code",
      "source": [
        "(6 * np.random.rand(200, 1)-3).min(),(6 * np.random.rand(200, 1)-3).max()"
      ],
      "metadata": {
        "colab": {
          "base_uri": "https://localhost:8080/"
        },
        "id": "g-PoRbOgKrbL",
        "outputId": "54e3e4f7-b1ef-49ff-84df-884d42f75693"
      },
      "id": "g-PoRbOgKrbL",
      "execution_count": 4,
      "outputs": [
        {
          "output_type": "execute_result",
          "data": {
            "text/plain": [
              "(-2.9350269666579623, 2.9590383703718084)"
            ]
          },
          "metadata": {},
          "execution_count": 4
        }
      ]
    },
    {
      "cell_type": "code",
      "source": [
        "# Generate 200 random numbers between -3 and 3, and store them in a 2D array 'X'\n",
        "# The formula used to generate these random numbers is: X = 6 * np.random.rand(200, 1) - 3\n",
        "X = 6 * np.random.rand(200, 1) - 3\n",
        "\n",
        "# Create a target variable 'y' based on a quadratic equation\n",
        "# The formula for 'y' is: y = 0.8 * X^2 + 0.9 * X + 2\n",
        "# Add some random noise to 'y' to simulate real-world data\n",
        "# The 'np.random.randn(200, 1)' part introduces random noise\n",
        "y = 0.8 * X**2 + 0.9 * X + 2 + np.random.randn(200, 1)\n",
        "\n",
        "# The purpose of the above code is to generate synthetic data (X and y) for a machine learning experiment.\n",
        "# X represents the input features, and y represents the corresponding output labels.\n",
        "# The data follows a quadratic relationship defined by the formula for 'y'.\n",
        "# Noise is added to make the data more realistic and representative of actual data.\n"
      ],
      "metadata": {
        "id": "boOwxrtMAMo4"
      },
      "id": "boOwxrtMAMo4",
      "execution_count": 5,
      "outputs": []
    },
    {
      "cell_type": "code",
      "execution_count": 6,
      "id": "4dbb8ca1",
      "metadata": {
        "id": "4dbb8ca1",
        "outputId": "031b2694-4fda-4258-fe25-ed0d9be23de7",
        "colab": {
          "base_uri": "https://localhost:8080/",
          "height": 449
        }
      },
      "outputs": [
        {
          "output_type": "display_data",
          "data": {
            "text/plain": [
              "<Figure size 640x480 with 1 Axes>"
            ],
            "image/png": "[encoded data removed]"
          },
          "metadata": {}
        }
      ],
      "source": [
        "# Create a scatter plot of X versus y using blue dots\n",
        "plt.plot(X, y, 'b.')\n",
        "\n",
        "# Label the x-axis\n",
        "plt.xlabel(\"X\")\n",
        "\n",
        "# Label the y-axis\n",
        "plt.ylabel(\"y\")\n",
        "\n",
        "# Display the plot\n",
        "plt.show()\n",
        "\n",
        "# This code is written to create a scatter plot that visualizes the relationship between two variables X and y.\n",
        "# X represents the input variable or feature data, and y represents the output variable or target data.\n",
        "# The 'b.' argument in plt.plot() specifies that blue dots should be used to plot the data points.\n",
        "# The x-axis is labeled with \"X\" using plt.xlabel(), and the y-axis is labeled with \"y\" using plt.ylabel().\n",
        "# Finally, plt.show() displays the plot to visualize the data.\n"
      ]
    },
    {
      "cell_type": "code",
      "execution_count": 7,
      "id": "aaacb73d",
      "metadata": {
        "id": "aaacb73d"
      },
      "outputs": [],
      "source": [
        "# Train test split\n",
        "X_train,X_test,y_train,y_test = train_test_split(X,y,test_size=0.2,random_state=2)"
      ]
    },
    {
      "cell_type": "code",
      "execution_count": 8,
      "id": "398d34ad",
      "metadata": {
        "id": "398d34ad"
      },
      "outputs": [],
      "source": [
        "# Applying linear regression\n",
        "lr = LinearRegression()"
      ]
    },
    {
      "cell_type": "code",
      "execution_count": 9,
      "id": "4223f668",
      "metadata": {
        "id": "4223f668",
        "outputId": "6d895653-c4b2-4376-8bd3-e457d4e7618c",
        "colab": {
          "base_uri": "https://localhost:8080/",
          "height": 74
        }
      },
      "outputs": [
        {
          "output_type": "execute_result",
          "data": {
            "text/plain": [
              "LinearRegression()"
            ],
            "text/html": [
              "<style>#sk-container-id-1 {color: black;background-color: white;}#sk-container-id-1 pre{padding: 0;}#sk-container-id-1 div.sk-toggleable {background-color: white;}#sk-container-id-1 label.sk-toggleable__label {cursor: pointer;display: block;width: 100%;margin-bottom: 0;padding: 0.3em;box-sizing: border-box;text-align: center;}#sk-container-id-1 label.sk-toggleable__label-arrow:before {content: \"▸\";float: left;margin-right: 0.25em;color: #696969;}#sk-container-id-1 label.sk-toggleable__label-arrow:hover:before {color: black;}#sk-container-id-1 div.sk-estimator:hover label.sk-toggleable__label-arrow:before {color: black;}#sk-container-id-1 div.sk-toggleable__content {max-height: 0;max-width: 0;overflow: hidden;text-align: left;background-color: #f0f8ff;}#sk-container-id-1 div.sk-toggleable__content pre {margin: 0.2em;color: black;border-radius: 0.25em;background-color: #f0f8ff;}#sk-container-id-1 input.sk-toggleable__control:checked~div.sk-toggleable__content {max-height: 200px;max-width: 100%;overflow: auto;}#sk-container-id-1 input.sk-toggleable__control:checked~label.sk-toggleable__label-arrow:before {content: \"▾\";}#sk-container-id-1 div.sk-estimator input.sk-toggleable__control:checked~label.sk-toggleable__label {background-color: #d4ebff;}#sk-container-id-1 div.sk-label input.sk-toggleable__control:checked~label.sk-toggleable__label {background-color: #d4ebff;}#sk-container-id-1 input.sk-hidden--visually {border: 0;clip: rect(1px 1px 1px 1px);clip: rect(1px, 1px, 1px, 1px);height: 1px;margin: -1px;overflow: hidden;padding: 0;position: absolute;width: 1px;}#sk-container-id-1 div.sk-estimator {font-family: monospace;background-color: #f0f8ff;border: 1px dotted black;border-radius: 0.25em;box-sizing: border-box;margin-bottom: 0.5em;}#sk-container-id-1 div.sk-estimator:hover {background-color: #d4ebff;}#sk-container-id-1 div.sk-parallel-item::after {content: \"\";width: 100%;border-bottom: 1px solid gray;flex-grow: 1;}#sk-container-id-1 div.sk-label:hover label.sk-toggleable__label {background-color: #d4ebff;}#sk-container-id-1 div.sk-serial::before {content: \"\";position: absolute;border-left: 1px solid gray;box-sizing: border-box;top: 0;bottom: 0;left: 50%;z-index: 0;}#sk-container-id-1 div.sk-serial {display: flex;flex-direction: column;align-items: center;background-color: white;padding-right: 0.2em;padding-left: 0.2em;position: relative;}#sk-container-id-1 div.sk-item {position: relative;z-index: 1;}#sk-container-id-1 div.sk-parallel {display: flex;align-items: stretch;justify-content: center;background-color: white;position: relative;}#sk-container-id-1 div.sk-item::before, #sk-container-id-1 div.sk-parallel-item::before {content: \"\";position: absolute;border-left: 1px solid gray;box-sizing: border-box;top: 0;bottom: 0;left: 50%;z-index: -1;}#sk-container-id-1 div.sk-parallel-item {display: flex;flex-direction: column;z-index: 1;position: relative;background-color: white;}#sk-container-id-1 div.sk-parallel-item:first-child::after {align-self: flex-end;width: 50%;}#sk-container-id-1 div.sk-parallel-item:last-child::after {align-self: flex-start;width: 50%;}#sk-container-id-1 div.sk-parallel-item:only-child::after {width: 0;}#sk-container-id-1 div.sk-dashed-wrapped {border: 1px dashed gray;margin: 0 0.4em 0.5em 0.4em;box-sizing: border-box;padding-bottom: 0.4em;background-color: white;}#sk-container-id-1 div.sk-label label {font-family: monospace;font-weight: bold;display: inline-block;line-height: 1.2em;}#sk-container-id-1 div.sk-label-container {text-align: center;}#sk-container-id-1 div.sk-container {/* jupyter's `normalize.less` sets `[hidden] { display: none; }` but bootstrap.min.css set `[hidden] { display: none !important; }` so we also need the `!important` here to be able to override the default hidden behavior on the sphinx rendered scikit-learn.org. See: https://github.com/scikit-learn/scikit-learn/issues/21755 */display: inline-block !important;position: relative;}#sk-container-id-1 div.sk-text-repr-fallback {display: none;}</style><div id=\"sk-container-id-1\" class=\"sk-top-container\"><div class=\"sk-text-repr-fallback\"><pre>LinearRegression()</pre><b>In a Jupyter environment, please rerun this cell to show the HTML representation or trust the notebook. <br />On GitHub, the HTML representation is unable to render, please try loading this page with nbviewer.org.</b></div><div class=\"sk-container\" hidden><div class=\"sk-item\"><div class=\"sk-estimator sk-toggleable\"><input class=\"sk-toggleable__control sk-hidden--visually\" id=\"sk-estimator-id-1\" type=\"checkbox\" checked><label for=\"sk-estimator-id-1\" class=\"sk-toggleable__label sk-toggleable__label-arrow\">LinearRegression</label><div class=\"sk-toggleable__content\"><pre>LinearRegression()</pre></div></div></div></div></div>"
            ]
          },
          "metadata": {},
          "execution_count": 9
        }
      ],
      "source": [
        "lr.fit(X_train,y_train)"
      ]
    },
    {
      "cell_type": "code",
      "execution_count": 10,
      "id": "40d930bc",
      "metadata": {
        "id": "40d930bc",
        "outputId": "34e680d0-790c-421e-9f83-930280abad6d",
        "colab": {
          "base_uri": "https://localhost:8080/"
        }
      },
      "outputs": [
        {
          "output_type": "execute_result",
          "data": {
            "text/plain": [
              "0.20339226789874165"
            ]
          },
          "metadata": {},
          "execution_count": 10
        }
      ],
      "source": [
        "y_pred = lr.predict(X_test)\n",
        "r2_score(y_test,y_pred)"
      ]
    },
    {
      "cell_type": "code",
      "source": [
        "# X_train is the input data for training, lr is the trained linear regression model,\n",
        "# X is the input data for plotting, and y is the corresponding target values.\n",
        "\n",
        "# Plot the predicted values based on the training data using the linear regression model\n",
        "plt.plot(X_train, lr.predict(X_train), color='r', label='Regression Line')\n",
        "\n",
        "# Plot the actual data points (X, y) as blue dots\n",
        "plt.plot(X, y, \"b.\", label='Data Points')\n",
        "\n",
        "# Add labels to the x and y axes\n",
        "plt.xlabel(\"X\")\n",
        "plt.ylabel(\"y\")\n",
        "\n",
        "# Show the legend to distinguish between the regression line and data points\n",
        "plt.legend()\n",
        "\n",
        "# Display the plot\n",
        "plt.show()\n",
        "\n",
        "# The above code is written to visualize the performance of a linear regression model.\n",
        "# It first plots the predicted values generated by the trained model (lr.predict(X_train))\n",
        "# as a red line, representing the regression line.\n",
        "# Then, it plots the actual data points (X, y) as blue dots.\n",
        "# The X-axis represents the input variable, and the Y-axis represents the target variable.\n",
        "# This visualization helps to assess how well the linear regression model fits the data.\n"
      ],
      "metadata": {
        "colab": {
          "base_uri": "https://localhost:8080/",
          "height": 449
        },
        "id": "SkykPwZpSru6",
        "outputId": "9c8458cf-2b0b-46ae-e630-6b311d191cdc"
      },
      "id": "SkykPwZpSru6",
      "execution_count": 11,
      "outputs": [
        {
          "output_type": "display_data",
          "data": {
            "text/plain": [
              "<Figure size 640x480 with 1 Axes>"
            ],
            "image/png": "[encoded data removed]"
          },
          "metadata": {}
        }
      ]
    },
    {
      "cell_type": "markdown",
      "source": [
        "## **`Polynomial Regression in Machine Learning: Understanding and Implementation:-`**\n",
        "\n",
        "Polynomial regression is a versatile technique for modeling nonlinear relationships in machine learning. This guide explains how polynomial regression works and provides a step-by-step approach to dealing with it effectively.\n",
        "Polynomial regression is a type of regression analysis used in machine learning to model the relationship between a dependent variable (target) and one or more independent variables (features) as an nth-degree polynomial. While linear regression models relationships as a straight line, polynomial regression allows you to capture more complex, nonlinear relationships in the data.\n",
        "\n",
        "Here's how polynomial regression works and how to deal with it:\n",
        "\n",
        "1. **Polynomial Equation**: The general form of a polynomial regression equation with one independent variable (univariate) is:\n",
        "\n",
        "   ```\n",
        "   y = β₀ + β₁x + β₂x² + ... + βₙxⁿ + ε\n",
        "   ```\n",
        "\n",
        "   - `y` is the dependent variable (target).\n",
        "   - `x` is the independent variable (feature).\n",
        "   - `β₀, β₁, β₂, ..., βₙ` are the coefficients to be estimated.\n",
        "   - `n` is the degree of the polynomial, representing the complexity of the model.\n",
        "   - ε represents the error term.\n",
        "\n",
        "2. **Data Transformation**: To apply polynomial regression, you need to transform your data. This involves creating additional features by raising the original feature to various powers (up to the chosen degree `n`). For example, if you have a feature `x`, you would create new features like `x²`, `x³`, etc., up to `xⁿ`.\n",
        "\n",
        "3. **Model Selection**: Choose an appropriate degree `n` for your polynomial. Selecting the right degree is essential to balance the model's complexity and its ability to capture the underlying patterns in the data. Higher degrees can lead to overfitting, while lower degrees may result in underfitting.\n",
        "\n",
        "4. **Model Training**: Train your polynomial regression model using the transformed data. You can use techniques like ordinary least squares (OLS) or gradient descent to estimate the coefficients (`β₀, β₁, β₂, ..., βₙ`) that minimize the mean squared error.\n",
        "\n",
        "5. **Model Evaluation**: Evaluate the performance of your polynomial regression model using appropriate metrics such as mean squared error (MSE), R-squared (R²), or others, depending on the task (regression or classification).\n",
        "\n",
        "6. **Visualization**: Visualize the fitted polynomial curve along with the actual data points to understand how well the model fits the data. Visualization helps you identify whether the chosen degree is suitable for capturing the underlying patterns.\n",
        "\n",
        "7. **Regularization**: In some cases, regularization techniques like Ridge or Lasso regression may be applied to prevent overfitting when using high-degree polynomials. These techniques add a penalty term to the cost function to discourage overly complex models.\n",
        "\n",
        "8. **Feature Scaling**: Depending on the degree of the polynomial and the scale of your features, it might be necessary to perform feature scaling (e.g., standardization) to ensure numerical stability during training.\n",
        "\n",
        "9. **Cross-Validation**: Use cross-validation to assess the model's generalization performance and avoid overfitting. Cross-validation helps you choose the best degree of the polynomial and assess model robustness.\n",
        "\n",
        "10. **Predictions**: Once the model is trained and validated, you can use it to make predictions on new, unseen data.\n",
        "\n",
        "In summary, polynomial regression is a powerful technique for modeling nonlinear relationships between variables. It involves data transformation, model selection, training, evaluation, and visualization. Careful consideration of the degree of the polynomial and the use of regularization techniques are important for obtaining accurate and reliable results."
      ],
      "metadata": {
        "id": "MSqRhqdtVQOl"
      },
      "id": "MSqRhqdtVQOl"
    },
    {
      "cell_type": "markdown",
      "source": [
        "### **`Class Overview:-`**\n",
        "\n",
        "The `sklearn.preprocessing.PolynomialFeatures` class is part of the scikit-learn library and is designed for generating polynomial and interaction features from the original features in your dataset. It is a powerful tool for capturing complex, nonlinear relationships between features and the target variable in machine learning tasks.\n",
        "\n",
        "### **`Constructor:-`**\n",
        "\n",
        "The class constructor allows you to configure how the polynomial features are generated:\n",
        "\n",
        "- **PolynomialFeatures(degree=2, interaction_only=False, include_bias=True, order='C')**\n",
        "  - `degree`: An integer or a tuple (min_degree, max_degree) specifying the maximal degree of the polynomial features. If a tuple is provided, `min_degree` is the minimum degree, and `max_degree` is the maximum degree of the generated features.\n",
        "  - `interaction_only`: A boolean (default is `False`) that controls whether only interaction features are produced. Interaction features are products of at most `degree` distinct input features.\n",
        "  - `include_bias`: A boolean (default is `True`) that determines whether to include a bias column. The bias column consists of all ones and acts as an intercept term in linear models.\n",
        "  - `order`: The order of the output array, which can be either 'C' for C-style or 'F' for Fortran-style. The choice of order affects the memory layout and can impact the efficiency of subsequent estimators.\n",
        "\n",
        "### **`Attributes:-`**\n",
        "\n",
        "The `PolynomialFeatures` class provides several attributes that can be accessed after fitting the transformer to the data:\n",
        "\n",
        "- **powers_**: An ndarray that describes the exponent for each input feature in the generated polynomial features. It reveals how each input feature is raised to different powers in the polynomial transformation.\n",
        "- **n_features_in_**: An integer representing the number of features seen during the fit. It tells you how many input features were processed.\n",
        "- **feature_names_in_**: An ndarray of shape (n_features_in_,) that contains the names of features seen during the fit. This attribute is defined only when input features have string names.\n",
        "- **n_output_features_**: An integer indicating the total number of polynomial output features generated.\n",
        "\n",
        "### **`Methods:-`**\n",
        "\n",
        "The `PolynomialFeatures` class offers various methods to interact with the transformer:\n",
        "\n",
        "- **fit(X, y=None)**: This method computes the number of output features based on the provided data. It takes `X` as input, which is an array-like or sparse matrix of shape (n_samples, n_features). The `y` parameter is ignored and not used for this operation. The method returns the fitted transformer.\n",
        "\n",
        "- **fit_transform(X, y=None, \\*\\*fit_params)**: This method both fits the transformer to the input data `X` and returns a transformed version of `X`. It is a convenient way to perform both operations in one step. The `X` parameter is the input samples of shape (n_samples, n_features), and `y` represents target values (use `None` for unsupervised transformations). Additional fit parameters can be passed using `**fit_params`.\n",
        "\n",
        "- **get_feature_names_out(input_features=None)**: Use this method to retrieve the output feature names for the transformation. It takes an optional `input_features` parameter, which is an array-like of strings or `None`. If `input_features` is not provided, it uses the default feature names. This method returns transformed feature names.\n",
        "\n",
        "- **get_metadata_routing()**: This method allows you to get metadata routing for the object, which can be useful for understanding how the routing mechanism works.\n",
        "\n",
        "- **get_params(deep=True)**: Get parameters for the estimator. This method returns a dictionary of parameter names mapped to their values. The `deep` parameter, if set to `True`, will return parameters for nested objects as well.\n",
        "\n",
        "- **set_output(\\*, transform=None)**: Use this method to configure the output container for `transform` and `fit_transform`. You can specify the format as `\"default\"` (default output format), `\"pandas\"` (DataFrame output), or `None` to keep the transform configuration unchanged.\n",
        "\n",
        "- **set_params(\\*\\*params)**: Set the parameters of the estimator using this method. It can work on both simple estimators and nested objects, such as Pipelines.\n",
        "\n",
        "- **transform(X)**: Transform your data into polynomial features using this method. It accepts an `X` parameter, which is an array-like or sparse matrix of shape (n_samples, n_features). The transformation generates the matrix of polynomial features, which is returned as `X_poly`.\n",
        "\n",
        "### **`Summary:-`**\n",
        "\n",
        "The `sklearn.preprocessing.PolynomialFeatures` class is an essential preprocessing tool for machine learning tasks where capturing complex, nonlinear relationships in the data is crucial. It offers fine-grained control over the generation of polynomial and interaction features, and its attributes and methods enable you to explore, configure, and utilize these features effectively in your machine learning pipeline. Proper usage of polynomial features can significantly improve the modeling of nonlinear relationships between input features and the target variable."
      ],
      "metadata": {
        "id": "-XrlTeeDdCRs"
      },
      "id": "-XrlTeeDdCRs"
    },
    {
      "cell_type": "code",
      "execution_count": 12,
      "id": "3499d04b",
      "metadata": {
        "id": "3499d04b"
      },
      "outputs": [],
      "source": [
        "# Define the degree of the polynomial regression (degree 2)\n",
        "degree = 2\n",
        "\n",
        "# Create an instance of PolynomialFeatures with the specified degree\n",
        "poly = PolynomialFeatures(degree=degree, include_bias=True)\n",
        "\n",
        "# Transform the training dataset features (X_train) into polynomial features.\n",
        "# This will create new features by raising the original features to various powers.\n",
        "X_train_trans = poly.fit_transform(X_train)\n",
        "\n",
        "# Transform the testing dataset features (X_test) using the same polynomial transformation.\n",
        "# It's important to use the same transformation for training and testing data.\n",
        "X_test_trans = poly.transform(X_test)\n",
        "\n",
        "# Comment explaining the code:\n",
        "# The above code is written to perform Polynomial Linear Regression with a degree of 2. Polynomial regression is a type of regression analysis where the relationship between the independent variable (X) and the dependent variable (y) is modeled as an nth-degree polynomial. In this case, we are using a quadratic polynomial, which means we are adding features by squaring the original features.\n",
        "\n",
        "# Variables:\n",
        "# - degree: This variable specifies the degree of the polynomial to use in the regression.\n",
        "# - poly: An instance of the PolynomialFeatures class with the specified degree. It will be used to transform the dataset features.\n",
        "# - X_train_trans: Transformed training dataset features with polynomial features.\n",
        "# - X_test_trans: Transformed testing dataset features with the same polynomial features as X_train_trans.\n",
        "\n",
        "# Formula:\n",
        "# The formula for polynomial regression of degree 2 is:\n",
        "# y = β0 + β1 * X + β2 * X^2\n",
        "# - y: The dependent variable (target variable).\n",
        "# - β0, β1, β2: The coefficients of the polynomial regression.\n",
        "# - X: The independent variable (original feature).\n",
        "# - X^2: The squared term of the independent variable.\n"
      ]
    },
    {
      "cell_type": "code",
      "source": [
        "# Print the first element (variable) of the original training data (X_train).\n",
        "print(X_train[0])\n",
        "\n",
        "# Print the first row (observation) of the transformed training data (X_train_trans).\n",
        "# The transformed row includes additional polynomial features.\n",
        "print(X_train_trans[0])\n"
      ],
      "metadata": {
        "colab": {
          "base_uri": "https://localhost:8080/"
        },
        "id": "Y1cIVFsJ4S68",
        "outputId": "db76e321-dc81-416f-8776-60a08d7039f2"
      },
      "id": "Y1cIVFsJ4S68",
      "execution_count": 13,
      "outputs": [
        {
          "output_type": "stream",
          "name": "stdout",
          "text": [
            "[-1.47262543]\n",
            "[ 1.         -1.47262543  2.16862567]\n"
          ]
        }
      ]
    },
    {
      "cell_type": "markdown",
      "source": [
        "The `include_bias` parameter in scikit-learn's `PolynomialFeatures` class is a boolean (True or False) parameter that determines whether a bias column should be included when generating polynomial features. The bias column is a column of ones, and it acts as an intercept term in a linear model.\n",
        "\n",
        "Here's what `include_bias` means and how it affects the behavior of `PolynomialFeatures`:\n",
        "\n",
        "1. When `include_bias=True` (default):\n",
        "   - The `PolynomialFeatures` class will include an additional column of ones in the output feature matrix it generates.\n",
        "   - This additional column represents the bias term or intercept in a linear model.\n",
        "   - Including the bias term is typically desirable when you're using the polynomial features to build linear models (e.g., linear regression) because it allows the model to capture an offset or baseline value when all input features are zero.\n",
        "\n",
        "2. When `include_bias=False`:\n",
        "   - The `PolynomialFeatures` class will not include the additional column of ones.\n",
        "   - The generated polynomial features will not include the constant term (bias term) in the polynomial equations.\n",
        "   - This option is useful when you don't want or need a bias term in your model. For example, if you're working with data where the target variable is expected to be zero when all input features are zero, you might set `include_bias` to `False` to avoid adding an unnecessary bias term.\n",
        "\n",
        "In summary, the `include_bias` parameter in `PolynomialFeatures` allows you to control whether or not to include a bias term in the generated polynomial features. Your choice depends on whether you want the model to have an intercept term and the specific requirements of your modeling task."
      ],
      "metadata": {
        "id": "nh3ubdJC6Sdt"
      },
      "id": "nh3ubdJC6Sdt"
    },
    {
      "cell_type": "code",
      "execution_count": 14,
      "id": "e316df6e",
      "metadata": {
        "id": "e316df6e",
        "outputId": "d62183d0-8c56-4747-d1e6-ce4040cb13de",
        "colab": {
          "base_uri": "https://localhost:8080/",
          "height": 74
        }
      },
      "outputs": [
        {
          "output_type": "execute_result",
          "data": {
            "text/plain": [
              "LinearRegression()"
            ],
            "text/html": [
              "<style>#sk-container-id-2 {color: black;background-color: white;}#sk-container-id-2 pre{padding: 0;}#sk-container-id-2 div.sk-toggleable {background-color: white;}#sk-container-id-2 label.sk-toggleable__label {cursor: pointer;display: block;width: 100%;margin-bottom: 0;padding: 0.3em;box-sizing: border-box;text-align: center;}#sk-container-id-2 label.sk-toggleable__label-arrow:before {content: \"▸\";float: left;margin-right: 0.25em;color: #696969;}#sk-container-id-2 label.sk-toggleable__label-arrow:hover:before {color: black;}#sk-container-id-2 div.sk-estimator:hover label.sk-toggleable__label-arrow:before {color: black;}#sk-container-id-2 div.sk-toggleable__content {max-height: 0;max-width: 0;overflow: hidden;text-align: left;background-color: #f0f8ff;}#sk-container-id-2 div.sk-toggleable__content pre {margin: 0.2em;color: black;border-radius: 0.25em;background-color: #f0f8ff;}#sk-container-id-2 input.sk-toggleable__control:checked~div.sk-toggleable__content {max-height: 200px;max-width: 100%;overflow: auto;}#sk-container-id-2 input.sk-toggleable__control:checked~label.sk-toggleable__label-arrow:before {content: \"▾\";}#sk-container-id-2 div.sk-estimator input.sk-toggleable__control:checked~label.sk-toggleable__label {background-color: #d4ebff;}#sk-container-id-2 div.sk-label input.sk-toggleable__control:checked~label.sk-toggleable__label {background-color: #d4ebff;}#sk-container-id-2 input.sk-hidden--visually {border: 0;clip: rect(1px 1px 1px 1px);clip: rect(1px, 1px, 1px, 1px);height: 1px;margin: -1px;overflow: hidden;padding: 0;position: absolute;width: 1px;}#sk-container-id-2 div.sk-estimator {font-family: monospace;background-color: #f0f8ff;border: 1px dotted black;border-radius: 0.25em;box-sizing: border-box;margin-bottom: 0.5em;}#sk-container-id-2 div.sk-estimator:hover {background-color: #d4ebff;}#sk-container-id-2 div.sk-parallel-item::after {content: \"\";width: 100%;border-bottom: 1px solid gray;flex-grow: 1;}#sk-container-id-2 div.sk-label:hover label.sk-toggleable__label {background-color: #d4ebff;}#sk-container-id-2 div.sk-serial::before {content: \"\";position: absolute;border-left: 1px solid gray;box-sizing: border-box;top: 0;bottom: 0;left: 50%;z-index: 0;}#sk-container-id-2 div.sk-serial {display: flex;flex-direction: column;align-items: center;background-color: white;padding-right: 0.2em;padding-left: 0.2em;position: relative;}#sk-container-id-2 div.sk-item {position: relative;z-index: 1;}#sk-container-id-2 div.sk-parallel {display: flex;align-items: stretch;justify-content: center;background-color: white;position: relative;}#sk-container-id-2 div.sk-item::before, #sk-container-id-2 div.sk-parallel-item::before {content: \"\";position: absolute;border-left: 1px solid gray;box-sizing: border-box;top: 0;bottom: 0;left: 50%;z-index: -1;}#sk-container-id-2 div.sk-parallel-item {display: flex;flex-direction: column;z-index: 1;position: relative;background-color: white;}#sk-container-id-2 div.sk-parallel-item:first-child::after {align-self: flex-end;width: 50%;}#sk-container-id-2 div.sk-parallel-item:last-child::after {align-self: flex-start;width: 50%;}#sk-container-id-2 div.sk-parallel-item:only-child::after {width: 0;}#sk-container-id-2 div.sk-dashed-wrapped {border: 1px dashed gray;margin: 0 0.4em 0.5em 0.4em;box-sizing: border-box;padding-bottom: 0.4em;background-color: white;}#sk-container-id-2 div.sk-label label {font-family: monospace;font-weight: bold;display: inline-block;line-height: 1.2em;}#sk-container-id-2 div.sk-label-container {text-align: center;}#sk-container-id-2 div.sk-container {/* jupyter's `normalize.less` sets `[hidden] { display: none; }` but bootstrap.min.css set `[hidden] { display: none !important; }` so we also need the `!important` here to be able to override the default hidden behavior on the sphinx rendered scikit-learn.org. See: https://github.com/scikit-learn/scikit-learn/issues/21755 */display: inline-block !important;position: relative;}#sk-container-id-2 div.sk-text-repr-fallback {display: none;}</style><div id=\"sk-container-id-2\" class=\"sk-top-container\"><div class=\"sk-text-repr-fallback\"><pre>LinearRegression()</pre><b>In a Jupyter environment, please rerun this cell to show the HTML representation or trust the notebook. <br />On GitHub, the HTML representation is unable to render, please try loading this page with nbviewer.org.</b></div><div class=\"sk-container\" hidden><div class=\"sk-item\"><div class=\"sk-estimator sk-toggleable\"><input class=\"sk-toggleable__control sk-hidden--visually\" id=\"sk-estimator-id-2\" type=\"checkbox\" checked><label for=\"sk-estimator-id-2\" class=\"sk-toggleable__label sk-toggleable__label-arrow\">LinearRegression</label><div class=\"sk-toggleable__content\"><pre>LinearRegression()</pre></div></div></div></div></div>"
            ]
          },
          "metadata": {},
          "execution_count": 14
        }
      ],
      "source": [
        "# Create a Linear Regression model instance.\n",
        "lr = LinearRegression()\n",
        "\n",
        "# Fit the Linear Regression model to the training data.\n",
        "# This step involves finding the best linear relationship between the features (X_train_trans) and the target variable (y_train).\n",
        "lr.fit(X_train_trans, y_train)\n"
      ]
    },
    {
      "cell_type": "code",
      "execution_count": 15,
      "id": "ff5960ed",
      "metadata": {
        "id": "ff5960ed"
      },
      "outputs": [],
      "source": [
        "y_pred = lr.predict(X_test_trans)"
      ]
    },
    {
      "cell_type": "code",
      "execution_count": 16,
      "id": "3b2af778",
      "metadata": {
        "id": "3b2af778",
        "outputId": "7397e75f-d539-4e3c-a0c5-7ec0198cb148",
        "colab": {
          "base_uri": "https://localhost:8080/"
        }
      },
      "outputs": [
        {
          "output_type": "execute_result",
          "data": {
            "text/plain": [
              "0.8763724586334821"
            ]
          },
          "metadata": {},
          "execution_count": 16
        }
      ],
      "source": [
        "r2_score(y_test,y_pred)"
      ]
    },
    {
      "cell_type": "code",
      "execution_count": 17,
      "id": "1d5ac42b",
      "metadata": {
        "id": "1d5ac42b",
        "outputId": "39b9e664-bf57-428c-fec8-7884b8a51967",
        "colab": {
          "base_uri": "https://localhost:8080/"
        }
      },
      "outputs": [
        {
          "output_type": "stream",
          "name": "stdout",
          "text": [
            "[[0.         0.86926396 0.84529727]]\n",
            "[1.92246486]\n"
          ]
        }
      ],
      "source": [
        "# Print the coefficients (weights) of the linear regression model.\n",
        "print(lr.coef_)\n",
        "\n",
        "# Print the intercept (bias) of the linear regression model.\n",
        "print(lr.intercept_)\n"
      ]
    },
    {
      "cell_type": "code",
      "execution_count": 18,
      "id": "7da24a4b",
      "metadata": {
        "id": "7da24a4b",
        "outputId": "686f4e42-a108-4777-dbc8-f8199921b0f9",
        "colab": {
          "base_uri": "https://localhost:8080/"
        }
      },
      "outputs": [
        {
          "output_type": "execute_result",
          "data": {
            "text/plain": [
              "array([[0],\n",
              "       [1],\n",
              "       [2]])"
            ]
          },
          "metadata": {},
          "execution_count": 18
        }
      ],
      "source": [
        "poly.powers_"
      ]
    },
    {
      "cell_type": "markdown",
      "source": [
        "In the context of scikit-learn's `PolynomialFeatures` transformer, `poly.powers_` is an attribute that represents the exponent for each of the input features in the output. It essentially tells you how each input feature is raised to different powers when generating polynomial features.\n",
        "\n",
        "For example, if you have two input features, `x1` and `x2`, and you use `PolynomialFeatures` to create polynomial features up to the second degree, `poly.powers_` would provide information about how these features are combined:\n",
        "\n",
        "- If `x1` is raised to the power of 0, `x1⁰` results in a constant term (1).\n",
        "- If `x1` is raised to the power of 1, `x1¹` results in `x1`.\n",
        "- If `x1` is raised to the power of 2, `x1²` results in a quadratic term.\n",
        "- If `x1` and `x2` are multiplied together, you get interaction terms like `x1 * x2`.\n",
        "\n",
        "So, `poly.powers_` would give you a representation of these powers and interactions for your input features. It's useful for understanding how your original features are transformed when you apply polynomial regression or feature engineering with polynomial features."
      ],
      "metadata": {
        "id": "iX09PB1MYQi2"
      },
      "id": "iX09PB1MYQi2"
    },
    {
      "cell_type": "code",
      "execution_count": 19,
      "id": "d3a4d4be",
      "metadata": {
        "id": "d3a4d4be"
      },
      "outputs": [],
      "source": [
        "# Generate a new set of data points in the range from -3 to 3 with 200 equally spaced values.\n",
        "X_new = np.linspace(-3, 3, 200).reshape(200, 1)\n",
        "\n",
        "# Transform the new data points using the 'poly' polynomial features transformer.\n",
        "# This will create polynomial features based on the degree and settings of 'poly'.\n",
        "X_new_poly = poly.transform(X_new)\n",
        "\n",
        "# Use the linear regression model 'lr' to predict the target values for the transformed data.\n",
        "y_new = lr.predict(X_new_poly)\n"
      ]
    },
    {
      "cell_type": "code",
      "source": [
        "y_new"
      ],
      "metadata": {
        "colab": {
          "base_uri": "https://localhost:8080/"
        },
        "id": "ALW5_yYuXYXm",
        "outputId": "d4ee7c0d-a62c-427e-e836-e4031806c26c"
      },
      "id": "ALW5_yYuXYXm",
      "execution_count": 20,
      "outputs": [
        {
          "output_type": "execute_result",
          "data": {
            "text/plain": [
              "array([[ 6.92234839],\n",
              "       [ 6.79640769],\n",
              "       [ 6.67200385],\n",
              "       [ 6.54913688],\n",
              "       [ 6.42780677],\n",
              "       [ 6.30801353],\n",
              "       [ 6.18975715],\n",
              "       [ 6.07303764],\n",
              "       [ 5.957855  ],\n",
              "       [ 5.84420922],\n",
              "       [ 5.7321003 ],\n",
              "       [ 5.62152826],\n",
              "       [ 5.51249307],\n",
              "       [ 5.40499475],\n",
              "       [ 5.2990333 ],\n",
              "       [ 5.19460871],\n",
              "       [ 5.09172099],\n",
              "       [ 4.99037013],\n",
              "       [ 4.89055614],\n",
              "       [ 4.79227901],\n",
              "       [ 4.69553875],\n",
              "       [ 4.60033535],\n",
              "       [ 4.50666882],\n",
              "       [ 4.41453916],\n",
              "       [ 4.32394636],\n",
              "       [ 4.23489042],\n",
              "       [ 4.14737135],\n",
              "       [ 4.06138915],\n",
              "       [ 3.97694381],\n",
              "       [ 3.89403534],\n",
              "       [ 3.81266373],\n",
              "       [ 3.73282898],\n",
              "       [ 3.65453111],\n",
              "       [ 3.57777009],\n",
              "       [ 3.50254595],\n",
              "       [ 3.42885867],\n",
              "       [ 3.35670825],\n",
              "       [ 3.2860947 ],\n",
              "       [ 3.21701801],\n",
              "       [ 3.14947819],\n",
              "       [ 3.08347524],\n",
              "       [ 3.01900915],\n",
              "       [ 2.95607992],\n",
              "       [ 2.89468756],\n",
              "       [ 2.83483207],\n",
              "       [ 2.77651344],\n",
              "       [ 2.71973168],\n",
              "       [ 2.66448678],\n",
              "       [ 2.61077875],\n",
              "       [ 2.55860758],\n",
              "       [ 2.50797328],\n",
              "       [ 2.45887584],\n",
              "       [ 2.41131527],\n",
              "       [ 2.36529156],\n",
              "       [ 2.32080472],\n",
              "       [ 2.27785475],\n",
              "       [ 2.23644164],\n",
              "       [ 2.19656539],\n",
              "       [ 2.15822601],\n",
              "       [ 2.1214235 ],\n",
              "       [ 2.08615785],\n",
              "       [ 2.05242906],\n",
              "       [ 2.02023715],\n",
              "       [ 1.98958209],\n",
              "       [ 1.9604639 ],\n",
              "       [ 1.93288258],\n",
              "       [ 1.90683813],\n",
              "       [ 1.88233053],\n",
              "       [ 1.85935981],\n",
              "       [ 1.83792595],\n",
              "       [ 1.81802895],\n",
              "       [ 1.79966882],\n",
              "       [ 1.78284555],\n",
              "       [ 1.76755915],\n",
              "       [ 1.75380962],\n",
              "       [ 1.74159695],\n",
              "       [ 1.73092115],\n",
              "       [ 1.72178221],\n",
              "       [ 1.71418013],\n",
              "       [ 1.70811493],\n",
              "       [ 1.70358658],\n",
              "       [ 1.70059511],\n",
              "       [ 1.69914049],\n",
              "       [ 1.69922275],\n",
              "       [ 1.70084187],\n",
              "       [ 1.70399785],\n",
              "       [ 1.7086907 ],\n",
              "       [ 1.71492041],\n",
              "       [ 1.72268699],\n",
              "       [ 1.73199044],\n",
              "       [ 1.74283075],\n",
              "       [ 1.75520792],\n",
              "       [ 1.76912197],\n",
              "       [ 1.78457287],\n",
              "       [ 1.80156064],\n",
              "       [ 1.82008528],\n",
              "       [ 1.84014678],\n",
              "       [ 1.86174515],\n",
              "       [ 1.88488038],\n",
              "       [ 1.90955248],\n",
              "       [ 1.93576145],\n",
              "       [ 1.96350727],\n",
              "       [ 1.99278997],\n",
              "       [ 2.02360953],\n",
              "       [ 2.05596595],\n",
              "       [ 2.08985924],\n",
              "       [ 2.1252894 ],\n",
              "       [ 2.16225642],\n",
              "       [ 2.20076031],\n",
              "       [ 2.24080106],\n",
              "       [ 2.28237867],\n",
              "       [ 2.32549316],\n",
              "       [ 2.3701445 ],\n",
              "       [ 2.41633272],\n",
              "       [ 2.46405779],\n",
              "       [ 2.51331974],\n",
              "       [ 2.56411854],\n",
              "       [ 2.61645422],\n",
              "       [ 2.67032676],\n",
              "       [ 2.72573616],\n",
              "       [ 2.78268243],\n",
              "       [ 2.84116557],\n",
              "       [ 2.90118557],\n",
              "       [ 2.96274243],\n",
              "       [ 3.02583616],\n",
              "       [ 3.09046676],\n",
              "       [ 3.15663422],\n",
              "       [ 3.22433855],\n",
              "       [ 3.29357974],\n",
              "       [ 3.3643578 ],\n",
              "       [ 3.43667272],\n",
              "       [ 3.51052451],\n",
              "       [ 3.58591316],\n",
              "       [ 3.66283868],\n",
              "       [ 3.74130107],\n",
              "       [ 3.82130032],\n",
              "       [ 3.90283643],\n",
              "       [ 3.98590941],\n",
              "       [ 4.07051926],\n",
              "       [ 4.15666597],\n",
              "       [ 4.24434954],\n",
              "       [ 4.33356999],\n",
              "       [ 4.42432729],\n",
              "       [ 4.51662146],\n",
              "       [ 4.6104525 ],\n",
              "       [ 4.7058204 ],\n",
              "       [ 4.80272517],\n",
              "       [ 4.90116681],\n",
              "       [ 5.0011453 ],\n",
              "       [ 5.10266067],\n",
              "       [ 5.2057129 ],\n",
              "       [ 5.31030199],\n",
              "       [ 5.41642795],\n",
              "       [ 5.52409078],\n",
              "       [ 5.63329047],\n",
              "       [ 5.74402702],\n",
              "       [ 5.85630044],\n",
              "       [ 5.97011073],\n",
              "       [ 6.08545788],\n",
              "       [ 6.2023419 ],\n",
              "       [ 6.32076278],\n",
              "       [ 6.44072053],\n",
              "       [ 6.56221514],\n",
              "       [ 6.68524662],\n",
              "       [ 6.80981496],\n",
              "       [ 6.93592017],\n",
              "       [ 7.06356225],\n",
              "       [ 7.19274119],\n",
              "       [ 7.32345699],\n",
              "       [ 7.45570966],\n",
              "       [ 7.5894992 ],\n",
              "       [ 7.7248256 ],\n",
              "       [ 7.86168886],\n",
              "       [ 8.00008899],\n",
              "       [ 8.14002599],\n",
              "       [ 8.28149985],\n",
              "       [ 8.42451058],\n",
              "       [ 8.56905817],\n",
              "       [ 8.71514263],\n",
              "       [ 8.86276395],\n",
              "       [ 9.01192214],\n",
              "       [ 9.1626172 ],\n",
              "       [ 9.31484912],\n",
              "       [ 9.4686179 ],\n",
              "       [ 9.62392355],\n",
              "       [ 9.78076607],\n",
              "       [ 9.93914545],\n",
              "       [10.09906169],\n",
              "       [10.2605148 ],\n",
              "       [10.42350478],\n",
              "       [10.58803162],\n",
              "       [10.75409533],\n",
              "       [10.9216959 ],\n",
              "       [11.09083334],\n",
              "       [11.26150764],\n",
              "       [11.43371881],\n",
              "       [11.60746684],\n",
              "       [11.78275174],\n",
              "       [11.95957351],\n",
              "       [12.13793214]])"
            ]
          },
          "metadata": {},
          "execution_count": 20
        }
      ]
    },
    {
      "cell_type": "code",
      "source": [
        "# Plot the predictions using a red solid line, label them as \"Predictions,\" and set the line width to 2.\n",
        "plt.plot(X_new, y_new, \"r-\", linewidth=2, label=\"Predictions\")\n",
        "\n",
        "# Plot the training points using blue dots and label them as \"Training points.\"\n",
        "plt.plot(X_train, y_train, \"b.\", label='Training points')\n",
        "\n",
        "# Plot the testing points using green dots and label them as \"Testing points.\"\n",
        "plt.plot(X_test, y_test, \"g.\", label='Testing points')\n",
        "\n",
        "# Set the label for the x-axis.\n",
        "plt.xlabel(\"X\")\n",
        "\n",
        "# Set the label for the y-axis.\n",
        "plt.ylabel(\"y\")\n",
        "\n",
        "# Display a legend on the plot to distinguish between \"Predictions,\" \"Training points,\" and \"Testing points.\"\n",
        "plt.legend()\n",
        "\n",
        "# Show the plot.\n",
        "plt.show()\n"
      ],
      "metadata": {
        "colab": {
          "base_uri": "https://localhost:8080/",
          "height": 449
        },
        "id": "xlMqB2apNXE9",
        "outputId": "2a412905-7f6b-4d7a-efcd-9048d27f7d4c"
      },
      "id": "xlMqB2apNXE9",
      "execution_count": 21,
      "outputs": [
        {
          "output_type": "display_data",
          "data": {
            "text/plain": [
              "<Figure size 640x480 with 1 Axes>"
            ],
            "image/png": "[encoded data removed]"
          },
          "metadata": {}
        }
      ]
    },
    {
      "cell_type": "markdown",
      "source": [
        "###**`Polynomial Regression Function with Visualization:-`**"
      ],
      "metadata": {
        "id": "pNRMGlvsI-W9"
      },
      "id": "pNRMGlvsI-W9"
    },
    {
      "cell_type": "code",
      "source": [
        "# Define a function for polynomial regression that takes a 'degree' parameter.\n",
        "def polynomial_regression(degree):\n",
        "    # Create a new range of X values for prediction.\n",
        "    # 'X_new' represents a range of X values over which we want to make predictions.\n",
        "    # It's created by evenly spacing 100 points from -3 to 3 and reshaped into a column vector.\n",
        "    X_new = np.linspace(-3, 3, 100).reshape(100, 1)\n",
        "\n",
        "    # Transform the new X values to polynomial features using the pre-defined 'poly' transformer.\n",
        "    # 'X_new_poly' will store the X_new values after applying a polynomial feature transformation.\n",
        "    # The transformation details are based on a pre-defined 'poly' object, which is assumed to have been defined elsewhere.\n",
        "    X_new_poly = poly.transform(X_new)\n",
        "\n",
        "    # Create a PolynomialFeatures transformer with the specified 'degree' and exclude the bias term.\n",
        "    # The 'degree' parameter determines the degree of the polynomial features to be generated.\n",
        "    polybig_features = PolynomialFeatures(degree=degree, include_bias=False)\n",
        "\n",
        "    # Create a StandardScaler to standardize features.\n",
        "    # Standardization scales the features to have zero mean and unit variance, which can be important for polynomial regression.\n",
        "    std_scaler = StandardScaler()\n",
        "\n",
        "    # Create a LinearRegression model.\n",
        "    # 'lin_reg' represents a linear regression model that will be used for prediction.\n",
        "    lin_reg = LinearRegression()\n",
        "\n",
        "    # Create a Pipeline to chain these steps together:\n",
        "    #   1. Polynomial feature transformation\n",
        "    #   2. Standardization\n",
        "    #   3. Linear regression\n",
        "    # The pipeline defines a sequence of data preprocessing and modeling steps.\n",
        "    polynomial_regression = Pipeline([\n",
        "            (\"poly_features\", polybig_features),\n",
        "            (\"std_scaler\", std_scaler),\n",
        "            (\"lin_reg\", lin_reg),\n",
        "        ])\n",
        "\n",
        "    # Fit the polynomial regression model to the training data (X, y).\n",
        "    # The model is trained on the input data 'X' and target values 'y'.\n",
        "    polynomial_regression.fit(X, y)\n",
        "\n",
        "    # Predict the y values for the new X values.\n",
        "    # 'y_newbig' will contain the predicted target values for the new X values using the trained model.\n",
        "    y_newbig = polynomial_regression.predict(X_new)\n",
        "\n",
        "    # Plot the predicted polynomial regression curve.\n",
        "    # This code visualizes the predicted curve on top of the original data points.\n",
        "    # It helps in understanding how well the model fits the data for the specified 'degree'.\n",
        "    plt.plot(X_new, y_newbig, 'r', label=\"Degree \" + str(degree), linewidth=2)\n",
        "\n",
        "    # Plot the original training data points in blue.\n",
        "    # 'X_train' and 'y_train' represent the training data points.\n",
        "    plt.plot(X_train, y_train, \"b.\", linewidth=3)\n",
        "\n",
        "    # Plot the original test data points in green.\n",
        "    # 'X_test' and 'y_test' represent the test data points.\n",
        "    plt.plot(X_test, y_test, \"g.\", linewidth=3)\n",
        "\n",
        "    # Add a legend to the plot.\n",
        "    # It helps in distinguishing between the different lines on the plot.\n",
        "    plt.legend(loc=\"upper left\")\n",
        "\n",
        "    # Set labels for the X and Y axes.\n",
        "    plt.xlabel(\"X\")\n",
        "    plt.ylabel(\"y\")\n",
        "\n",
        "    # Set the axis limits for the plot.\n",
        "    plt.axis([-3, 3, 0, 10])\n",
        "\n",
        "    # Show the plot.\n",
        "    plt.show()\n",
        "\n",
        "# Purpose of the code:\n",
        "# The code defines a function 'polynomial_regression' that performs polynomial regression with various degrees.\n",
        "# It visualizes the results by plotting the predicted polynomial curves along with the original data points.\n",
        "\n",
        "# Arguments:\n",
        "# - 'degree': This parameter determines the degree of the polynomial features used in regression.\n",
        "#   It controls the complexity of the model. Higher degrees can capture more complex relationships but may overfit the data.\n"
      ],
      "metadata": {
        "id": "QJp8QWxORE4X"
      },
      "id": "QJp8QWxORE4X",
      "execution_count": 22,
      "outputs": []
    },
    {
      "cell_type": "markdown",
      "source": [
        "The `plt.axis([-3, 3, 0, 10])` line of code sets the axis limits for a plot using the `matplotlib` library. It specifies the range of values that will be displayed along the x-axis and y-axis of the plot. Here's a breakdown of the arguments:\n",
        "\n",
        "- `[-3, 3]`: This argument sets the limits for the x-axis. The x-axis will range from -3 (minimum value) to 3 (maximum value). This means that any data or points to be plotted with x-coordinates outside this range will not be shown on the plot.\n",
        "\n",
        "- `[0, 10]`: This argument sets the limits for the y-axis. The y-axis will range from 0 (minimum value) to 10 (maximum value). Similar to the x-axis, any data or points with y-coordinates outside this range will not be displayed.\n",
        "\n",
        "In summary, `plt.axis([-3, 3, 0, 10])` is used to set the visible range of the x-axis from -3 to 3 and the visible range of the y-axis from 0 to 10 for a `matplotlib` plot. It defines the boundaries within which data will be plotted. Any data points falling outside these ranges will be clipped or not shown on the plot."
      ],
      "metadata": {
        "id": "9FbULpGYBLsX"
      },
      "id": "9FbULpGYBLsX"
    },
    {
      "cell_type": "code",
      "execution_count": 23,
      "id": "8e56415e",
      "metadata": {
        "id": "8e56415e",
        "outputId": "bfc60c51-181a-4f0a-e8dd-00777f1c6e70",
        "colab": {
          "base_uri": "https://localhost:8080/",
          "height": 455
        }
      },
      "outputs": [
        {
          "output_type": "display_data",
          "data": {
            "text/plain": [
              "<Figure size 640x480 with 1 Axes>"
            ],
            "image/png": "[encoded data removed]"
          },
          "metadata": {}
        }
      ],
      "source": [
        "polynomial_regression(50)"
      ]
    },
    {
      "cell_type": "markdown",
      "source": [
        "###**`Polynomial Regression with Stochastic Gradient Descent (SGD) - Implementation and Visualization:-`**"
      ],
      "metadata": {
        "id": "EOr_BY4HHycJ"
      },
      "id": "EOr_BY4HHycJ"
    },
    {
      "cell_type": "code",
      "source": [
        "# Import necessary libraries and modules\n",
        "poly = PolynomialFeatures(degree=2)  # Polynomial feature transformation with degree 2\n",
        "\n",
        "# Transform the training and testing data into polynomial features\n",
        "X_train_trans = poly.fit_transform(X_train)  # X_train: Training input data\n",
        "X_test_trans = poly.transform(X_test)  # X_test: Testing input data\n",
        "\n",
        "# Create a Stochastic Gradient Descent Regressor model with a maximum of 100 iterations\n",
        "sgd = SGDRegressor(max_iter=100)\n",
        "\n",
        "# Fit the SGD Regressor to the training data\n",
        "sgd.fit(X_train_trans, y_train)  # y_train: Training output/target data\n",
        "\n",
        "# Generate a new set of data points for prediction, evenly spaced between -2.9 and 2.8\n",
        "X_new = np.linspace(-2.9, 2.8, 200).reshape(200, 1)  # X_new: New data points to predict\n",
        "X_new_poly = poly.transform(X_new)  # Transform the new data points into polynomial features\n",
        "\n",
        "# Predict the target values for the new data points using the trained model\n",
        "y_new = sgd.predict(X_new_poly)\n",
        "\n",
        "# Predict the target values for the testing data\n",
        "y_pred = sgd.predict(X_test_trans)  # y_pred: Predicted values for the testing data\n",
        "\n",
        "# Plot the results\n",
        "plt.plot(X_new, y_new, \"r-\", linewidth=2, label=\"Predictions \" + str(round(r2_score(y_test, y_pred), 2)))\n",
        "plt.plot(X_train, y_train, \"b.\", label='Training points')  # X_train: Training input data, y_train: Training output data\n",
        "plt.plot(X_test, y_test, \"g.\", label='Testing points')  # X_test: Testing input data, y_test: Testing output data\n",
        "plt.xlabel(\"X\")  # X-axis label\n",
        "plt.ylabel(\"y\")  # Y-axis label\n",
        "plt.legend()  # Display legend\n",
        "plt.show()\n",
        "\n",
        "# The purpose of the above code:\n",
        "# - It applies polynomial feature transformation to input data.\n",
        "# - Trains a Stochastic Gradient Descent Regressor model on the transformed training data.\n",
        "# - Generates new data points for prediction.\n",
        "# - Predicts the target values for both the new data points and the testing data.\n",
        "# - Plots the training and testing data along with the predictions to visualize the model's performance.\n"
      ],
      "metadata": {
        "colab": {
          "base_uri": "https://localhost:8080/",
          "height": 504
        },
        "id": "9AaW3DEFcswM",
        "outputId": "36fc7d36-08f4-4428-9895-37bb8e1b20f4"
      },
      "id": "9AaW3DEFcswM",
      "execution_count": 24,
      "outputs": [
        {
          "output_type": "stream",
          "name": "stderr",
          "text": [
            "/usr/local/lib/python3.10/dist-packages/sklearn/utils/validation.py:1143: DataConversionWarning: A column-vector y was passed when a 1d array was expected. Please change the shape of y to (n_samples, ), for example using ravel().\n",
            "  y = column_or_1d(y, warn=True)\n"
          ]
        },
        {
          "output_type": "display_data",
          "data": {
            "text/plain": [
              "<Figure size 640x480 with 1 Axes>"
            ],
            "image/png": "[encoded data removed]"
          },
          "metadata": {}
        }
      ]
    },
    {
      "cell_type": "markdown",
      "source": [
        "###**`Polynomial Regression with SGD Pipeline and Visualization:-`**"
      ],
      "metadata": {
        "id": "AkmvJCS9HU_C"
      },
      "id": "AkmvJCS9HU_C"
    },
    {
      "cell_type": "code",
      "source": [
        "\n",
        "# Create a Polynomial Regression Pipeline\n",
        "poly_sgd_pipeline = Pipeline([\n",
        "    ('poly_features', PolynomialFeatures(degree=2)),  # Polynomial feature transformation with degree 2\n",
        "    ('sgd_reg', SGDRegressor(max_iter=100))  # Stochastic Gradient Descent Regressor\n",
        "])\n",
        "\n",
        "# Fit the Pipeline to the training data\n",
        "poly_sgd_pipeline.fit(X_train, y_train)  # X_train: Training input data, y_train: Training output data\n",
        "\n",
        "# Generate a new set of data points for prediction, evenly spaced between -2.9 and 2.8\n",
        "X_new = np.linspace(-2.9, 2.8, 200).reshape(200, 1)  # X_new: New data points to predict\n",
        "\n",
        "# Predict the target values for the new data points using the trained model\n",
        "y_new = poly_sgd_pipeline.predict(X_new)\n",
        "\n",
        "# Predict the target values for the testing data\n",
        "y_pred = poly_sgd_pipeline.predict(X_test)  # X_test: Testing input data, y_pred: Predicted values for the testing data\n",
        "\n",
        "# Plot the results\n",
        "plt.plot(X_new, y_new, \"r-\", linewidth=2, label=\"Predictions \" + str(round(r2_score(y_test, y_pred), 2)))\n",
        "plt.plot(X_train, y_train, \"b.\", label='Training points')  # X_train: Training input data, y_train: Training output data\n",
        "plt.plot(X_test, y_test, \"g.\", label='Testing points')  # X_test: Testing input data, y_test: Testing output data\n",
        "plt.xlabel(\"X\")  # X-axis label\n",
        "plt.ylabel(\"y\")  # Y-axis label\n",
        "plt.legend()  # Display legend\n",
        "plt.show()\n",
        "\n",
        "# The purpose of the above code:\n",
        "# - It creates a Pipeline that combines polynomial feature transformation and SGD regression.\n",
        "# - Fits the Pipeline to the training data, including feature transformation.\n",
        "# - Generates new data points for prediction.\n",
        "# - Predicts the target values for both the new data points and the testing data.\n",
        "# - Plots the training and testing data along with the predictions to visualize the model's performance.\n"
      ],
      "metadata": {
        "colab": {
          "base_uri": "https://localhost:8080/",
          "height": 504
        },
        "id": "h8ff1fNH1595",
        "outputId": "828c137c-d2b4-48c8-c9b5-48bab084892a"
      },
      "id": "h8ff1fNH1595",
      "execution_count": 25,
      "outputs": [
        {
          "output_type": "stream",
          "name": "stderr",
          "text": [
            "/usr/local/lib/python3.10/dist-packages/sklearn/utils/validation.py:1143: DataConversionWarning: A column-vector y was passed when a 1d array was expected. Please change the shape of y to (n_samples, ), for example using ravel().\n",
            "  y = column_or_1d(y, warn=True)\n"
          ]
        },
        {
          "output_type": "display_data",
          "data": {
            "text/plain": [
              "<Figure size 640x480 with 1 Axes>"
            ],
            "image/png": "[encoded data removed]"
          },
          "metadata": {}
        }
      ]
    },
    {
      "cell_type": "markdown",
      "source": [
        "###**`Generating Synthetic Data for 3D Polynomial Regression:-`**"
      ],
      "metadata": {
        "id": "IBox2rr4lQ5z"
      },
      "id": "IBox2rr4lQ5z"
    },
    {
      "cell_type": "code",
      "source": [
        "import numpy as np\n",
        "\n",
        "# Generate random data points for x and y\n",
        "x = 7 * np.random.rand(100, 1) - 2.8  # Random values in the range [-2.8, 4.2]\n",
        "y = 7 * np.random.rand(100, 1) - 2.8  # Random values in the range [-2.8, 4.2]\n",
        "\n",
        "# Generate a 3D polynomial surface with noise\n",
        "# z = x^2 + y^2 + 0.2x + 0.2y + 0.1xy + 2 + random noise\n",
        "z = x**2 + y**2 + 0.2*x + 0.2*y + 0.1*x*y + 2 + np.random.randn(100, 1)\n",
        "\n",
        "# This code is written to generate synthetic data points (x, y, z) that follow a 3D polynomial relationship.\n",
        "# The variables x and y represent input features.\n",
        "# The variable z represents the output or target variable.\n",
        "# The generated data is noisy to simulate real-world scenarios where data may not be perfectly clean.\n",
        "# The polynomial function used is z = x^2 + y^2 + 0.2x + 0.2y + 0.1xy + 2 with added random noise.\n",
        "# The purpose of this code to test and demonstrate polynomial regression .\n"
      ],
      "metadata": {
        "id": "XHocHJuHKRLS"
      },
      "id": "XHocHJuHKRLS",
      "execution_count": 37,
      "outputs": []
    },
    {
      "cell_type": "code",
      "source": [
        "# Import the necessary library: Plotly Express\n",
        "import plotly.express as px\n",
        "\n",
        "# Load the Iris dataset provided by Plotly Express\n",
        "df = px.data.iris()\n",
        "\n",
        "# Create a 3D scatter plot using Plotly Express\n",
        "# Define the x, y, and z coordinates for the plot\n",
        "x = x.ravel()\n",
        "y = y.ravel()\n",
        "z = z.ravel()\n",
        "fig = px.scatter_3d(df, x=x, y=y, z=z)\n",
        "\n",
        "# Display the 3D scatter plot\n",
        "fig.show()\n",
        "\n",
        "# This code is written to create a 3D scatter plot using Plotly Express.\n",
        "# The dataset 'df' is loaded from the Iris dataset provided by Plotly Express.\n",
        "# The variables 'x', 'y', and 'z' are used to define the coordinates of the 3D plot,\n",
        "# and you should replace them with your actual data or variables.\n",
        "# The code then displays the 3D scatter plot.\n",
        "# Note that 'x', 'y', and 'z' should be previously defined or replaced with the appropriate data.\n"
      ],
      "metadata": {
        "colab": {
          "base_uri": "https://localhost:8080/",
          "height": 542
        },
        "id": "__35ChZjoLNL",
        "outputId": "d56f84ab-7acf-4136-aa2c-669a35b48efc"
      },
      "id": "__35ChZjoLNL",
      "execution_count": 38,
      "outputs": [
        {
          "output_type": "display_data",
          "data": {
            "text/html": [
              "<html>\n",
              "<head><meta charset=\"utf-8\" /></head>\n",
              "<body>\n",
              "    <div>            <script src=\"https://cdnjs.cloudflare.com/ajax/libs/mathjax/2.7.5/MathJax.js?config=TeX-AMS-MML_SVG\"></script><script type=\"text/javascript\">if (window.MathJax && window.MathJax.Hub && window.MathJax.Hub.Config) {window.MathJax.Hub.Config({SVG: {font: \"STIX-Web\"}});}</script>                <script type=\"text/javascript\">window.PlotlyConfig = {MathJaxConfig: 'local'};</script>\n",
              "        <script charset=\"utf-8\" src=\"https://cdn.plot.ly/plotly-2.24.1.min.js\"></script>                <div id=\"70335458-fb4f-4ee5-9597-80bca13bf49b\" class=\"plotly-graph-div\" style=\"height:525px; width:100%;\"></div>            <script type=\"text/javascript\">                                    window.PLOTLYENV=window.PLOTLYENV || {};                                    if (document.getElementById(\"70335458-fb4f-4ee5-9597-80bca13bf49b\")) {                    Plotly.newPlot(                        \"70335458-fb4f-4ee5-9597-80bca13bf49b\",                        [{\"hovertemplate\":\"x=%{x}\\u003cbr\\u003ey=%{y}\\u003cbr\\u003ez=%{z}\\u003cextra\\u003e\\u003c\\u002fextra\\u003e\",\"legendgroup\":\"\",\"marker\":{\"color\":\"#636efa\",\"symbol\":\"circle\"},\"mode\":\"markers\",\"name\":\"\",\"scene\":\"scene\",\"showlegend\":false,\"x\":[-2.2565493702579715,-1.9911799432792756,2.1306495616411363,3.4440102058203754,0.003472815918891481,-2.6630879510525123,-1.1547555320156242,-2.2436509332223147,3.8647391835825182,-2.3783877724285496,3.005544278417558,-0.8020771554360668,2.994644012080361,1.0069565595507028,3.565030397145552,1.6777352935171388,2.7784978490554124,2.4040442701341567,-0.1278007591903192,3.9050293152841515,2.319807427837679,2.627342810143084,2.3551335903999915,-1.825633853923038,2.93105964856991,-0.9269736353274216,1.9923691969487916,1.4836104158468775,2.237797752861967,-0.9559568881566256,-2.3855076599771063,-2.5343530653707154,-0.0839488329020126,-2.441414579128979,3.3583934460091234,-0.07439698618674395,3.790536707852014,-1.4028762272091,2.7086945565130645,3.150833657110768,-0.46254338242952064,-1.3492993522599968,-0.35266564131214695,2.3268573604208056,3.879830144337486,0.6041623976339556,2.7797700342435823,1.143761330451175,-2.1488067284587506,-1.6374557405359216,2.647119574414747,-1.6907611194903964,-1.1333807289143416,-1.8838083963317525,-1.2245236857535096,1.4609505131365648,2.4188225013430467,2.9620493856367363,1.5142119769258935,-0.2159995467114193,0.3215378699512641,-0.6757497239141994,-1.5242226915279313,2.0371528290169296,0.4648077063342515,1.8217557673076552,-1.4077010309679547,0.14701921885034874,2.825702320661267,3.5474494977913578,-0.9574269440018823,3.847596722547215,-1.3271328608322184,1.3419969199632495,2.9842616090738083,-2.4138370509621336,-0.5630666151368393,4.181079066255451,2.635038437146667,-2.1656053093397856,3.0856612373338264,-0.18448388596844723,0.5709112992165273,4.075636292126513,-2.0755781403991946,1.6397337734338766,2.9646457988836676,-1.9958678256098517,3.041414226587621,-1.1674915439766111,-1.2952695141006667,-0.8280104452002894,-1.5280253739454537,3.8668944289677016,3.5425190750715556,2.555411658955437,3.7852343658613483,3.137108036265815,-1.794823323553869,2.68984334716486],\"y\":[-1.2941071106065667,1.5459006087300082,-0.048145824925610814,2.344742531094547,3.869762980445632,0.2626302269839025,-1.1059726613133911,-0.5831146479705871,-2.2793590367526306,-2.680074081647381,-2.50958634713042,-1.9731146590292887,-1.2128663650381073,2.2682144040793757,1.4559130821078377,-2.4457365885659965,-1.4090957039406158,-1.4171107192156982,4.095667976384125,3.179109963329007,0.06823464086763975,2.6074452949828126,1.6943651371532846,0.17193337740004822,-2.5241783868500245,3.4080974419963495,2.724229184172116,3.039795669685253,-0.16644302811719403,-1.2440904067040224,0.7365515884749452,0.9940078845643874,-2.2377769790097397,-0.509747812936757,1.0926033354308506,-2.5953776057579274,2.6027345994162454,0.6004619982279822,2.659312078950263,-0.24855545693247816,2.7849060838588464,0.3341161529823964,3.4878247126009176,1.0054285349496372,3.338452196318647,0.7268254886834606,2.147175903916893,4.047194314952773,-0.550797957525234,-0.8514391172471032,-1.3422874536078684,0.5971349471962801,-0.3224291851840575,-0.3948653616012652,-0.5276477486559097,3.518848971162778,2.7942915542725517,2.163831617715908,0.518656988064842,0.20946402037826317,-2.6935170396119323,1.0492115160109896,-1.2220951523814814,-0.3268895815425461,0.45117104235211425,1.8710606320982217,0.49742798647231945,4.130583904133288,0.894317576799514,-0.06611804878642902,-1.2402215853199707,-0.6864663357336909,3.2596968883154966,1.3615762894117607,2.513145999381856,-2.380331341895483,4.166363888944123,-0.747343612645305,1.7188033349591327,-0.7229807120353224,-0.9231104514855017,-1.226751601384045,1.4684443904043922,-0.7347167361045641,-0.018738346062523004,3.546705215935307,0.9102776099750503,3.4717532893498158,0.8491626267163741,-0.5782881545097744,2.2201643969402305,1.6282969637434972,2.7302458831792915,0.7029415882413512,2.7810731770386035,3.8017326392708295,3.8337951459732267,-2.5749415310568997,3.419039942293969,-0.7852095428002972],\"z\":[9.551543449393064,6.484447206526889,7.107139546412305,22.165788828164036,17.083619957424354,9.199792965491008,4.590850211715685,5.539858223393993,21.62428839504052,14.420046955380295,15.14620430263813,6.380065248761938,13.63161748717538,7.904383272448951,20.412799409936078,11.21538355148844,12.008416921341663,9.317035287628094,18.837227132845946,28.717781290043597,8.359376409789135,18.009708943259742,11.077305962316768,4.93046544499954,16.726902782148954,13.512367778174653,17.19837002210403,15.587742427933835,7.055298173014607,3.5540902254973137,7.772004005730009,11.289170902255897,5.800645305490974,6.78177808268895,15.303585655455292,7.461168903937473,26.6153026776571,5.2694288461641134,17.813975768943298,12.331369941012811,10.760402772456814,3.495203305566878,16.47339180825602,8.55687147776051,31.92373896844995,3.10672437341874,15.092734528765781,21.17369312173301,5.295173728537925,3.6290032546992004,8.511011628265383,7.068110211101915,6.370777249489806,5.73140490994996,2.7879209973067227,15.71821952390504,15.697220131033864,17.79205860594091,4.210750756424451,0.7242214170948795,8.430000314428924,3.474340737746576,5.824351107244199,6.288856361660105,0.8178227367126332,9.322152712648226,3.5259217273575514,19.628397566885145,12.02307245831734,14.759611008569058,4.141005139214653,16.810104532848413,14.085168205296695,6.798708917838142,20.34611682512159,14.501987084943194,19.41231183320753,19.7668930361422,13.177232559383569,5.872169162760358,12.704391982339736,2.905924366293469,5.70456048896918,19.682400887905324,5.611786404185917,18.486047843819055,10.917661966201635,16.830203836214725,14.514975942041028,3.5717810888550185,9.44154457450393,4.890078736729538,12.078019681118933,18.514643052410257,25.508818469227702,24.530798274826193,33.047945777939425,17.506797032464615,14.915494123154355,10.572537927702683],\"type\":\"scatter3d\"}],                        {\"template\":{\"data\":{\"histogram2dcontour\":[{\"type\":\"histogram2dcontour\",\"colorbar\":{\"outlinewidth\":0,\"ticks\":\"\"},\"colorscale\":[[0.0,\"#0d0887\"],[0.1111111111111111,\"#46039f\"],[0.2222222222222222,\"#7201a8\"],[0.3333333333333333,\"#9c179e\"],[0.4444444444444444,\"#bd3786\"],[0.5555555555555556,\"#d8576b\"],[0.6666666666666666,\"#ed7953\"],[0.7777777777777778,\"#fb9f3a\"],[0.8888888888888888,\"#fdca26\"],[1.0,\"#f0f921\"]]}],\"choropleth\":[{\"type\":\"choropleth\",\"colorbar\":{\"outlinewidth\":0,\"ticks\":\"\"}}],\"histogram2d\":[{\"type\":\"histogram2d\",\"colorbar\":{\"outlinewidth\":0,\"ticks\":\"\"},\"colorscale\":[[0.0,\"#0d0887\"],[0.1111111111111111,\"#46039f\"],[0.2222222222222222,\"#7201a8\"],[0.3333333333333333,\"#9c179e\"],[0.4444444444444444,\"#bd3786\"],[0.5555555555555556,\"#d8576b\"],[0.6666666666666666,\"#ed7953\"],[0.7777777777777778,\"#fb9f3a\"],[0.8888888888888888,\"#fdca26\"],[1.0,\"#f0f921\"]]}],\"heatmap\":[{\"type\":\"heatmap\",\"colorbar\":{\"outlinewidth\":0,\"ticks\":\"\"},\"colorscale\":[[0.0,\"#0d0887\"],[0.1111111111111111,\"#46039f\"],[0.2222222222222222,\"#7201a8\"],[0.3333333333333333,\"#9c179e\"],[0.4444444444444444,\"#bd3786\"],[0.5555555555555556,\"#d8576b\"],[0.6666666666666666,\"#ed7953\"],[0.7777777777777778,\"#fb9f3a\"],[0.8888888888888888,\"#fdca26\"],[1.0,\"#f0f921\"]]}],\"heatmapgl\":[{\"type\":\"heatmapgl\",\"colorbar\":{\"outlinewidth\":0,\"ticks\":\"\"},\"colorscale\":[[0.0,\"#0d0887\"],[0.1111111111111111,\"#46039f\"],[0.2222222222222222,\"#7201a8\"],[0.3333333333333333,\"#9c179e\"],[0.4444444444444444,\"#bd3786\"],[0.5555555555555556,\"#d8576b\"],[0.6666666666666666,\"#ed7953\"],[0.7777777777777778,\"#fb9f3a\"],[0.8888888888888888,\"#fdca26\"],[1.0,\"#f0f921\"]]}],\"contourcarpet\":[{\"type\":\"contourcarpet\",\"colorbar\":{\"outlinewidth\":0,\"ticks\":\"\"}}],\"contour\":[{\"type\":\"contour\",\"colorbar\":{\"outlinewidth\":0,\"ticks\":\"\"},\"colorscale\":[[0.0,\"#0d0887\"],[0.1111111111111111,\"#46039f\"],[0.2222222222222222,\"#7201a8\"],[0.3333333333333333,\"#9c179e\"],[0.4444444444444444,\"#bd3786\"],[0.5555555555555556,\"#d8576b\"],[0.6666666666666666,\"#ed7953\"],[0.7777777777777778,\"#fb9f3a\"],[0.8888888888888888,\"#fdca26\"],[1.0,\"#f0f921\"]]}],\"surface\":[{\"type\":\"surface\",\"colorbar\":{\"outlinewidth\":0,\"ticks\":\"\"},\"colorscale\":[[0.0,\"#0d0887\"],[0.1111111111111111,\"#46039f\"],[0.2222222222222222,\"#7201a8\"],[0.3333333333333333,\"#9c179e\"],[0.4444444444444444,\"#bd3786\"],[0.5555555555555556,\"#d8576b\"],[0.6666666666666666,\"#ed7953\"],[0.7777777777777778,\"#fb9f3a\"],[0.8888888888888888,\"#fdca26\"],[1.0,\"#f0f921\"]]}],\"mesh3d\":[{\"type\":\"mesh3d\",\"colorbar\":{\"outlinewidth\":0,\"ticks\":\"\"}}],\"scatter\":[{\"fillpattern\":{\"fillmode\":\"overlay\",\"size\":10,\"solidity\":0.2},\"type\":\"scatter\"}],\"parcoords\":[{\"type\":\"parcoords\",\"line\":{\"colorbar\":{\"outlinewidth\":0,\"ticks\":\"\"}}}],\"scatterpolargl\":[{\"type\":\"scatterpolargl\",\"marker\":{\"colorbar\":{\"outlinewidth\":0,\"ticks\":\"\"}}}],\"bar\":[{\"error_x\":{\"color\":\"#2a3f5f\"},\"error_y\":{\"color\":\"#2a3f5f\"},\"marker\":{\"line\":{\"color\":\"#E5ECF6\",\"width\":0.5},\"pattern\":{\"fillmode\":\"overlay\",\"size\":10,\"solidity\":0.2}},\"type\":\"bar\"}],\"scattergeo\":[{\"type\":\"scattergeo\",\"marker\":{\"colorbar\":{\"outlinewidth\":0,\"ticks\":\"\"}}}],\"scatterpolar\":[{\"type\":\"scatterpolar\",\"marker\":{\"colorbar\":{\"outlinewidth\":0,\"ticks\":\"\"}}}],\"histogram\":[{\"marker\":{\"pattern\":{\"fillmode\":\"overlay\",\"size\":10,\"solidity\":0.2}},\"type\":\"histogram\"}],\"scattergl\":[{\"type\":\"scattergl\",\"marker\":{\"colorbar\":{\"outlinewidth\":0,\"ticks\":\"\"}}}],\"scatter3d\":[{\"type\":\"scatter3d\",\"line\":{\"colorbar\":{\"outlinewidth\":0,\"ticks\":\"\"}},\"marker\":{\"colorbar\":{\"outlinewidth\":0,\"ticks\":\"\"}}}],\"scattermapbox\":[{\"type\":\"scattermapbox\",\"marker\":{\"colorbar\":{\"outlinewidth\":0,\"ticks\":\"\"}}}],\"scatterternary\":[{\"type\":\"scatterternary\",\"marker\":{\"colorbar\":{\"outlinewidth\":0,\"ticks\":\"\"}}}],\"scattercarpet\":[{\"type\":\"scattercarpet\",\"marker\":{\"colorbar\":{\"outlinewidth\":0,\"ticks\":\"\"}}}],\"carpet\":[{\"aaxis\":{\"endlinecolor\":\"#2a3f5f\",\"gridcolor\":\"white\",\"linecolor\":\"white\",\"minorgridcolor\":\"white\",\"startlinecolor\":\"#2a3f5f\"},\"baxis\":{\"endlinecolor\":\"#2a3f5f\",\"gridcolor\":\"white\",\"linecolor\":\"white\",\"minorgridcolor\":\"white\",\"startlinecolor\":\"#2a3f5f\"},\"type\":\"carpet\"}],\"table\":[{\"cells\":{\"fill\":{\"color\":\"#EBF0F8\"},\"line\":{\"color\":\"white\"}},\"header\":{\"fill\":{\"color\":\"#C8D4E3\"},\"line\":{\"color\":\"white\"}},\"type\":\"table\"}],\"barpolar\":[{\"marker\":{\"line\":{\"color\":\"#E5ECF6\",\"width\":0.5},\"pattern\":{\"fillmode\":\"overlay\",\"size\":10,\"solidity\":0.2}},\"type\":\"barpolar\"}],\"pie\":[{\"automargin\":true,\"type\":\"pie\"}]},\"layout\":{\"autotypenumbers\":\"strict\",\"colorway\":[\"#636efa\",\"#EF553B\",\"#00cc96\",\"#ab63fa\",\"#FFA15A\",\"#19d3f3\",\"#FF6692\",\"#B6E880\",\"#FF97FF\",\"#FECB52\"],\"font\":{\"color\":\"#2a3f5f\"},\"hovermode\":\"closest\",\"hoverlabel\":{\"align\":\"left\"},\"paper_bgcolor\":\"white\",\"plot_bgcolor\":\"#E5ECF6\",\"polar\":{\"bgcolor\":\"#E5ECF6\",\"angularaxis\":{\"gridcolor\":\"white\",\"linecolor\":\"white\",\"ticks\":\"\"},\"radialaxis\":{\"gridcolor\":\"white\",\"linecolor\":\"white\",\"ticks\":\"\"}},\"ternary\":{\"bgcolor\":\"#E5ECF6\",\"aaxis\":{\"gridcolor\":\"white\",\"linecolor\":\"white\",\"ticks\":\"\"},\"baxis\":{\"gridcolor\":\"white\",\"linecolor\":\"white\",\"ticks\":\"\"},\"caxis\":{\"gridcolor\":\"white\",\"linecolor\":\"white\",\"ticks\":\"\"}},\"coloraxis\":{\"colorbar\":{\"outlinewidth\":0,\"ticks\":\"\"}},\"colorscale\":{\"sequential\":[[0.0,\"#0d0887\"],[0.1111111111111111,\"#46039f\"],[0.2222222222222222,\"#7201a8\"],[0.3333333333333333,\"#9c179e\"],[0.4444444444444444,\"#bd3786\"],[0.5555555555555556,\"#d8576b\"],[0.6666666666666666,\"#ed7953\"],[0.7777777777777778,\"#fb9f3a\"],[0.8888888888888888,\"#fdca26\"],[1.0,\"#f0f921\"]],\"sequentialminus\":[[0.0,\"#0d0887\"],[0.1111111111111111,\"#46039f\"],[0.2222222222222222,\"#7201a8\"],[0.3333333333333333,\"#9c179e\"],[0.4444444444444444,\"#bd3786\"],[0.5555555555555556,\"#d8576b\"],[0.6666666666666666,\"#ed7953\"],[0.7777777777777778,\"#fb9f3a\"],[0.8888888888888888,\"#fdca26\"],[1.0,\"#f0f921\"]],\"diverging\":[[0,\"#8e0152\"],[0.1,\"#c51b7d\"],[0.2,\"#de77ae\"],[0.3,\"#f1b6da\"],[0.4,\"#fde0ef\"],[0.5,\"#f7f7f7\"],[0.6,\"#e6f5d0\"],[0.7,\"#b8e186\"],[0.8,\"#7fbc41\"],[0.9,\"#4d9221\"],[1,\"#276419\"]]},\"xaxis\":{\"gridcolor\":\"white\",\"linecolor\":\"white\",\"ticks\":\"\",\"title\":{\"standoff\":15},\"zerolinecolor\":\"white\",\"automargin\":true,\"zerolinewidth\":2},\"yaxis\":{\"gridcolor\":\"white\",\"linecolor\":\"white\",\"ticks\":\"\",\"title\":{\"standoff\":15},\"zerolinecolor\":\"white\",\"automargin\":true,\"zerolinewidth\":2},\"scene\":{\"xaxis\":{\"backgroundcolor\":\"#E5ECF6\",\"gridcolor\":\"white\",\"linecolor\":\"white\",\"showbackground\":true,\"ticks\":\"\",\"zerolinecolor\":\"white\",\"gridwidth\":2},\"yaxis\":{\"backgroundcolor\":\"#E5ECF6\",\"gridcolor\":\"white\",\"linecolor\":\"white\",\"showbackground\":true,\"ticks\":\"\",\"zerolinecolor\":\"white\",\"gridwidth\":2},\"zaxis\":{\"backgroundcolor\":\"#E5ECF6\",\"gridcolor\":\"white\",\"linecolor\":\"white\",\"showbackground\":true,\"ticks\":\"\",\"zerolinecolor\":\"white\",\"gridwidth\":2}},\"shapedefaults\":{\"line\":{\"color\":\"#2a3f5f\"}},\"annotationdefaults\":{\"arrowcolor\":\"#2a3f5f\",\"arrowhead\":0,\"arrowwidth\":1},\"geo\":{\"bgcolor\":\"white\",\"landcolor\":\"#E5ECF6\",\"subunitcolor\":\"white\",\"showland\":true,\"showlakes\":true,\"lakecolor\":\"white\"},\"title\":{\"x\":0.05},\"mapbox\":{\"style\":\"light\"}}},\"scene\":{\"domain\":{\"x\":[0.0,1.0],\"y\":[0.0,1.0]},\"xaxis\":{\"title\":{\"text\":\"x\"}},\"yaxis\":{\"title\":{\"text\":\"y\"}},\"zaxis\":{\"title\":{\"text\":\"z\"}}},\"legend\":{\"tracegroupgap\":0},\"margin\":{\"t\":60}},                        {\"responsive\": true}                    ).then(function(){\n",
              "                            \n",
              "var gd = document.getElementById('70335458-fb4f-4ee5-9597-80bca13bf49b');\n",
              "var x = new MutationObserver(function (mutations, observer) {{\n",
              "        var display = window.getComputedStyle(gd).display;\n",
              "        if (!display || display === 'none') {{\n",
              "            console.log([gd, 'removed!']);\n",
              "            Plotly.purge(gd);\n",
              "            observer.disconnect();\n",
              "        }}\n",
              "}});\n",
              "\n",
              "// Listen for the removal of the full notebook cells\n",
              "var notebookContainer = gd.closest('#notebook-container');\n",
              "if (notebookContainer) {{\n",
              "    x.observe(notebookContainer, {childList: true});\n",
              "}}\n",
              "\n",
              "// Listen for the clearing of the current output cell\n",
              "var outputEl = gd.closest('.output');\n",
              "if (outputEl) {{\n",
              "    x.observe(outputEl, {childList: true});\n",
              "}}\n",
              "\n",
              "                        })                };                            </script>        </div>\n",
              "</body>\n",
              "</html>"
            ]
          },
          "metadata": {}
        }
      ]
    },
    {
      "cell_type": "markdown",
      "source": [
        "This code generates a 3D scatter plot using Plotly Express to visualize data. Here's how it works, along with the role of each argument:\n",
        "\n",
        "1. `import plotly.express as px`: Import the Plotly Express library with the alias `px`.\n",
        "\n",
        "2. `df = px.data.iris()`: Load the Iris dataset provided by Plotly Express into a DataFrame called `df`. This dataset contains information about different species of iris flowers, including their petal and sepal measurements.\n",
        "\n",
        "3. Define the coordinates for the 3D scatter plot:\n",
        "   - `x`, `y`, and `z` are arrays that define the coordinates in 3D space. These arrays should be previously defined or replaced with appropriate data. In the code snippet you provided, it seems that `x`, `y`, and `z` are being flattened (`ravel()`) arrays or variables. These variables determine where the data points will be placed along the x, y, and z axes in the 3D plot.\n",
        "\n",
        "4. `fig = px.scatter_3d(df, x=x, y=y, z=z)`: Create the 3D scatter plot using Plotly Express. This line of code:\n",
        "   - Specifies the DataFrame `df` as the data source for the plot.\n",
        "   - Sets the x, y, and z coordinates of the data points based on the values in the `x`, `y`, and `z` arrays or variables.\n",
        "   - `px.scatter_3d` is a function from Plotly Express that creates a 3D scatter plot, and `fig` is assigned as the figure object that holds this plot.\n",
        "\n",
        "5. `fig.show()`: Display the 3D scatter plot. This line of code shows the plot that was created using `fig`.\n",
        "\n",
        "In summary, this code snippet generates a 3D scatter plot using Plotly Express. It loads data from the Iris dataset, defines the x, y, and z coordinates for the plot, and then displays the resulting 3D scatter plot. The role of each argument is to specify the data, coordinates, and other plot settings to create the visualization."
      ],
      "metadata": {
        "id": "UhwSSAXx3T55"
      },
      "id": "UhwSSAXx3T55"
    },
    {
      "cell_type": "code",
      "source": [
        "# Create a LinearRegression model instance.\n",
        "lr = LinearRegression()\n",
        "\n",
        "# Fit the LinearRegression model using the provided data.\n",
        "# The input data is reshaped to (100, 2), where the first column represents 'x' values and the second column represents 'y' values.\n",
        "# The 'z' variable represents the target variable.\n",
        "lr.fit(np.array([x, y]).reshape(100, 2), z)\n",
        "\n",
        "# Generate 'x_input' and 'y_input' values that evenly span the range of 'x' and 'y' values.\n",
        "# Here, you are preparing a grid of input points to make predictions.\n",
        "x_input = np.linspace(x.min(), x.max(), 10)\n",
        "y_input = np.linspace(y.min(), y.max(), 10)\n",
        "\n",
        "# Create a 2D grid of 'x_input' and 'y_input' values using 'meshgrid'.\n",
        "# This creates two 2D arrays, 'xGrid' and 'yGrid', representing all possible combinations of 'x' and 'y' input values.\n",
        "xGrid, yGrid = np.meshgrid(x_input, y_input)\n",
        "\n",
        "# Stack the flattened versions of 'xGrid' and 'yGrid' to create a 2D array 'final'.\n",
        "# Each row of 'final' represents a combination of 'x' and 'y' input values for prediction.\n",
        "final = np.vstack((xGrid.ravel().reshape(1, 100), yGrid.ravel().reshape(1, 100))).T\n",
        "\n",
        "# Use the trained LinearRegression model to predict 'z' values for the input combinations in 'final'.\n",
        "# The result is reshaped into a 2D array 'z_final' with a shape of (10, 10) to match the 'xGrid' and 'yGrid' dimensions.\n",
        "z_final = lr.predict(final).reshape(10, 10)\n"
      ],
      "metadata": {
        "id": "qWNrbRFIsgFI"
      },
      "id": "qWNrbRFIsgFI",
      "execution_count": 39,
      "outputs": []
    },
    {
      "cell_type": "markdown",
      "source": [
        "The line `xGrid, yGrid = np.meshgrid(x_input, y_input)` will create two 2D grids, `xGrid` and `yGrid`, using the input arrays `x_input` and `y_input`. These grids represent all possible combinations of 'x' and 'y' values on a 2D plane.\n",
        "\n",
        "Here's a breakdown of what happens:\n",
        "\n",
        "- `x_input` and `y_input` are assumed to be 1D arrays containing a set of 'x' and 'y' values, respectively.\n",
        "\n",
        "- `np.meshgrid(x_input, y_input)` takes these two 1D arrays and returns two 2D arrays:\n",
        "  - `xGrid`: This 2D array contains repeated 'x_input' values along its rows. Each row of `xGrid` corresponds to the same 'x' value, and the values in each row span the entire range of 'y' values.\n",
        "  - `yGrid`: This 2D array contains repeated 'y_input' values along its columns. Each column of `yGrid` corresponds to the same 'y' value, and the values in each column span the entire range of 'x' values.\n",
        "\n",
        "In essence, `xGrid` and `yGrid` represent a grid of points where each combination of 'x' and 'y' values from `x_input` and `y_input` is represented in a 2D fashion. These grids are commonly used for creating 3D surface plots or for performing operations involving every pair of 'x' and 'y' values from the input arrays."
      ],
      "metadata": {
        "id": "4XJGUjtZ-lZw"
      },
      "id": "4XJGUjtZ-lZw"
    },
    {
      "cell_type": "code",
      "source": [
        "np.array([x, y]).shape"
      ],
      "metadata": {
        "colab": {
          "base_uri": "https://localhost:8080/"
        },
        "id": "BBej2SeMCkaW",
        "outputId": "f9981a07-e865-4b90-f924-1b7b0b554359"
      },
      "id": "BBej2SeMCkaW",
      "execution_count": 52,
      "outputs": [
        {
          "output_type": "execute_result",
          "data": {
            "text/plain": [
              "(2, 100)"
            ]
          },
          "metadata": {},
          "execution_count": 52
        }
      ]
    },
    {
      "cell_type": "code",
      "source": [
        "np.array([x, y]).reshape(100, 2)"
      ],
      "metadata": {
        "id": "HGSAz8-I8Kt3"
      },
      "id": "HGSAz8-I8Kt3",
      "execution_count": null,
      "outputs": []
    },
    {
      "cell_type": "code",
      "source": [
        "(7 * np.random.rand(100, 1) - 2.8).shape"
      ],
      "metadata": {
        "colab": {
          "base_uri": "https://localhost:8080/"
        },
        "id": "nYbfK04e8jib",
        "outputId": "0411cfa3-f3a8-42c1-f5f5-a2f1c8a86c3a"
      },
      "id": "nYbfK04e8jib",
      "execution_count": 47,
      "outputs": [
        {
          "output_type": "execute_result",
          "data": {
            "text/plain": [
              "(100, 1)"
            ]
          },
          "metadata": {},
          "execution_count": 47
        }
      ]
    },
    {
      "cell_type": "code",
      "source": [
        "x.shape"
      ],
      "metadata": {
        "colab": {
          "base_uri": "https://localhost:8080/"
        },
        "id": "KpM6NjEf6YVk",
        "outputId": "43121aaf-f0ba-4f29-aa3d-24a7535de19f"
      },
      "id": "KpM6NjEf6YVk",
      "execution_count": 48,
      "outputs": [
        {
          "output_type": "execute_result",
          "data": {
            "text/plain": [
              "(100,)"
            ]
          },
          "metadata": {},
          "execution_count": 48
        }
      ]
    },
    {
      "cell_type": "code",
      "source": [
        "x_input.shape"
      ],
      "metadata": {
        "colab": {
          "base_uri": "https://localhost:8080/"
        },
        "id": "Fjyh-N0_49uS",
        "outputId": "dfd23481-c627-4ced-c585-7c2d61a2f44d"
      },
      "id": "Fjyh-N0_49uS",
      "execution_count": 49,
      "outputs": [
        {
          "output_type": "execute_result",
          "data": {
            "text/plain": [
              "(10,)"
            ]
          },
          "metadata": {},
          "execution_count": 49
        }
      ]
    },
    {
      "cell_type": "code",
      "source": [
        "xGrid.shape"
      ],
      "metadata": {
        "colab": {
          "base_uri": "https://localhost:8080/"
        },
        "id": "oKDZTdwb4eXW",
        "outputId": "b6e54f5f-0c23-4690-9956-867aa1677b6c"
      },
      "id": "oKDZTdwb4eXW",
      "execution_count": 50,
      "outputs": [
        {
          "output_type": "execute_result",
          "data": {
            "text/plain": [
              "(10, 10)"
            ]
          },
          "metadata": {},
          "execution_count": 50
        }
      ]
    },
    {
      "cell_type": "code",
      "source": [
        "final"
      ],
      "metadata": {
        "id": "GJpWXaHR5z94"
      },
      "id": "GJpWXaHR5z94",
      "execution_count": null,
      "outputs": []
    },
    {
      "cell_type": "markdown",
      "source": [
        "The provided code generates a 3D surface plot using a Linear Regression model to predict `z` values based on `x` and `y` input data. Let's break down how this plot is generated and the role of each argument:\n",
        "\n",
        "1. `lr = LinearRegression()`: This line creates an instance of the `LinearRegression` model. `lr` will be used to fit the linear regression model to the provided data.\n",
        "\n",
        "2. `lr.fit(np.array([x, y]).reshape(100, 2), z)`: Here, the linear regression model (`lr`) is fitted using the provided data.\n",
        "   - `np.array([x, y]).reshape(100, 2)` is used to create a 2D array where the first column represents 'x' values, the second column represents 'y' values, and there are 100 data points in total.\n",
        "   - `z` represents the target variable that we want to predict based on 'x' and 'y'.\n",
        "\n",
        "3. `x_input = np.linspace(x.min(), x.max(), 10)`: This line generates evenly spaced `x` input values (`x_input`) that span the range of the original 'x' values. It creates 10 values.\n",
        "\n",
        "4. `y_input = np.linspace(y.min(), y.max(), 10)`: Similar to the previous line, this generates evenly spaced `y` input values (`y_input`) that span the range of the original 'y' values.\n",
        "\n",
        "5. `xGrid, yGrid = np.meshgrid(x_input, y_input)`: Here, `meshgrid` is used to create a 2D grid of input values.\n",
        "   - `xGrid` and `yGrid` are 2D arrays that represent all possible combinations of 'x' and 'y' input values. `xGrid` varies only in the 'x' direction, while `yGrid` varies only in the 'y' direction.\n",
        "\n",
        "6. `np.vstack((xGrid.ravel().reshape(1, 100), yGrid.ravel().reshape(1, 100))).T`: This line stacks the flattened versions of `xGrid` and `yGrid` to create a 2D array `final`.\n",
        "   - `xGrid.ravel()` and `yGrid.ravel()` flatten the 2D arrays into 1D arrays.\n",
        "   - The flattened arrays are stacked vertically using `np.vstack`.\n",
        "   - `.reshape(1, 100)` reshapes the stacked array into the desired shape where each row represents a combination of 'x' and 'y' input values.\n",
        "   - `.T` transposes the array to match the dimensions expected by the linear regression model.\n",
        "\n",
        "7. `z_final = lr.predict(final).reshape(10, 10)`: Here, the trained linear regression model (`lr`) is used to predict `z` values for the input combinations in `final`.\n",
        "   - `lr.predict(final)` computes the predicted `z` values.\n",
        "   - `.reshape(10, 10)` reshapes the predicted values into a 2D array `z_final` with dimensions (10, 10) to match the `xGrid` and `yGrid` dimensions.\n",
        "\n",
        "8. Finally, `z_final` contains the predicted `z` values for each combination of 'x' and 'y' input values. This `z_final` data is used to create the 3D surface plot in the subsequent part of your code.\n",
        "\n",
        "Overall, this code prepares the input data, fits a linear regression model, generates a grid of input values for prediction, and computes the predicted `z` values for each combination of 'x' and 'y'. The result is a 3D surface plot representing the relationship between 'x', 'y', and 'z' based on the linear regression model's predictions."
      ],
      "metadata": {
        "id": "GrbtSbAk4Pam"
      },
      "id": "GrbtSbAk4Pam"
    },
    {
      "cell_type": "code",
      "source": [
        "# Import the necessary library for creating 3D plots using Plotly\n",
        "import plotly.graph_objects as go\n",
        "\n",
        "# Create a 3D scatter plot using Plotly Express (px) with your DataFrame 'df'\n",
        "# x, y, and z are assumed to be numpy arrays or lists containing your data\n",
        "fig = px.scatter_3d(df, x=x.ravel(), y=y.ravel(), z=z.ravel())\n",
        "\n",
        "# Add a 3D surface plot to the existing scatter plot\n",
        "# x_input, y_input, and z_final are assumed to be numpy arrays or lists containing data\n",
        "fig.add_trace(go.Surface(x=x_input, y=y_input, z=z_final))\n",
        "\n",
        "# Display the combined 3D plot\n",
        "fig.show()\n"
      ],
      "metadata": {
        "colab": {
          "base_uri": "https://localhost:8080/",
          "height": 542
        },
        "id": "wA4liR7NtMdU",
        "outputId": "67c31ac2-29ca-4783-d246-72396a09cc5d"
      },
      "id": "wA4liR7NtMdU",
      "execution_count": 54,
      "outputs": [
        {
          "output_type": "display_data",
          "data": {
            "text/html": [
              "<html>\n",
              "<head><meta charset=\"utf-8\" /></head>\n",
              "<body>\n",
              "    <div>            <script src=\"https://cdnjs.cloudflare.com/ajax/libs/mathjax/2.7.5/MathJax.js?config=TeX-AMS-MML_SVG\"></script><script type=\"text/javascript\">if (window.MathJax && window.MathJax.Hub && window.MathJax.Hub.Config) {window.MathJax.Hub.Config({SVG: {font: \"STIX-Web\"}});}</script>                <script type=\"text/javascript\">window.PlotlyConfig = {MathJaxConfig: 'local'};</script>\n",
              "        <script charset=\"utf-8\" src=\"https://cdn.plot.ly/plotly-2.24.1.min.js\"></script>                <div id=\"39e58333-9b30-49e7-8dce-21e6f766fea3\" class=\"plotly-graph-div\" style=\"height:525px; width:100%;\"></div>            <script type=\"text/javascript\">                                    window.PLOTLYENV=window.PLOTLYENV || {};                                    if (document.getElementById(\"39e58333-9b30-49e7-8dce-21e6f766fea3\")) {                    Plotly.newPlot(                        \"39e58333-9b30-49e7-8dce-21e6f766fea3\",                        [{\"hovertemplate\":\"x=%{x}\\u003cbr\\u003ey=%{y}\\u003cbr\\u003ez=%{z}\\u003cextra\\u003e\\u003c\\u002fextra\\u003e\",\"legendgroup\":\"\",\"marker\":{\"color\":\"#636efa\",\"symbol\":\"circle\"},\"mode\":\"markers\",\"name\":\"\",\"scene\":\"scene\",\"showlegend\":false,\"x\":[-2.2565493702579715,-1.9911799432792756,2.1306495616411363,3.4440102058203754,0.003472815918891481,-2.6630879510525123,-1.1547555320156242,-2.2436509332223147,3.8647391835825182,-2.3783877724285496,3.005544278417558,-0.8020771554360668,2.994644012080361,1.0069565595507028,3.565030397145552,1.6777352935171388,2.7784978490554124,2.4040442701341567,-0.1278007591903192,3.9050293152841515,2.319807427837679,2.627342810143084,2.3551335903999915,-1.825633853923038,2.93105964856991,-0.9269736353274216,1.9923691969487916,1.4836104158468775,2.237797752861967,-0.9559568881566256,-2.3855076599771063,-2.5343530653707154,-0.0839488329020126,-2.441414579128979,3.3583934460091234,-0.07439698618674395,3.790536707852014,-1.4028762272091,2.7086945565130645,3.150833657110768,-0.46254338242952064,-1.3492993522599968,-0.35266564131214695,2.3268573604208056,3.879830144337486,0.6041623976339556,2.7797700342435823,1.143761330451175,-2.1488067284587506,-1.6374557405359216,2.647119574414747,-1.6907611194903964,-1.1333807289143416,-1.8838083963317525,-1.2245236857535096,1.4609505131365648,2.4188225013430467,2.9620493856367363,1.5142119769258935,-0.2159995467114193,0.3215378699512641,-0.6757497239141994,-1.5242226915279313,2.0371528290169296,0.4648077063342515,1.8217557673076552,-1.4077010309679547,0.14701921885034874,2.825702320661267,3.5474494977913578,-0.9574269440018823,3.847596722547215,-1.3271328608322184,1.3419969199632495,2.9842616090738083,-2.4138370509621336,-0.5630666151368393,4.181079066255451,2.635038437146667,-2.1656053093397856,3.0856612373338264,-0.18448388596844723,0.5709112992165273,4.075636292126513,-2.0755781403991946,1.6397337734338766,2.9646457988836676,-1.9958678256098517,3.041414226587621,-1.1674915439766111,-1.2952695141006667,-0.8280104452002894,-1.5280253739454537,3.8668944289677016,3.5425190750715556,2.555411658955437,3.7852343658613483,3.137108036265815,-1.794823323553869,2.68984334716486],\"y\":[-1.2941071106065667,1.5459006087300082,-0.048145824925610814,2.344742531094547,3.869762980445632,0.2626302269839025,-1.1059726613133911,-0.5831146479705871,-2.2793590367526306,-2.680074081647381,-2.50958634713042,-1.9731146590292887,-1.2128663650381073,2.2682144040793757,1.4559130821078377,-2.4457365885659965,-1.4090957039406158,-1.4171107192156982,4.095667976384125,3.179109963329007,0.06823464086763975,2.6074452949828126,1.6943651371532846,0.17193337740004822,-2.5241783868500245,3.4080974419963495,2.724229184172116,3.039795669685253,-0.16644302811719403,-1.2440904067040224,0.7365515884749452,0.9940078845643874,-2.2377769790097397,-0.509747812936757,1.0926033354308506,-2.5953776057579274,2.6027345994162454,0.6004619982279822,2.659312078950263,-0.24855545693247816,2.7849060838588464,0.3341161529823964,3.4878247126009176,1.0054285349496372,3.338452196318647,0.7268254886834606,2.147175903916893,4.047194314952773,-0.550797957525234,-0.8514391172471032,-1.3422874536078684,0.5971349471962801,-0.3224291851840575,-0.3948653616012652,-0.5276477486559097,3.518848971162778,2.7942915542725517,2.163831617715908,0.518656988064842,0.20946402037826317,-2.6935170396119323,1.0492115160109896,-1.2220951523814814,-0.3268895815425461,0.45117104235211425,1.8710606320982217,0.49742798647231945,4.130583904133288,0.894317576799514,-0.06611804878642902,-1.2402215853199707,-0.6864663357336909,3.2596968883154966,1.3615762894117607,2.513145999381856,-2.380331341895483,4.166363888944123,-0.747343612645305,1.7188033349591327,-0.7229807120353224,-0.9231104514855017,-1.226751601384045,1.4684443904043922,-0.7347167361045641,-0.018738346062523004,3.546705215935307,0.9102776099750503,3.4717532893498158,0.8491626267163741,-0.5782881545097744,2.2201643969402305,1.6282969637434972,2.7302458831792915,0.7029415882413512,2.7810731770386035,3.8017326392708295,3.8337951459732267,-2.5749415310568997,3.419039942293969,-0.7852095428002972],\"z\":[9.551543449393064,6.484447206526889,7.107139546412305,22.165788828164036,17.083619957424354,9.199792965491008,4.590850211715685,5.539858223393993,21.62428839504052,14.420046955380295,15.14620430263813,6.380065248761938,13.63161748717538,7.904383272448951,20.412799409936078,11.21538355148844,12.008416921341663,9.317035287628094,18.837227132845946,28.717781290043597,8.359376409789135,18.009708943259742,11.077305962316768,4.93046544499954,16.726902782148954,13.512367778174653,17.19837002210403,15.587742427933835,7.055298173014607,3.5540902254973137,7.772004005730009,11.289170902255897,5.800645305490974,6.78177808268895,15.303585655455292,7.461168903937473,26.6153026776571,5.2694288461641134,17.813975768943298,12.331369941012811,10.760402772456814,3.495203305566878,16.47339180825602,8.55687147776051,31.92373896844995,3.10672437341874,15.092734528765781,21.17369312173301,5.295173728537925,3.6290032546992004,8.511011628265383,7.068110211101915,6.370777249489806,5.73140490994996,2.7879209973067227,15.71821952390504,15.697220131033864,17.79205860594091,4.210750756424451,0.7242214170948795,8.430000314428924,3.474340737746576,5.824351107244199,6.288856361660105,0.8178227367126332,9.322152712648226,3.5259217273575514,19.628397566885145,12.02307245831734,14.759611008569058,4.141005139214653,16.810104532848413,14.085168205296695,6.798708917838142,20.34611682512159,14.501987084943194,19.41231183320753,19.7668930361422,13.177232559383569,5.872169162760358,12.704391982339736,2.905924366293469,5.70456048896918,19.682400887905324,5.611786404185917,18.486047843819055,10.917661966201635,16.830203836214725,14.514975942041028,3.5717810888550185,9.44154457450393,4.890078736729538,12.078019681118933,18.514643052410257,25.508818469227702,24.530798274826193,33.047945777939425,17.506797032464615,14.915494123154355,10.572537927702683],\"type\":\"scatter3d\"},{\"x\":[-2.6630879510525123,-1.9026249491294052,-1.142161947206298,-0.3816989452831909,0.3787640566399162,1.1392270585630233,1.8996900604861304,2.660153062409238,3.4206160643323447,4.181079066255451],\"y\":[-2.6935170396119323,-1.9313080475501483,-1.1690990554883645,-0.40689006342658063,0.3553189286352034,1.1175279206969875,1.879736912758771,2.641945904820555,3.404154896882339,4.166363888944123],\"z\":[[10.953270289580484,11.148223568619292,11.343176847658098,11.538130126696906,11.733083405735714,11.928036684774522,12.12298996381333,12.317943242852138,12.512896521890946,12.707849800929752],[10.975924427241727,11.170877706280535,11.365830985319343,11.560784264358151,11.75573754339696,11.950690822435767,12.145644101474575,12.340597380513383,12.53555065955219,12.730503938590997],[10.998578564902973,11.19353184394178,11.388485122980589,11.583438402019397,11.778391681058205,11.97334496009701,12.168298239135819,12.363251518174627,12.558204797213435,12.753158076252243],[11.021232702564218,11.216185981603026,11.411139260641832,11.60609253968064,11.801045818719448,11.995999097758256,12.190952376797064,12.385905655835872,12.58085893487468,12.775812213913486],[11.043886840225461,11.23884011926427,11.433793398303077,11.628746677341885,11.823699956380693,12.018653235419501,12.21360651445831,12.408559793497115,12.603513072535923,12.798466351574731],[11.066540977886707,11.261494256925515,11.456447535964323,11.65140081500313,11.846354094041939,12.041307373080745,12.236260652119553,12.43121393115836,12.626167210197169,12.821120489235977],[11.089195115547952,11.28414839458676,11.479101673625566,11.674054952664374,11.869008231703182,12.06396151074199,12.258914789780798,12.453868068819606,12.648821347858414,12.84377462689722],[11.111849253209195,11.306802532248003,11.501755811286811,11.69670909032562,11.891662369364427,12.086615648403235,12.281568927442043,12.476522206480851,12.671475485519657,12.866428764558465],[11.13450339087044,11.329456669909248,11.524409948948056,11.719363227986864,11.914316507025672,12.109269786064479,12.304223065103287,12.499176344142095,12.694129623180903,12.88908290221971],[11.157157528531686,11.352110807570494,11.5470640866093,11.742017365648108,11.936970644686916,12.131923923725724,12.326877202764532,12.52183048180334,12.716783760842148,12.911737039880954]],\"type\":\"surface\"}],                        {\"template\":{\"data\":{\"histogram2dcontour\":[{\"type\":\"histogram2dcontour\",\"colorbar\":{\"outlinewidth\":0,\"ticks\":\"\"},\"colorscale\":[[0.0,\"#0d0887\"],[0.1111111111111111,\"#46039f\"],[0.2222222222222222,\"#7201a8\"],[0.3333333333333333,\"#9c179e\"],[0.4444444444444444,\"#bd3786\"],[0.5555555555555556,\"#d8576b\"],[0.6666666666666666,\"#ed7953\"],[0.7777777777777778,\"#fb9f3a\"],[0.8888888888888888,\"#fdca26\"],[1.0,\"#f0f921\"]]}],\"choropleth\":[{\"type\":\"choropleth\",\"colorbar\":{\"outlinewidth\":0,\"ticks\":\"\"}}],\"histogram2d\":[{\"type\":\"histogram2d\",\"colorbar\":{\"outlinewidth\":0,\"ticks\":\"\"},\"colorscale\":[[0.0,\"#0d0887\"],[0.1111111111111111,\"#46039f\"],[0.2222222222222222,\"#7201a8\"],[0.3333333333333333,\"#9c179e\"],[0.4444444444444444,\"#bd3786\"],[0.5555555555555556,\"#d8576b\"],[0.6666666666666666,\"#ed7953\"],[0.7777777777777778,\"#fb9f3a\"],[0.8888888888888888,\"#fdca26\"],[1.0,\"#f0f921\"]]}],\"heatmap\":[{\"type\":\"heatmap\",\"colorbar\":{\"outlinewidth\":0,\"ticks\":\"\"},\"colorscale\":[[0.0,\"#0d0887\"],[0.1111111111111111,\"#46039f\"],[0.2222222222222222,\"#7201a8\"],[0.3333333333333333,\"#9c179e\"],[0.4444444444444444,\"#bd3786\"],[0.5555555555555556,\"#d8576b\"],[0.6666666666666666,\"#ed7953\"],[0.7777777777777778,\"#fb9f3a\"],[0.8888888888888888,\"#fdca26\"],[1.0,\"#f0f921\"]]}],\"heatmapgl\":[{\"type\":\"heatmapgl\",\"colorbar\":{\"outlinewidth\":0,\"ticks\":\"\"},\"colorscale\":[[0.0,\"#0d0887\"],[0.1111111111111111,\"#46039f\"],[0.2222222222222222,\"#7201a8\"],[0.3333333333333333,\"#9c179e\"],[0.4444444444444444,\"#bd3786\"],[0.5555555555555556,\"#d8576b\"],[0.6666666666666666,\"#ed7953\"],[0.7777777777777778,\"#fb9f3a\"],[0.8888888888888888,\"#fdca26\"],[1.0,\"#f0f921\"]]}],\"contourcarpet\":[{\"type\":\"contourcarpet\",\"colorbar\":{\"outlinewidth\":0,\"ticks\":\"\"}}],\"contour\":[{\"type\":\"contour\",\"colorbar\":{\"outlinewidth\":0,\"ticks\":\"\"},\"colorscale\":[[0.0,\"#0d0887\"],[0.1111111111111111,\"#46039f\"],[0.2222222222222222,\"#7201a8\"],[0.3333333333333333,\"#9c179e\"],[0.4444444444444444,\"#bd3786\"],[0.5555555555555556,\"#d8576b\"],[0.6666666666666666,\"#ed7953\"],[0.7777777777777778,\"#fb9f3a\"],[0.8888888888888888,\"#fdca26\"],[1.0,\"#f0f921\"]]}],\"surface\":[{\"type\":\"surface\",\"colorbar\":{\"outlinewidth\":0,\"ticks\":\"\"},\"colorscale\":[[0.0,\"#0d0887\"],[0.1111111111111111,\"#46039f\"],[0.2222222222222222,\"#7201a8\"],[0.3333333333333333,\"#9c179e\"],[0.4444444444444444,\"#bd3786\"],[0.5555555555555556,\"#d8576b\"],[0.6666666666666666,\"#ed7953\"],[0.7777777777777778,\"#fb9f3a\"],[0.8888888888888888,\"#fdca26\"],[1.0,\"#f0f921\"]]}],\"mesh3d\":[{\"type\":\"mesh3d\",\"colorbar\":{\"outlinewidth\":0,\"ticks\":\"\"}}],\"scatter\":[{\"fillpattern\":{\"fillmode\":\"overlay\",\"size\":10,\"solidity\":0.2},\"type\":\"scatter\"}],\"parcoords\":[{\"type\":\"parcoords\",\"line\":{\"colorbar\":{\"outlinewidth\":0,\"ticks\":\"\"}}}],\"scatterpolargl\":[{\"type\":\"scatterpolargl\",\"marker\":{\"colorbar\":{\"outlinewidth\":0,\"ticks\":\"\"}}}],\"bar\":[{\"error_x\":{\"color\":\"#2a3f5f\"},\"error_y\":{\"color\":\"#2a3f5f\"},\"marker\":{\"line\":{\"color\":\"#E5ECF6\",\"width\":0.5},\"pattern\":{\"fillmode\":\"overlay\",\"size\":10,\"solidity\":0.2}},\"type\":\"bar\"}],\"scattergeo\":[{\"type\":\"scattergeo\",\"marker\":{\"colorbar\":{\"outlinewidth\":0,\"ticks\":\"\"}}}],\"scatterpolar\":[{\"type\":\"scatterpolar\",\"marker\":{\"colorbar\":{\"outlinewidth\":0,\"ticks\":\"\"}}}],\"histogram\":[{\"marker\":{\"pattern\":{\"fillmode\":\"overlay\",\"size\":10,\"solidity\":0.2}},\"type\":\"histogram\"}],\"scattergl\":[{\"type\":\"scattergl\",\"marker\":{\"colorbar\":{\"outlinewidth\":0,\"ticks\":\"\"}}}],\"scatter3d\":[{\"type\":\"scatter3d\",\"line\":{\"colorbar\":{\"outlinewidth\":0,\"ticks\":\"\"}},\"marker\":{\"colorbar\":{\"outlinewidth\":0,\"ticks\":\"\"}}}],\"scattermapbox\":[{\"type\":\"scattermapbox\",\"marker\":{\"colorbar\":{\"outlinewidth\":0,\"ticks\":\"\"}}}],\"scatterternary\":[{\"type\":\"scatterternary\",\"marker\":{\"colorbar\":{\"outlinewidth\":0,\"ticks\":\"\"}}}],\"scattercarpet\":[{\"type\":\"scattercarpet\",\"marker\":{\"colorbar\":{\"outlinewidth\":0,\"ticks\":\"\"}}}],\"carpet\":[{\"aaxis\":{\"endlinecolor\":\"#2a3f5f\",\"gridcolor\":\"white\",\"linecolor\":\"white\",\"minorgridcolor\":\"white\",\"startlinecolor\":\"#2a3f5f\"},\"baxis\":{\"endlinecolor\":\"#2a3f5f\",\"gridcolor\":\"white\",\"linecolor\":\"white\",\"minorgridcolor\":\"white\",\"startlinecolor\":\"#2a3f5f\"},\"type\":\"carpet\"}],\"table\":[{\"cells\":{\"fill\":{\"color\":\"#EBF0F8\"},\"line\":{\"color\":\"white\"}},\"header\":{\"fill\":{\"color\":\"#C8D4E3\"},\"line\":{\"color\":\"white\"}},\"type\":\"table\"}],\"barpolar\":[{\"marker\":{\"line\":{\"color\":\"#E5ECF6\",\"width\":0.5},\"pattern\":{\"fillmode\":\"overlay\",\"size\":10,\"solidity\":0.2}},\"type\":\"barpolar\"}],\"pie\":[{\"automargin\":true,\"type\":\"pie\"}]},\"layout\":{\"autotypenumbers\":\"strict\",\"colorway\":[\"#636efa\",\"#EF553B\",\"#00cc96\",\"#ab63fa\",\"#FFA15A\",\"#19d3f3\",\"#FF6692\",\"#B6E880\",\"#FF97FF\",\"#FECB52\"],\"font\":{\"color\":\"#2a3f5f\"},\"hovermode\":\"closest\",\"hoverlabel\":{\"align\":\"left\"},\"paper_bgcolor\":\"white\",\"plot_bgcolor\":\"#E5ECF6\",\"polar\":{\"bgcolor\":\"#E5ECF6\",\"angularaxis\":{\"gridcolor\":\"white\",\"linecolor\":\"white\",\"ticks\":\"\"},\"radialaxis\":{\"gridcolor\":\"white\",\"linecolor\":\"white\",\"ticks\":\"\"}},\"ternary\":{\"bgcolor\":\"#E5ECF6\",\"aaxis\":{\"gridcolor\":\"white\",\"linecolor\":\"white\",\"ticks\":\"\"},\"baxis\":{\"gridcolor\":\"white\",\"linecolor\":\"white\",\"ticks\":\"\"},\"caxis\":{\"gridcolor\":\"white\",\"linecolor\":\"white\",\"ticks\":\"\"}},\"coloraxis\":{\"colorbar\":{\"outlinewidth\":0,\"ticks\":\"\"}},\"colorscale\":{\"sequential\":[[0.0,\"#0d0887\"],[0.1111111111111111,\"#46039f\"],[0.2222222222222222,\"#7201a8\"],[0.3333333333333333,\"#9c179e\"],[0.4444444444444444,\"#bd3786\"],[0.5555555555555556,\"#d8576b\"],[0.6666666666666666,\"#ed7953\"],[0.7777777777777778,\"#fb9f3a\"],[0.8888888888888888,\"#fdca26\"],[1.0,\"#f0f921\"]],\"sequentialminus\":[[0.0,\"#0d0887\"],[0.1111111111111111,\"#46039f\"],[0.2222222222222222,\"#7201a8\"],[0.3333333333333333,\"#9c179e\"],[0.4444444444444444,\"#bd3786\"],[0.5555555555555556,\"#d8576b\"],[0.6666666666666666,\"#ed7953\"],[0.7777777777777778,\"#fb9f3a\"],[0.8888888888888888,\"#fdca26\"],[1.0,\"#f0f921\"]],\"diverging\":[[0,\"#8e0152\"],[0.1,\"#c51b7d\"],[0.2,\"#de77ae\"],[0.3,\"#f1b6da\"],[0.4,\"#fde0ef\"],[0.5,\"#f7f7f7\"],[0.6,\"#e6f5d0\"],[0.7,\"#b8e186\"],[0.8,\"#7fbc41\"],[0.9,\"#4d9221\"],[1,\"#276419\"]]},\"xaxis\":{\"gridcolor\":\"white\",\"linecolor\":\"white\",\"ticks\":\"\",\"title\":{\"standoff\":15},\"zerolinecolor\":\"white\",\"automargin\":true,\"zerolinewidth\":2},\"yaxis\":{\"gridcolor\":\"white\",\"linecolor\":\"white\",\"ticks\":\"\",\"title\":{\"standoff\":15},\"zerolinecolor\":\"white\",\"automargin\":true,\"zerolinewidth\":2},\"scene\":{\"xaxis\":{\"backgroundcolor\":\"#E5ECF6\",\"gridcolor\":\"white\",\"linecolor\":\"white\",\"showbackground\":true,\"ticks\":\"\",\"zerolinecolor\":\"white\",\"gridwidth\":2},\"yaxis\":{\"backgroundcolor\":\"#E5ECF6\",\"gridcolor\":\"white\",\"linecolor\":\"white\",\"showbackground\":true,\"ticks\":\"\",\"zerolinecolor\":\"white\",\"gridwidth\":2},\"zaxis\":{\"backgroundcolor\":\"#E5ECF6\",\"gridcolor\":\"white\",\"linecolor\":\"white\",\"showbackground\":true,\"ticks\":\"\",\"zerolinecolor\":\"white\",\"gridwidth\":2}},\"shapedefaults\":{\"line\":{\"color\":\"#2a3f5f\"}},\"annotationdefaults\":{\"arrowcolor\":\"#2a3f5f\",\"arrowhead\":0,\"arrowwidth\":1},\"geo\":{\"bgcolor\":\"white\",\"landcolor\":\"#E5ECF6\",\"subunitcolor\":\"white\",\"showland\":true,\"showlakes\":true,\"lakecolor\":\"white\"},\"title\":{\"x\":0.05},\"mapbox\":{\"style\":\"light\"}}},\"scene\":{\"domain\":{\"x\":[0.0,1.0],\"y\":[0.0,1.0]},\"xaxis\":{\"title\":{\"text\":\"x\"}},\"yaxis\":{\"title\":{\"text\":\"y\"}},\"zaxis\":{\"title\":{\"text\":\"z\"}}},\"legend\":{\"tracegroupgap\":0},\"margin\":{\"t\":60}},                        {\"responsive\": true}                    ).then(function(){\n",
              "                            \n",
              "var gd = document.getElementById('39e58333-9b30-49e7-8dce-21e6f766fea3');\n",
              "var x = new MutationObserver(function (mutations, observer) {{\n",
              "        var display = window.getComputedStyle(gd).display;\n",
              "        if (!display || display === 'none') {{\n",
              "            console.log([gd, 'removed!']);\n",
              "            Plotly.purge(gd);\n",
              "            observer.disconnect();\n",
              "        }}\n",
              "}});\n",
              "\n",
              "// Listen for the removal of the full notebook cells\n",
              "var notebookContainer = gd.closest('#notebook-container');\n",
              "if (notebookContainer) {{\n",
              "    x.observe(notebookContainer, {childList: true});\n",
              "}}\n",
              "\n",
              "// Listen for the clearing of the current output cell\n",
              "var outputEl = gd.closest('.output');\n",
              "if (outputEl) {{\n",
              "    x.observe(outputEl, {childList: true});\n",
              "}}\n",
              "\n",
              "                        })                };                            </script>        </div>\n",
              "</body>\n",
              "</html>"
            ]
          },
          "metadata": {}
        }
      ]
    },
    {
      "cell_type": "code",
      "source": [
        "# x and y are previously defined arrays with 100 elements each.\n",
        "# X_multi is created by stacking x and y together as columns to form a 2D array with 100 rows and 2 columns.\n",
        "X_multi = np.array([x, y]).reshape(100, 2)\n",
        "\n",
        "# Displaying the shape of the X_multi array\n",
        "# It should be (100, 2), meaning it has 100 rows and 2 columns.\n",
        "X_multi.shape\n",
        "\n",
        "# The formula below represents what this code accomplishes:\n",
        "# X_multi = [[x[0], y[0]],\n",
        "#            [x[1], y[1]],\n",
        "#            ...\n",
        "#            [x[99], y[99]]]\n",
        "\n",
        "# Variables:\n",
        "# - x: An array containing 100 elements\n",
        "# - y: Another array containing 100 elements\n",
        "# - X_multi: A 2D NumPy array created by stacking x and y together, resulting in 100 rows and 2 columns.\n",
        "# - X_multi.shape: A method that returns the shape of the X_multi array, which should be (100, 2).\n",
        "\n",
        "# Purpose of the code:\n",
        "# This code is written to combine two 1D arrays, x and y, into a single 2D array X_multi.\n",
        "# It reshapes these two arrays into a format where each row contains corresponding elements from x and y.\n",
        "# This could be useful when working with multi-dimensional data or preparing data for machine learning models.\n",
        "\n",
        "# Regarding the mention of iris data:\n",
        "# There is no reference to iris data in the provided code, so it's not clear why iris data is mentioned here.\n",
        "# If you intend to use iris data in conjunction with this code, you would need to provide additional context and code related to the iris dataset.\n"
      ],
      "metadata": {
        "colab": {
          "base_uri": "https://localhost:8080/"
        },
        "id": "FETgzpboAFvZ",
        "outputId": "f953a7da-809e-4bc9-91aa-a409cd3afb8a"
      },
      "id": "FETgzpboAFvZ",
      "execution_count": 55,
      "outputs": [
        {
          "output_type": "execute_result",
          "data": {
            "text/plain": [
              "(100, 2)"
            ]
          },
          "metadata": {},
          "execution_count": 55
        }
      ]
    },
    {
      "cell_type": "code",
      "source": [
        "# Import the PolynomialFeatures class from the scikit-learn library\n",
        "from sklearn.preprocessing import PolynomialFeatures\n",
        "\n",
        "# Create an instance of the PolynomialFeatures class with a degree of 30\n",
        "# This will generate polynomial features up to degree 30 for each input feature.\n",
        "poly = PolynomialFeatures(degree=30)\n",
        "\n",
        "# Transform the input features X_multi by creating polynomial features\n",
        "# The transformed data will contain all possible combinations of the original features\n",
        "X_multi_trans = poly.fit_transform(X_multi)\n",
        "\n",
        "# Formula:\n",
        "# The formula for PolynomialFeatures transformation is:\n",
        "# X_poly = [1, X, X^2, X^3, ..., X^n]\n",
        "# where X is the original feature, X_poly is the transformed feature, and n is the degree specified.\n",
        "\n",
        "# Variables:\n",
        "# - poly: An instance of the PolynomialFeatures class with a specified degree.\n",
        "# - X_multi: The original input features.\n",
        "# - X_multi_trans: The transformed input features containing polynomial combinations.\n",
        "\n",
        "# Now, X_multi_trans contains the original features along with their polynomial combinations\n",
        "# up to the 30th degree, allowing for more complex modeling in machine learning tasks.\n"
      ],
      "metadata": {
        "id": "0Li45SmCFNw3"
      },
      "id": "0Li45SmCFNw3",
      "execution_count": 56,
      "outputs": []
    },
    {
      "cell_type": "code",
      "source": [
        "# Print the number of input features\n",
        "print(\"Input\", poly.n_features_in_)\n",
        "\n",
        "# Print the number of output features (the total number of polynomial features)\n",
        "print(\"Output\", poly.n_output_features_)\n",
        "\n",
        "# Print the powers of the polynomial features\n",
        "print(\"Powers\\n\", poly.powers_)\n"
      ],
      "metadata": {
        "colab": {
          "base_uri": "https://localhost:8080/"
        },
        "id": "f2KfEYNgHEnc",
        "outputId": "18fd9c95-1202-4cf9-8562-e2f940cb82bc"
      },
      "id": "f2KfEYNgHEnc",
      "execution_count": 61,
      "outputs": [
        {
          "output_type": "stream",
          "name": "stdout",
          "text": [
            "Input 2\n",
            "Output 496\n",
            "Powers\n",
            " [[ 0  0]\n",
            " [ 1  0]\n",
            " [ 0  1]\n",
            " [ 2  0]\n",
            " [ 1  1]\n",
            " [ 0  2]\n",
            " [ 3  0]\n",
            " [ 2  1]\n",
            " [ 1  2]\n",
            " [ 0  3]\n",
            " [ 4  0]\n",
            " [ 3  1]\n",
            " [ 2  2]\n",
            " [ 1  3]\n",
            " [ 0  4]\n",
            " [ 5  0]\n",
            " [ 4  1]\n",
            " [ 3  2]\n",
            " [ 2  3]\n",
            " [ 1  4]\n",
            " [ 0  5]\n",
            " [ 6  0]\n",
            " [ 5  1]\n",
            " [ 4  2]\n",
            " [ 3  3]\n",
            " [ 2  4]\n",
            " [ 1  5]\n",
            " [ 0  6]\n",
            " [ 7  0]\n",
            " [ 6  1]\n",
            " [ 5  2]\n",
            " [ 4  3]\n",
            " [ 3  4]\n",
            " [ 2  5]\n",
            " [ 1  6]\n",
            " [ 0  7]\n",
            " [ 8  0]\n",
            " [ 7  1]\n",
            " [ 6  2]\n",
            " [ 5  3]\n",
            " [ 4  4]\n",
            " [ 3  5]\n",
            " [ 2  6]\n",
            " [ 1  7]\n",
            " [ 0  8]\n",
            " [ 9  0]\n",
            " [ 8  1]\n",
            " [ 7  2]\n",
            " [ 6  3]\n",
            " [ 5  4]\n",
            " [ 4  5]\n",
            " [ 3  6]\n",
            " [ 2  7]\n",
            " [ 1  8]\n",
            " [ 0  9]\n",
            " [10  0]\n",
            " [ 9  1]\n",
            " [ 8  2]\n",
            " [ 7  3]\n",
            " [ 6  4]\n",
            " [ 5  5]\n",
            " [ 4  6]\n",
            " [ 3  7]\n",
            " [ 2  8]\n",
            " [ 1  9]\n",
            " [ 0 10]\n",
            " [11  0]\n",
            " [10  1]\n",
            " [ 9  2]\n",
            " [ 8  3]\n",
            " [ 7  4]\n",
            " [ 6  5]\n",
            " [ 5  6]\n",
            " [ 4  7]\n",
            " [ 3  8]\n",
            " [ 2  9]\n",
            " [ 1 10]\n",
            " [ 0 11]\n",
            " [12  0]\n",
            " [11  1]\n",
            " [10  2]\n",
            " [ 9  3]\n",
            " [ 8  4]\n",
            " [ 7  5]\n",
            " [ 6  6]\n",
            " [ 5  7]\n",
            " [ 4  8]\n",
            " [ 3  9]\n",
            " [ 2 10]\n",
            " [ 1 11]\n",
            " [ 0 12]\n",
            " [13  0]\n",
            " [12  1]\n",
            " [11  2]\n",
            " [10  3]\n",
            " [ 9  4]\n",
            " [ 8  5]\n",
            " [ 7  6]\n",
            " [ 6  7]\n",
            " [ 5  8]\n",
            " [ 4  9]\n",
            " [ 3 10]\n",
            " [ 2 11]\n",
            " [ 1 12]\n",
            " [ 0 13]\n",
            " [14  0]\n",
            " [13  1]\n",
            " [12  2]\n",
            " [11  3]\n",
            " [10  4]\n",
            " [ 9  5]\n",
            " [ 8  6]\n",
            " [ 7  7]\n",
            " [ 6  8]\n",
            " [ 5  9]\n",
            " [ 4 10]\n",
            " [ 3 11]\n",
            " [ 2 12]\n",
            " [ 1 13]\n",
            " [ 0 14]\n",
            " [15  0]\n",
            " [14  1]\n",
            " [13  2]\n",
            " [12  3]\n",
            " [11  4]\n",
            " [10  5]\n",
            " [ 9  6]\n",
            " [ 8  7]\n",
            " [ 7  8]\n",
            " [ 6  9]\n",
            " [ 5 10]\n",
            " [ 4 11]\n",
            " [ 3 12]\n",
            " [ 2 13]\n",
            " [ 1 14]\n",
            " [ 0 15]\n",
            " [16  0]\n",
            " [15  1]\n",
            " [14  2]\n",
            " [13  3]\n",
            " [12  4]\n",
            " [11  5]\n",
            " [10  6]\n",
            " [ 9  7]\n",
            " [ 8  8]\n",
            " [ 7  9]\n",
            " [ 6 10]\n",
            " [ 5 11]\n",
            " [ 4 12]\n",
            " [ 3 13]\n",
            " [ 2 14]\n",
            " [ 1 15]\n",
            " [ 0 16]\n",
            " [17  0]\n",
            " [16  1]\n",
            " [15  2]\n",
            " [14  3]\n",
            " [13  4]\n",
            " [12  5]\n",
            " [11  6]\n",
            " [10  7]\n",
            " [ 9  8]\n",
            " [ 8  9]\n",
            " [ 7 10]\n",
            " [ 6 11]\n",
            " [ 5 12]\n",
            " [ 4 13]\n",
            " [ 3 14]\n",
            " [ 2 15]\n",
            " [ 1 16]\n",
            " [ 0 17]\n",
            " [18  0]\n",
            " [17  1]\n",
            " [16  2]\n",
            " [15  3]\n",
            " [14  4]\n",
            " [13  5]\n",
            " [12  6]\n",
            " [11  7]\n",
            " [10  8]\n",
            " [ 9  9]\n",
            " [ 8 10]\n",
            " [ 7 11]\n",
            " [ 6 12]\n",
            " [ 5 13]\n",
            " [ 4 14]\n",
            " [ 3 15]\n",
            " [ 2 16]\n",
            " [ 1 17]\n",
            " [ 0 18]\n",
            " [19  0]\n",
            " [18  1]\n",
            " [17  2]\n",
            " [16  3]\n",
            " [15  4]\n",
            " [14  5]\n",
            " [13  6]\n",
            " [12  7]\n",
            " [11  8]\n",
            " [10  9]\n",
            " [ 9 10]\n",
            " [ 8 11]\n",
            " [ 7 12]\n",
            " [ 6 13]\n",
            " [ 5 14]\n",
            " [ 4 15]\n",
            " [ 3 16]\n",
            " [ 2 17]\n",
            " [ 1 18]\n",
            " [ 0 19]\n",
            " [20  0]\n",
            " [19  1]\n",
            " [18  2]\n",
            " [17  3]\n",
            " [16  4]\n",
            " [15  5]\n",
            " [14  6]\n",
            " [13  7]\n",
            " [12  8]\n",
            " [11  9]\n",
            " [10 10]\n",
            " [ 9 11]\n",
            " [ 8 12]\n",
            " [ 7 13]\n",
            " [ 6 14]\n",
            " [ 5 15]\n",
            " [ 4 16]\n",
            " [ 3 17]\n",
            " [ 2 18]\n",
            " [ 1 19]\n",
            " [ 0 20]\n",
            " [21  0]\n",
            " [20  1]\n",
            " [19  2]\n",
            " [18  3]\n",
            " [17  4]\n",
            " [16  5]\n",
            " [15  6]\n",
            " [14  7]\n",
            " [13  8]\n",
            " [12  9]\n",
            " [11 10]\n",
            " [10 11]\n",
            " [ 9 12]\n",
            " [ 8 13]\n",
            " [ 7 14]\n",
            " [ 6 15]\n",
            " [ 5 16]\n",
            " [ 4 17]\n",
            " [ 3 18]\n",
            " [ 2 19]\n",
            " [ 1 20]\n",
            " [ 0 21]\n",
            " [22  0]\n",
            " [21  1]\n",
            " [20  2]\n",
            " [19  3]\n",
            " [18  4]\n",
            " [17  5]\n",
            " [16  6]\n",
            " [15  7]\n",
            " [14  8]\n",
            " [13  9]\n",
            " [12 10]\n",
            " [11 11]\n",
            " [10 12]\n",
            " [ 9 13]\n",
            " [ 8 14]\n",
            " [ 7 15]\n",
            " [ 6 16]\n",
            " [ 5 17]\n",
            " [ 4 18]\n",
            " [ 3 19]\n",
            " [ 2 20]\n",
            " [ 1 21]\n",
            " [ 0 22]\n",
            " [23  0]\n",
            " [22  1]\n",
            " [21  2]\n",
            " [20  3]\n",
            " [19  4]\n",
            " [18  5]\n",
            " [17  6]\n",
            " [16  7]\n",
            " [15  8]\n",
            " [14  9]\n",
            " [13 10]\n",
            " [12 11]\n",
            " [11 12]\n",
            " [10 13]\n",
            " [ 9 14]\n",
            " [ 8 15]\n",
            " [ 7 16]\n",
            " [ 6 17]\n",
            " [ 5 18]\n",
            " [ 4 19]\n",
            " [ 3 20]\n",
            " [ 2 21]\n",
            " [ 1 22]\n",
            " [ 0 23]\n",
            " [24  0]\n",
            " [23  1]\n",
            " [22  2]\n",
            " [21  3]\n",
            " [20  4]\n",
            " [19  5]\n",
            " [18  6]\n",
            " [17  7]\n",
            " [16  8]\n",
            " [15  9]\n",
            " [14 10]\n",
            " [13 11]\n",
            " [12 12]\n",
            " [11 13]\n",
            " [10 14]\n",
            " [ 9 15]\n",
            " [ 8 16]\n",
            " [ 7 17]\n",
            " [ 6 18]\n",
            " [ 5 19]\n",
            " [ 4 20]\n",
            " [ 3 21]\n",
            " [ 2 22]\n",
            " [ 1 23]\n",
            " [ 0 24]\n",
            " [25  0]\n",
            " [24  1]\n",
            " [23  2]\n",
            " [22  3]\n",
            " [21  4]\n",
            " [20  5]\n",
            " [19  6]\n",
            " [18  7]\n",
            " [17  8]\n",
            " [16  9]\n",
            " [15 10]\n",
            " [14 11]\n",
            " [13 12]\n",
            " [12 13]\n",
            " [11 14]\n",
            " [10 15]\n",
            " [ 9 16]\n",
            " [ 8 17]\n",
            " [ 7 18]\n",
            " [ 6 19]\n",
            " [ 5 20]\n",
            " [ 4 21]\n",
            " [ 3 22]\n",
            " [ 2 23]\n",
            " [ 1 24]\n",
            " [ 0 25]\n",
            " [26  0]\n",
            " [25  1]\n",
            " [24  2]\n",
            " [23  3]\n",
            " [22  4]\n",
            " [21  5]\n",
            " [20  6]\n",
            " [19  7]\n",
            " [18  8]\n",
            " [17  9]\n",
            " [16 10]\n",
            " [15 11]\n",
            " [14 12]\n",
            " [13 13]\n",
            " [12 14]\n",
            " [11 15]\n",
            " [10 16]\n",
            " [ 9 17]\n",
            " [ 8 18]\n",
            " [ 7 19]\n",
            " [ 6 20]\n",
            " [ 5 21]\n",
            " [ 4 22]\n",
            " [ 3 23]\n",
            " [ 2 24]\n",
            " [ 1 25]\n",
            " [ 0 26]\n",
            " [27  0]\n",
            " [26  1]\n",
            " [25  2]\n",
            " [24  3]\n",
            " [23  4]\n",
            " [22  5]\n",
            " [21  6]\n",
            " [20  7]\n",
            " [19  8]\n",
            " [18  9]\n",
            " [17 10]\n",
            " [16 11]\n",
            " [15 12]\n",
            " [14 13]\n",
            " [13 14]\n",
            " [12 15]\n",
            " [11 16]\n",
            " [10 17]\n",
            " [ 9 18]\n",
            " [ 8 19]\n",
            " [ 7 20]\n",
            " [ 6 21]\n",
            " [ 5 22]\n",
            " [ 4 23]\n",
            " [ 3 24]\n",
            " [ 2 25]\n",
            " [ 1 26]\n",
            " [ 0 27]\n",
            " [28  0]\n",
            " [27  1]\n",
            " [26  2]\n",
            " [25  3]\n",
            " [24  4]\n",
            " [23  5]\n",
            " [22  6]\n",
            " [21  7]\n",
            " [20  8]\n",
            " [19  9]\n",
            " [18 10]\n",
            " [17 11]\n",
            " [16 12]\n",
            " [15 13]\n",
            " [14 14]\n",
            " [13 15]\n",
            " [12 16]\n",
            " [11 17]\n",
            " [10 18]\n",
            " [ 9 19]\n",
            " [ 8 20]\n",
            " [ 7 21]\n",
            " [ 6 22]\n",
            " [ 5 23]\n",
            " [ 4 24]\n",
            " [ 3 25]\n",
            " [ 2 26]\n",
            " [ 1 27]\n",
            " [ 0 28]\n",
            " [29  0]\n",
            " [28  1]\n",
            " [27  2]\n",
            " [26  3]\n",
            " [25  4]\n",
            " [24  5]\n",
            " [23  6]\n",
            " [22  7]\n",
            " [21  8]\n",
            " [20  9]\n",
            " [19 10]\n",
            " [18 11]\n",
            " [17 12]\n",
            " [16 13]\n",
            " [15 14]\n",
            " [14 15]\n",
            " [13 16]\n",
            " [12 17]\n",
            " [11 18]\n",
            " [10 19]\n",
            " [ 9 20]\n",
            " [ 8 21]\n",
            " [ 7 22]\n",
            " [ 6 23]\n",
            " [ 5 24]\n",
            " [ 4 25]\n",
            " [ 3 26]\n",
            " [ 2 27]\n",
            " [ 1 28]\n",
            " [ 0 29]\n",
            " [30  0]\n",
            " [29  1]\n",
            " [28  2]\n",
            " [27  3]\n",
            " [26  4]\n",
            " [25  5]\n",
            " [24  6]\n",
            " [23  7]\n",
            " [22  8]\n",
            " [21  9]\n",
            " [20 10]\n",
            " [19 11]\n",
            " [18 12]\n",
            " [17 13]\n",
            " [16 14]\n",
            " [15 15]\n",
            " [14 16]\n",
            " [13 17]\n",
            " [12 18]\n",
            " [11 19]\n",
            " [10 20]\n",
            " [ 9 21]\n",
            " [ 8 22]\n",
            " [ 7 23]\n",
            " [ 6 24]\n",
            " [ 5 25]\n",
            " [ 4 26]\n",
            " [ 3 27]\n",
            " [ 2 28]\n",
            " [ 1 29]\n",
            " [ 0 30]]\n"
          ]
        }
      ]
    },
    {
      "cell_type": "code",
      "execution_count": 62,
      "id": "64c43050",
      "metadata": {
        "id": "64c43050",
        "outputId": "75d0e922-fccf-4001-e555-828a960b86f7",
        "colab": {
          "base_uri": "https://localhost:8080/"
        }
      },
      "outputs": [
        {
          "output_type": "execute_result",
          "data": {
            "text/plain": [
              "(100, 496)"
            ]
          },
          "metadata": {},
          "execution_count": 62
        }
      ],
      "source": [
        "X_multi_trans.shape"
      ]
    },
    {
      "cell_type": "code",
      "source": [
        "# Create a Linear Regression (LR) model instance.\n",
        "lr = LinearRegression()\n",
        "\n",
        "# Fit the Linear Regression model to the multi-dimensional input data (X_multi_trans) and target variable (z).\n",
        "# Linear Regression Formula:\n",
        "# z = β0 + β1*X1 + β2*X2 + ... + βn*Xn\n",
        "# - z: Target variable (dependent variable)\n",
        "# - β0: Intercept (constant term)\n",
        "# - β1, β2, ..., βn: Coefficients for the independent variables X1, X2, ..., Xn\n",
        "# - X1, X2, ..., Xn: Independent variables (features)\n",
        "# In this case, X_multi_trans is a matrix containing multiple features, and z is the target variable.\n",
        "\n",
        "lr.fit(X_multi_trans, z)\n"
      ],
      "metadata": {
        "colab": {
          "base_uri": "https://localhost:8080/",
          "height": 74
        },
        "id": "msPz7cOdISQ7",
        "outputId": "a444b6c8-8e1b-4b8a-cf65-1915b7bb3bb0"
      },
      "id": "msPz7cOdISQ7",
      "execution_count": 63,
      "outputs": [
        {
          "output_type": "execute_result",
          "data": {
            "text/plain": [
              "LinearRegression()"
            ],
            "text/html": [
              "<style>#sk-container-id-3 {color: black;background-color: white;}#sk-container-id-3 pre{padding: 0;}#sk-container-id-3 div.sk-toggleable {background-color: white;}#sk-container-id-3 label.sk-toggleable__label {cursor: pointer;display: block;width: 100%;margin-bottom: 0;padding: 0.3em;box-sizing: border-box;text-align: center;}#sk-container-id-3 label.sk-toggleable__label-arrow:before {content: \"▸\";float: left;margin-right: 0.25em;color: #696969;}#sk-container-id-3 label.sk-toggleable__label-arrow:hover:before {color: black;}#sk-container-id-3 div.sk-estimator:hover label.sk-toggleable__label-arrow:before {color: black;}#sk-container-id-3 div.sk-toggleable__content {max-height: 0;max-width: 0;overflow: hidden;text-align: left;background-color: #f0f8ff;}#sk-container-id-3 div.sk-toggleable__content pre {margin: 0.2em;color: black;border-radius: 0.25em;background-color: #f0f8ff;}#sk-container-id-3 input.sk-toggleable__control:checked~div.sk-toggleable__content {max-height: 200px;max-width: 100%;overflow: auto;}#sk-container-id-3 input.sk-toggleable__control:checked~label.sk-toggleable__label-arrow:before {content: \"▾\";}#sk-container-id-3 div.sk-estimator input.sk-toggleable__control:checked~label.sk-toggleable__label {background-color: #d4ebff;}#sk-container-id-3 div.sk-label input.sk-toggleable__control:checked~label.sk-toggleable__label {background-color: #d4ebff;}#sk-container-id-3 input.sk-hidden--visually {border: 0;clip: rect(1px 1px 1px 1px);clip: rect(1px, 1px, 1px, 1px);height: 1px;margin: -1px;overflow: hidden;padding: 0;position: absolute;width: 1px;}#sk-container-id-3 div.sk-estimator {font-family: monospace;background-color: #f0f8ff;border: 1px dotted black;border-radius: 0.25em;box-sizing: border-box;margin-bottom: 0.5em;}#sk-container-id-3 div.sk-estimator:hover {background-color: #d4ebff;}#sk-container-id-3 div.sk-parallel-item::after {content: \"\";width: 100%;border-bottom: 1px solid gray;flex-grow: 1;}#sk-container-id-3 div.sk-label:hover label.sk-toggleable__label {background-color: #d4ebff;}#sk-container-id-3 div.sk-serial::before {content: \"\";position: absolute;border-left: 1px solid gray;box-sizing: border-box;top: 0;bottom: 0;left: 50%;z-index: 0;}#sk-container-id-3 div.sk-serial {display: flex;flex-direction: column;align-items: center;background-color: white;padding-right: 0.2em;padding-left: 0.2em;position: relative;}#sk-container-id-3 div.sk-item {position: relative;z-index: 1;}#sk-container-id-3 div.sk-parallel {display: flex;align-items: stretch;justify-content: center;background-color: white;position: relative;}#sk-container-id-3 div.sk-item::before, #sk-container-id-3 div.sk-parallel-item::before {content: \"\";position: absolute;border-left: 1px solid gray;box-sizing: border-box;top: 0;bottom: 0;left: 50%;z-index: -1;}#sk-container-id-3 div.sk-parallel-item {display: flex;flex-direction: column;z-index: 1;position: relative;background-color: white;}#sk-container-id-3 div.sk-parallel-item:first-child::after {align-self: flex-end;width: 50%;}#sk-container-id-3 div.sk-parallel-item:last-child::after {align-self: flex-start;width: 50%;}#sk-container-id-3 div.sk-parallel-item:only-child::after {width: 0;}#sk-container-id-3 div.sk-dashed-wrapped {border: 1px dashed gray;margin: 0 0.4em 0.5em 0.4em;box-sizing: border-box;padding-bottom: 0.4em;background-color: white;}#sk-container-id-3 div.sk-label label {font-family: monospace;font-weight: bold;display: inline-block;line-height: 1.2em;}#sk-container-id-3 div.sk-label-container {text-align: center;}#sk-container-id-3 div.sk-container {/* jupyter's `normalize.less` sets `[hidden] { display: none; }` but bootstrap.min.css set `[hidden] { display: none !important; }` so we also need the `!important` here to be able to override the default hidden behavior on the sphinx rendered scikit-learn.org. See: https://github.com/scikit-learn/scikit-learn/issues/21755 */display: inline-block !important;position: relative;}#sk-container-id-3 div.sk-text-repr-fallback {display: none;}</style><div id=\"sk-container-id-3\" class=\"sk-top-container\"><div class=\"sk-text-repr-fallback\"><pre>LinearRegression()</pre><b>In a Jupyter environment, please rerun this cell to show the HTML representation or trust the notebook. <br />On GitHub, the HTML representation is unable to render, please try loading this page with nbviewer.org.</b></div><div class=\"sk-container\" hidden><div class=\"sk-item\"><div class=\"sk-estimator sk-toggleable\"><input class=\"sk-toggleable__control sk-hidden--visually\" id=\"sk-estimator-id-3\" type=\"checkbox\" checked><label for=\"sk-estimator-id-3\" class=\"sk-toggleable__label sk-toggleable__label-arrow\">LinearRegression</label><div class=\"sk-toggleable__content\"><pre>LinearRegression()</pre></div></div></div></div></div>"
            ]
          },
          "metadata": {},
          "execution_count": 63
        }
      ]
    },
    {
      "cell_type": "code",
      "execution_count": 64,
      "id": "e38c6645",
      "metadata": {
        "id": "e38c6645"
      },
      "outputs": [],
      "source": [
        "X_test_multi = poly.transform(final)"
      ]
    },
    {
      "cell_type": "code",
      "execution_count": 65,
      "id": "4c33cbb5",
      "metadata": {
        "id": "4c33cbb5"
      },
      "outputs": [],
      "source": [
        "z_final = lr.predict(X_multi_trans).reshape(10,10)"
      ]
    },
    {
      "cell_type": "code",
      "source": [
        "# x, y, and z are NumPy arrays or data representing 3D scatter plot data\n",
        "# x: The x-coordinates of data points\n",
        "# y: The y-coordinates of data points\n",
        "# z: The z-coordinates of data points\n",
        "\n",
        "# Create a 3D scatter plot with x, y, and z data\n",
        "fig = px.scatter_3d(x=x.ravel(), y=y.ravel(), z=z.ravel())\n",
        "\n",
        "# Assuming x_input, y_input, and z_final are also NumPy arrays or data\n",
        "# x_input: The x-coordinates of additional data points for a surface plot\n",
        "# y_input: The y-coordinates of additional data points for a surface plot\n",
        "# z_final: The z-coordinates of the surface plot generated from x_input and y_input\n",
        "\n",
        "# Add a 3D surface plot to the existing scatter plot\n",
        "fig.add_trace(go.Surface(x=x_input, y=y_input, z=z_final))\n",
        "\n",
        "# Update the layout of the 3D plot\n",
        "fig.update_layout(scene=dict(zaxis=dict(range=[0, 35])))\n",
        "# Set the z-axis range from 0 to 35\n",
        "\n",
        "# Display the 3D plot\n",
        "fig.show()\n"
      ],
      "metadata": {
        "colab": {
          "base_uri": "https://localhost:8080/",
          "height": 542
        },
        "id": "lsy_mWI7MzeS",
        "outputId": "5fbca2ec-3213-4e56-94fe-dc8beea544b4"
      },
      "id": "lsy_mWI7MzeS",
      "execution_count": 66,
      "outputs": [
        {
          "output_type": "display_data",
          "data": {
            "text/html": [
              "<html>\n",
              "<head><meta charset=\"utf-8\" /></head>\n",
              "<body>\n",
              "    <div>            <script src=\"https://cdnjs.cloudflare.com/ajax/libs/mathjax/2.7.5/MathJax.js?config=TeX-AMS-MML_SVG\"></script><script type=\"text/javascript\">if (window.MathJax && window.MathJax.Hub && window.MathJax.Hub.Config) {window.MathJax.Hub.Config({SVG: {font: \"STIX-Web\"}});}</script>                <script type=\"text/javascript\">window.PlotlyConfig = {MathJaxConfig: 'local'};</script>\n",
              "        <script charset=\"utf-8\" src=\"https://cdn.plot.ly/plotly-2.24.1.min.js\"></script>                <div id=\"b8defe32-0475-478b-a59e-250e6f413745\" class=\"plotly-graph-div\" style=\"height:525px; width:100%;\"></div>            <script type=\"text/javascript\">                                    window.PLOTLYENV=window.PLOTLYENV || {};                                    if (document.getElementById(\"b8defe32-0475-478b-a59e-250e6f413745\")) {                    Plotly.newPlot(                        \"b8defe32-0475-478b-a59e-250e6f413745\",                        [{\"hovertemplate\":\"x=%{x}\\u003cbr\\u003ey=%{y}\\u003cbr\\u003ez=%{z}\\u003cextra\\u003e\\u003c\\u002fextra\\u003e\",\"legendgroup\":\"\",\"marker\":{\"color\":\"#636efa\",\"symbol\":\"circle\"},\"mode\":\"markers\",\"name\":\"\",\"scene\":\"scene\",\"showlegend\":false,\"x\":[-2.2565493702579715,-1.9911799432792756,2.1306495616411363,3.4440102058203754,0.003472815918891481,-2.6630879510525123,-1.1547555320156242,-2.2436509332223147,3.8647391835825182,-2.3783877724285496,3.005544278417558,-0.8020771554360668,2.994644012080361,1.0069565595507028,3.565030397145552,1.6777352935171388,2.7784978490554124,2.4040442701341567,-0.1278007591903192,3.9050293152841515,2.319807427837679,2.627342810143084,2.3551335903999915,-1.825633853923038,2.93105964856991,-0.9269736353274216,1.9923691969487916,1.4836104158468775,2.237797752861967,-0.9559568881566256,-2.3855076599771063,-2.5343530653707154,-0.0839488329020126,-2.441414579128979,3.3583934460091234,-0.07439698618674395,3.790536707852014,-1.4028762272091,2.7086945565130645,3.150833657110768,-0.46254338242952064,-1.3492993522599968,-0.35266564131214695,2.3268573604208056,3.879830144337486,0.6041623976339556,2.7797700342435823,1.143761330451175,-2.1488067284587506,-1.6374557405359216,2.647119574414747,-1.6907611194903964,-1.1333807289143416,-1.8838083963317525,-1.2245236857535096,1.4609505131365648,2.4188225013430467,2.9620493856367363,1.5142119769258935,-0.2159995467114193,0.3215378699512641,-0.6757497239141994,-1.5242226915279313,2.0371528290169296,0.4648077063342515,1.8217557673076552,-1.4077010309679547,0.14701921885034874,2.825702320661267,3.5474494977913578,-0.9574269440018823,3.847596722547215,-1.3271328608322184,1.3419969199632495,2.9842616090738083,-2.4138370509621336,-0.5630666151368393,4.181079066255451,2.635038437146667,-2.1656053093397856,3.0856612373338264,-0.18448388596844723,0.5709112992165273,4.075636292126513,-2.0755781403991946,1.6397337734338766,2.9646457988836676,-1.9958678256098517,3.041414226587621,-1.1674915439766111,-1.2952695141006667,-0.8280104452002894,-1.5280253739454537,3.8668944289677016,3.5425190750715556,2.555411658955437,3.7852343658613483,3.137108036265815,-1.794823323553869,2.68984334716486],\"y\":[-1.2941071106065667,1.5459006087300082,-0.048145824925610814,2.344742531094547,3.869762980445632,0.2626302269839025,-1.1059726613133911,-0.5831146479705871,-2.2793590367526306,-2.680074081647381,-2.50958634713042,-1.9731146590292887,-1.2128663650381073,2.2682144040793757,1.4559130821078377,-2.4457365885659965,-1.4090957039406158,-1.4171107192156982,4.095667976384125,3.179109963329007,0.06823464086763975,2.6074452949828126,1.6943651371532846,0.17193337740004822,-2.5241783868500245,3.4080974419963495,2.724229184172116,3.039795669685253,-0.16644302811719403,-1.2440904067040224,0.7365515884749452,0.9940078845643874,-2.2377769790097397,-0.509747812936757,1.0926033354308506,-2.5953776057579274,2.6027345994162454,0.6004619982279822,2.659312078950263,-0.24855545693247816,2.7849060838588464,0.3341161529823964,3.4878247126009176,1.0054285349496372,3.338452196318647,0.7268254886834606,2.147175903916893,4.047194314952773,-0.550797957525234,-0.8514391172471032,-1.3422874536078684,0.5971349471962801,-0.3224291851840575,-0.3948653616012652,-0.5276477486559097,3.518848971162778,2.7942915542725517,2.163831617715908,0.518656988064842,0.20946402037826317,-2.6935170396119323,1.0492115160109896,-1.2220951523814814,-0.3268895815425461,0.45117104235211425,1.8710606320982217,0.49742798647231945,4.130583904133288,0.894317576799514,-0.06611804878642902,-1.2402215853199707,-0.6864663357336909,3.2596968883154966,1.3615762894117607,2.513145999381856,-2.380331341895483,4.166363888944123,-0.747343612645305,1.7188033349591327,-0.7229807120353224,-0.9231104514855017,-1.226751601384045,1.4684443904043922,-0.7347167361045641,-0.018738346062523004,3.546705215935307,0.9102776099750503,3.4717532893498158,0.8491626267163741,-0.5782881545097744,2.2201643969402305,1.6282969637434972,2.7302458831792915,0.7029415882413512,2.7810731770386035,3.8017326392708295,3.8337951459732267,-2.5749415310568997,3.419039942293969,-0.7852095428002972],\"z\":[9.551543449393064,6.484447206526889,7.107139546412305,22.165788828164036,17.083619957424354,9.199792965491008,4.590850211715685,5.539858223393993,21.62428839504052,14.420046955380295,15.14620430263813,6.380065248761938,13.63161748717538,7.904383272448951,20.412799409936078,11.21538355148844,12.008416921341663,9.317035287628094,18.837227132845946,28.717781290043597,8.359376409789135,18.009708943259742,11.077305962316768,4.93046544499954,16.726902782148954,13.512367778174653,17.19837002210403,15.587742427933835,7.055298173014607,3.5540902254973137,7.772004005730009,11.289170902255897,5.800645305490974,6.78177808268895,15.303585655455292,7.461168903937473,26.6153026776571,5.2694288461641134,17.813975768943298,12.331369941012811,10.760402772456814,3.495203305566878,16.47339180825602,8.55687147776051,31.92373896844995,3.10672437341874,15.092734528765781,21.17369312173301,5.295173728537925,3.6290032546992004,8.511011628265383,7.068110211101915,6.370777249489806,5.73140490994996,2.7879209973067227,15.71821952390504,15.697220131033864,17.79205860594091,4.210750756424451,0.7242214170948795,8.430000314428924,3.474340737746576,5.824351107244199,6.288856361660105,0.8178227367126332,9.322152712648226,3.5259217273575514,19.628397566885145,12.02307245831734,14.759611008569058,4.141005139214653,16.810104532848413,14.085168205296695,6.798708917838142,20.34611682512159,14.501987084943194,19.41231183320753,19.7668930361422,13.177232559383569,5.872169162760358,12.704391982339736,2.905924366293469,5.70456048896918,19.682400887905324,5.611786404185917,18.486047843819055,10.917661966201635,16.830203836214725,14.514975942041028,3.5717810888550185,9.44154457450393,4.890078736729538,12.078019681118933,18.514643052410257,25.508818469227702,24.530798274826193,33.047945777939425,17.506797032464615,14.915494123154355,10.572537927702683],\"type\":\"scatter3d\"},{\"x\":[-2.6630879510525123,-1.9026249491294052,-1.142161947206298,-0.3816989452831909,0.3787640566399162,1.1392270585630233,1.8996900604861304,2.660153062409238,3.4206160643323447,4.181079066255451],\"y\":[-2.6935170396119323,-1.9313080475501483,-1.1690990554883645,-0.40689006342658063,0.3553189286352034,1.1175279206969875,1.879736912758771,2.641945904820555,3.404154896882339,4.166363888944123],\"z\":[[9.552396327344104,6.497559892275239,7.102658907213117,22.13661814210318,17.066254960634616,9.198440896608735,4.6198817363761915,5.539887773134614,21.620890008547214,14.416108476259614],[15.14928968463173,6.380616176203693,13.629816936590577,7.9047570390535835,20.41489001942646,11.207693444826509,12.007315174006726,9.31341921005478,18.838593827822116,28.712296830751804],[7.237659999820208,18.010115626878907,11.075890885927583,4.936539368965532,16.72772789248811,13.512416685261632,17.198556224731966,16.337084650030747,7.0673376194023145,9.5821924926571],[9.995188982939563,11.289829094457309,5.795410817623042,7.6080496207267005,15.303864823915864,7.460786210634614,26.825188642248584,5.272644864656831,17.778413163759616,12.338218780496026],[10.767931150534059,3.5142530075096143,16.47360379688653,8.554645644762422,31.918876515962985,8.737242169924977,15.086518632509614,21.175507890322116,5.301850663759614,3.6365810206913007],[8.237014196940185,7.068491072131655,6.369279252626802,9.957246292307056,2.791898357012178,15.733550502248908,15.69759183938695,17.79647030707529,4.224122849305617,0.7373975387596143],[8.430742899217512,3.031014580800081,5.824006425478364,6.296094285585786,9.515523474236906,9.995744008138878,3.528424507268573,19.64670457158318,12.02481884535482,14.760229960345532],[4.145587282516862,16.811128007509616,14.088848458864595,6.764741288759614,9.994991691221479,11.206653247507857,9.995211737361283,19.767464982607272,13.173965798952485,9.995205120295228],[12.706767121591474,9.72268803303891,5.7082248778850495,19.674897538759616,9.995320460248902,9.524038541636047,10.912930833437349,16.81111195150843,14.518159257509614,2.960373422211523],[9.766150458233664,9.961774333575804,12.079202043154146,18.51556526336899,9.995244381590897,24.531194829643574,33.05253072295418,17.489716874697116,14.914887773134614,10.575288163759614]],\"type\":\"surface\"}],                        {\"template\":{\"data\":{\"histogram2dcontour\":[{\"type\":\"histogram2dcontour\",\"colorbar\":{\"outlinewidth\":0,\"ticks\":\"\"},\"colorscale\":[[0.0,\"#0d0887\"],[0.1111111111111111,\"#46039f\"],[0.2222222222222222,\"#7201a8\"],[0.3333333333333333,\"#9c179e\"],[0.4444444444444444,\"#bd3786\"],[0.5555555555555556,\"#d8576b\"],[0.6666666666666666,\"#ed7953\"],[0.7777777777777778,\"#fb9f3a\"],[0.8888888888888888,\"#fdca26\"],[1.0,\"#f0f921\"]]}],\"choropleth\":[{\"type\":\"choropleth\",\"colorbar\":{\"outlinewidth\":0,\"ticks\":\"\"}}],\"histogram2d\":[{\"type\":\"histogram2d\",\"colorbar\":{\"outlinewidth\":0,\"ticks\":\"\"},\"colorscale\":[[0.0,\"#0d0887\"],[0.1111111111111111,\"#46039f\"],[0.2222222222222222,\"#7201a8\"],[0.3333333333333333,\"#9c179e\"],[0.4444444444444444,\"#bd3786\"],[0.5555555555555556,\"#d8576b\"],[0.6666666666666666,\"#ed7953\"],[0.7777777777777778,\"#fb9f3a\"],[0.8888888888888888,\"#fdca26\"],[1.0,\"#f0f921\"]]}],\"heatmap\":[{\"type\":\"heatmap\",\"colorbar\":{\"outlinewidth\":0,\"ticks\":\"\"},\"colorscale\":[[0.0,\"#0d0887\"],[0.1111111111111111,\"#46039f\"],[0.2222222222222222,\"#7201a8\"],[0.3333333333333333,\"#9c179e\"],[0.4444444444444444,\"#bd3786\"],[0.5555555555555556,\"#d8576b\"],[0.6666666666666666,\"#ed7953\"],[0.7777777777777778,\"#fb9f3a\"],[0.8888888888888888,\"#fdca26\"],[1.0,\"#f0f921\"]]}],\"heatmapgl\":[{\"type\":\"heatmapgl\",\"colorbar\":{\"outlinewidth\":0,\"ticks\":\"\"},\"colorscale\":[[0.0,\"#0d0887\"],[0.1111111111111111,\"#46039f\"],[0.2222222222222222,\"#7201a8\"],[0.3333333333333333,\"#9c179e\"],[0.4444444444444444,\"#bd3786\"],[0.5555555555555556,\"#d8576b\"],[0.6666666666666666,\"#ed7953\"],[0.7777777777777778,\"#fb9f3a\"],[0.8888888888888888,\"#fdca26\"],[1.0,\"#f0f921\"]]}],\"contourcarpet\":[{\"type\":\"contourcarpet\",\"colorbar\":{\"outlinewidth\":0,\"ticks\":\"\"}}],\"contour\":[{\"type\":\"contour\",\"colorbar\":{\"outlinewidth\":0,\"ticks\":\"\"},\"colorscale\":[[0.0,\"#0d0887\"],[0.1111111111111111,\"#46039f\"],[0.2222222222222222,\"#7201a8\"],[0.3333333333333333,\"#9c179e\"],[0.4444444444444444,\"#bd3786\"],[0.5555555555555556,\"#d8576b\"],[0.6666666666666666,\"#ed7953\"],[0.7777777777777778,\"#fb9f3a\"],[0.8888888888888888,\"#fdca26\"],[1.0,\"#f0f921\"]]}],\"surface\":[{\"type\":\"surface\",\"colorbar\":{\"outlinewidth\":0,\"ticks\":\"\"},\"colorscale\":[[0.0,\"#0d0887\"],[0.1111111111111111,\"#46039f\"],[0.2222222222222222,\"#7201a8\"],[0.3333333333333333,\"#9c179e\"],[0.4444444444444444,\"#bd3786\"],[0.5555555555555556,\"#d8576b\"],[0.6666666666666666,\"#ed7953\"],[0.7777777777777778,\"#fb9f3a\"],[0.8888888888888888,\"#fdca26\"],[1.0,\"#f0f921\"]]}],\"mesh3d\":[{\"type\":\"mesh3d\",\"colorbar\":{\"outlinewidth\":0,\"ticks\":\"\"}}],\"scatter\":[{\"fillpattern\":{\"fillmode\":\"overlay\",\"size\":10,\"solidity\":0.2},\"type\":\"scatter\"}],\"parcoords\":[{\"type\":\"parcoords\",\"line\":{\"colorbar\":{\"outlinewidth\":0,\"ticks\":\"\"}}}],\"scatterpolargl\":[{\"type\":\"scatterpolargl\",\"marker\":{\"colorbar\":{\"outlinewidth\":0,\"ticks\":\"\"}}}],\"bar\":[{\"error_x\":{\"color\":\"#2a3f5f\"},\"error_y\":{\"color\":\"#2a3f5f\"},\"marker\":{\"line\":{\"color\":\"#E5ECF6\",\"width\":0.5},\"pattern\":{\"fillmode\":\"overlay\",\"size\":10,\"solidity\":0.2}},\"type\":\"bar\"}],\"scattergeo\":[{\"type\":\"scattergeo\",\"marker\":{\"colorbar\":{\"outlinewidth\":0,\"ticks\":\"\"}}}],\"scatterpolar\":[{\"type\":\"scatterpolar\",\"marker\":{\"colorbar\":{\"outlinewidth\":0,\"ticks\":\"\"}}}],\"histogram\":[{\"marker\":{\"pattern\":{\"fillmode\":\"overlay\",\"size\":10,\"solidity\":0.2}},\"type\":\"histogram\"}],\"scattergl\":[{\"type\":\"scattergl\",\"marker\":{\"colorbar\":{\"outlinewidth\":0,\"ticks\":\"\"}}}],\"scatter3d\":[{\"type\":\"scatter3d\",\"line\":{\"colorbar\":{\"outlinewidth\":0,\"ticks\":\"\"}},\"marker\":{\"colorbar\":{\"outlinewidth\":0,\"ticks\":\"\"}}}],\"scattermapbox\":[{\"type\":\"scattermapbox\",\"marker\":{\"colorbar\":{\"outlinewidth\":0,\"ticks\":\"\"}}}],\"scatterternary\":[{\"type\":\"scatterternary\",\"marker\":{\"colorbar\":{\"outlinewidth\":0,\"ticks\":\"\"}}}],\"scattercarpet\":[{\"type\":\"scattercarpet\",\"marker\":{\"colorbar\":{\"outlinewidth\":0,\"ticks\":\"\"}}}],\"carpet\":[{\"aaxis\":{\"endlinecolor\":\"#2a3f5f\",\"gridcolor\":\"white\",\"linecolor\":\"white\",\"minorgridcolor\":\"white\",\"startlinecolor\":\"#2a3f5f\"},\"baxis\":{\"endlinecolor\":\"#2a3f5f\",\"gridcolor\":\"white\",\"linecolor\":\"white\",\"minorgridcolor\":\"white\",\"startlinecolor\":\"#2a3f5f\"},\"type\":\"carpet\"}],\"table\":[{\"cells\":{\"fill\":{\"color\":\"#EBF0F8\"},\"line\":{\"color\":\"white\"}},\"header\":{\"fill\":{\"color\":\"#C8D4E3\"},\"line\":{\"color\":\"white\"}},\"type\":\"table\"}],\"barpolar\":[{\"marker\":{\"line\":{\"color\":\"#E5ECF6\",\"width\":0.5},\"pattern\":{\"fillmode\":\"overlay\",\"size\":10,\"solidity\":0.2}},\"type\":\"barpolar\"}],\"pie\":[{\"automargin\":true,\"type\":\"pie\"}]},\"layout\":{\"autotypenumbers\":\"strict\",\"colorway\":[\"#636efa\",\"#EF553B\",\"#00cc96\",\"#ab63fa\",\"#FFA15A\",\"#19d3f3\",\"#FF6692\",\"#B6E880\",\"#FF97FF\",\"#FECB52\"],\"font\":{\"color\":\"#2a3f5f\"},\"hovermode\":\"closest\",\"hoverlabel\":{\"align\":\"left\"},\"paper_bgcolor\":\"white\",\"plot_bgcolor\":\"#E5ECF6\",\"polar\":{\"bgcolor\":\"#E5ECF6\",\"angularaxis\":{\"gridcolor\":\"white\",\"linecolor\":\"white\",\"ticks\":\"\"},\"radialaxis\":{\"gridcolor\":\"white\",\"linecolor\":\"white\",\"ticks\":\"\"}},\"ternary\":{\"bgcolor\":\"#E5ECF6\",\"aaxis\":{\"gridcolor\":\"white\",\"linecolor\":\"white\",\"ticks\":\"\"},\"baxis\":{\"gridcolor\":\"white\",\"linecolor\":\"white\",\"ticks\":\"\"},\"caxis\":{\"gridcolor\":\"white\",\"linecolor\":\"white\",\"ticks\":\"\"}},\"coloraxis\":{\"colorbar\":{\"outlinewidth\":0,\"ticks\":\"\"}},\"colorscale\":{\"sequential\":[[0.0,\"#0d0887\"],[0.1111111111111111,\"#46039f\"],[0.2222222222222222,\"#7201a8\"],[0.3333333333333333,\"#9c179e\"],[0.4444444444444444,\"#bd3786\"],[0.5555555555555556,\"#d8576b\"],[0.6666666666666666,\"#ed7953\"],[0.7777777777777778,\"#fb9f3a\"],[0.8888888888888888,\"#fdca26\"],[1.0,\"#f0f921\"]],\"sequentialminus\":[[0.0,\"#0d0887\"],[0.1111111111111111,\"#46039f\"],[0.2222222222222222,\"#7201a8\"],[0.3333333333333333,\"#9c179e\"],[0.4444444444444444,\"#bd3786\"],[0.5555555555555556,\"#d8576b\"],[0.6666666666666666,\"#ed7953\"],[0.7777777777777778,\"#fb9f3a\"],[0.8888888888888888,\"#fdca26\"],[1.0,\"#f0f921\"]],\"diverging\":[[0,\"#8e0152\"],[0.1,\"#c51b7d\"],[0.2,\"#de77ae\"],[0.3,\"#f1b6da\"],[0.4,\"#fde0ef\"],[0.5,\"#f7f7f7\"],[0.6,\"#e6f5d0\"],[0.7,\"#b8e186\"],[0.8,\"#7fbc41\"],[0.9,\"#4d9221\"],[1,\"#276419\"]]},\"xaxis\":{\"gridcolor\":\"white\",\"linecolor\":\"white\",\"ticks\":\"\",\"title\":{\"standoff\":15},\"zerolinecolor\":\"white\",\"automargin\":true,\"zerolinewidth\":2},\"yaxis\":{\"gridcolor\":\"white\",\"linecolor\":\"white\",\"ticks\":\"\",\"title\":{\"standoff\":15},\"zerolinecolor\":\"white\",\"automargin\":true,\"zerolinewidth\":2},\"scene\":{\"xaxis\":{\"backgroundcolor\":\"#E5ECF6\",\"gridcolor\":\"white\",\"linecolor\":\"white\",\"showbackground\":true,\"ticks\":\"\",\"zerolinecolor\":\"white\",\"gridwidth\":2},\"yaxis\":{\"backgroundcolor\":\"#E5ECF6\",\"gridcolor\":\"white\",\"linecolor\":\"white\",\"showbackground\":true,\"ticks\":\"\",\"zerolinecolor\":\"white\",\"gridwidth\":2},\"zaxis\":{\"backgroundcolor\":\"#E5ECF6\",\"gridcolor\":\"white\",\"linecolor\":\"white\",\"showbackground\":true,\"ticks\":\"\",\"zerolinecolor\":\"white\",\"gridwidth\":2}},\"shapedefaults\":{\"line\":{\"color\":\"#2a3f5f\"}},\"annotationdefaults\":{\"arrowcolor\":\"#2a3f5f\",\"arrowhead\":0,\"arrowwidth\":1},\"geo\":{\"bgcolor\":\"white\",\"landcolor\":\"#E5ECF6\",\"subunitcolor\":\"white\",\"showland\":true,\"showlakes\":true,\"lakecolor\":\"white\"},\"title\":{\"x\":0.05},\"mapbox\":{\"style\":\"light\"}}},\"scene\":{\"domain\":{\"x\":[0.0,1.0],\"y\":[0.0,1.0]},\"xaxis\":{\"title\":{\"text\":\"x\"}},\"yaxis\":{\"title\":{\"text\":\"y\"}},\"zaxis\":{\"title\":{\"text\":\"z\"},\"range\":[0,35]}},\"legend\":{\"tracegroupgap\":0},\"margin\":{\"t\":60}},                        {\"responsive\": true}                    ).then(function(){\n",
              "                            \n",
              "var gd = document.getElementById('b8defe32-0475-478b-a59e-250e6f413745');\n",
              "var x = new MutationObserver(function (mutations, observer) {{\n",
              "        var display = window.getComputedStyle(gd).display;\n",
              "        if (!display || display === 'none') {{\n",
              "            console.log([gd, 'removed!']);\n",
              "            Plotly.purge(gd);\n",
              "            observer.disconnect();\n",
              "        }}\n",
              "}});\n",
              "\n",
              "// Listen for the removal of the full notebook cells\n",
              "var notebookContainer = gd.closest('#notebook-container');\n",
              "if (notebookContainer) {{\n",
              "    x.observe(notebookContainer, {childList: true});\n",
              "}}\n",
              "\n",
              "// Listen for the clearing of the current output cell\n",
              "var outputEl = gd.closest('.output');\n",
              "if (outputEl) {{\n",
              "    x.observe(outputEl, {childList: true});\n",
              "}}\n",
              "\n",
              "                        })                };                            </script>        </div>\n",
              "</body>\n",
              "</html>"
            ]
          },
          "metadata": {}
        }
      ]
    },
    {
      "cell_type": "code",
      "execution_count": null,
      "id": "de8b7bd8",
      "metadata": {
        "id": "de8b7bd8",
        "outputId": "fe844dec-eb3f-4322-9c22-28afec4a8901"
      },
      "outputs": [
        {
          "data": {
            "application/vnd.plotly.v1+json": {
              "config": {
                "plotlyServerURL": "https://plot.ly"
              },
              "data": [
                {
                  "hovertemplate": "x=%{x}<br>y=%{y}<br>z=%{z}<extra></extra>",
                  "legendgroup": "",
                  "marker": {
                    "color": "#636efa",
                    "symbol": "circle"
                  },
                  "mode": "markers",
                  "name": "",
                  "scene": "scene",
                  "showlegend": false,
                  "type": "scatter3d",
                  "x": [
                    -0.8414777290414566,
                    0.20537652223986758,
                    2.2927274041256407,
                    1.3183571056875412,
                    1.7151954669720713,
                    0.0015961921966316517,
                    1.1855918806060624,
                    -0.7693243681792077,
                    -2.297821155366823,
                    -0.08213487892033644,
                    -0.10830161059243881,
                    3.480462415947195,
                    1.3694197185654344,
                    -1.7276115443776963,
                    2.8344931579484074,
                    -2.2096129905122464,
                    -2.5735087065212654,
                    0.7244123760981003,
                    -2.2299671379188313,
                    0.1371734948041814,
                    1.5698726107956267,
                    2.699054247432481,
                    -0.31568278702339825,
                    0.8335523207078994,
                    -1.2817164691708656,
                    0.9142983123183166,
                    4.178479148670702,
                    -1.4974126755295547,
                    1.7308315044449287,
                    2.300988944484593,
                    0.7918033915397622,
                    0.08780816557184146,
                    0.006973616477340627,
                    2.7651341576674637,
                    2.498452368980703,
                    -0.934241121280972,
                    3.2243307004243364,
                    0.548695987949932,
                    2.593578322796348,
                    -2.00053323831486,
                    2.9078724069374786,
                    -0.44914907426316253,
                    -1.9719256721617064,
                    2.1216500779790577,
                    3.9906203811240637,
                    3.90533605530012,
                    -0.3606178171913994,
                    2.333652865149376,
                    3.272567648607631,
                    1.4363611429952847,
                    -0.07920948684276574,
                    3.832640518674755,
                    -2.0143257254404223,
                    3.896279457405595,
                    2.4479696856175277,
                    0.3373802203606324,
                    1.6082340823187282,
                    3.8196139163570066,
                    4.197715932214986,
                    -0.5106967874795547,
                    1.331657062595239,
                    2.330633640535658,
                    -2.608328273136598,
                    -0.15203290672224057,
                    3.2268268174766117,
                    3.5796023748921506,
                    3.274739642355211,
                    -1.5950178338432601,
                    -1.5866245353630686,
                    -0.24706957667845986,
                    0.7461641696753416,
                    -0.4279331751597,
                    4.13464353151227,
                    0.16889061389088855,
                    0.6434021633811042,
                    1.4404339383766818,
                    1.3977613831090627,
                    -1.6213490292964619,
                    1.8422620142191226,
                    1.017876716878062,
                    -1.5837261143889423,
                    0.43368878714100756,
                    0.7252247057220216,
                    -2.6385223486105533,
                    3.7355658786771224,
                    -0.9646110350035619,
                    3.8026340690068317,
                    0.7675614677111922,
                    -0.256475279169603,
                    1.303185541959726,
                    1.660773261693481,
                    -2.5400229133817698,
                    0.4542777341294366,
                    -2.163079463225541,
                    -1.8954939944440174,
                    3.3476893873926192,
                    3.011357761358868,
                    3.188207295341221,
                    -2.0830781232377302,
                    1.9214667626238242
                  ],
                  "y": [
                    4.187781755960167,
                    3.637734874439917,
                    2.02386050849488,
                    -1.9220066368485567,
                    -2.7194735831070043,
                    1.3677166883915648,
                    2.1896221569758376,
                    0.9664743444883657,
                    0.19968535706719992,
                    1.7220564823876918,
                    4.179723763032645,
                    2.9910348366218393,
                    -2.480497490392204,
                    1.601341687466693,
                    2.0681113103436806,
                    1.0115342112944088,
                    1.5725533033710315,
                    0.365671399534063,
                    -0.7205146996714511,
                    -1.0841945382647575,
                    -2.221728929291694,
                    3.2961119945397215,
                    3.8844951051400356,
                    1.0997106125290057,
                    1.8246423249213262,
                    3.195219786672948,
                    4.191797323162843,
                    -2.5299423912444268,
                    0.7968445361896572,
                    3.6881551466191462,
                    0.46016066091172503,
                    1.7760908947271963,
                    -0.6987631757168415,
                    3.9008231327437732,
                    1.9789517451269445,
                    -0.07098857628828936,
                    0.1801628958797079,
                    2.6553755697386086,
                    -1.7630569638857048,
                    -0.08807186236615205,
                    -0.7457674986463183,
                    -2.067945555929383,
                    -0.9647044096715511,
                    3.453535462792739,
                    1.0546040872299667,
                    -1.8297486883137395,
                    -1.2691517133924164,
                    2.5262891682346584,
                    -1.6361803351625948,
                    2.0319694920370734,
                    0.6219953510523051,
                    1.5380558706605507,
                    -1.348680874798769,
                    -0.794872441085082,
                    -1.07605861423811,
                    1.1133984820304188,
                    3.9398779387589533,
                    -1.6782013375586549,
                    0.7414048455103144,
                    2.0848993203790522,
                    2.711028739398527,
                    1.2875772281991305,
                    2.458470531903216,
                    -1.4337109930196896,
                    -2.4529159295880367,
                    -1.379709989666658,
                    -2.2689892218129897,
                    0.9275569803012331,
                    0.09165556097882943,
                    -0.9454027721609295,
                    0.7567736611348224,
                    -2.698092513825572,
                    -0.4779588044594778,
                    4.0807359353958,
                    0.3215555138192716,
                    -0.2274371436254783,
                    -1.3931852646552076,
                    4.006402405392232,
                    3.4180850162161027,
                    -0.07602682280512152,
                    1.57326601261724,
                    1.8839041683097033,
                    2.3019819237632095,
                    3.0237646864143146,
                    -1.6144820969679703,
                    -1.6118072874973808,
                    3.5224570634332597,
                    1.8798928607817889,
                    1.8892161825663303,
                    3.833179055228813,
                    4.104541296948449,
                    -1.2305980787733901,
                    3.184027954251289,
                    1.7296531565463793,
                    -1.0469310991164305,
                    0.2844027718377591,
                    2.969271618428902,
                    -0.5001470560105714,
                    -1.8488057553558517,
                    -2.309268529685837
                  ],
                  "z": [
                    20.98784093627244,
                    16.569664502382945,
                    12.40164585501188,
                    6.532247706296038,
                    9.095215760454519,
                    3.7171325953370244,
                    8.958163711133999,
                    3.057812438861483,
                    5.687114477844501,
                    6.34431359479569,
                    19.792365805738868,
                    26.432122468574107,
                    9.492131990510618,
                    6.601103049849577,
                    15.663519880642653,
                    7.645040962224883,
                    10.306454337370475,
                    2.926088546281236,
                    7.760003586680639,
                    4.834465731501926,
                    8.582430008317742,
                    24.398024866094755,
                    17.447413387544866,
                    2.8994901282422934,
                    6.440878003269808,
                    13.609862843595444,
                    40.29044177232661,
                    9.897336013980295,
                    7.476454463511765,
                    21.7271305919637,
                    0.9288279475684553,
                    5.88125610341583,
                    2.776428308650936,
                    25.64749483748202,
                    12.295329865607696,
                    3.808760694906269,
                    14.129879421941279,
                    10.130331206794414,
                    11.29815294732246,
                    5.80200569904796,
                    10.75988804761976,
                    6.085067605360368,
                    5.453674003775552,
                    20.58301476036678,
                    20.198603907600805,
                    22.19184635066576,
                    3.8969080934807785,
                    15.471696371677417,
                    14.233732099368574,
                    9.392921228182724,
                    3.551712580915978,
                    21.998944544923297,
                    6.8874120936512115,
                    18.0286263875063,
                    9.680686955267344,
                    4.829715561936993,
                    22.87446312128793,
                    19.934424832755443,
                    21.296451513615867,
                    8.377132426171055,
                    13.1675021625304,
                    8.812794259612756,
                    13.205999038562696,
                    3.417517187033648,
                    18.619611414392384,
                    16.114295032249316,
                    18.18223824762192,
                    4.171833188889166,
                    3.8428711945712566,
                    2.2381042140716967,
                    2.721407777175854,
                    8.77177849861343,
                    19.3052554089457,
                    18.049422365379893,
                    1.1240971819115277,
                    5.2491724471572745,
                    6.868230364001274,
                    19.953852069027977,
                    17.526467476956448,
                    3.2226696742460166,
                    6.495093973575352,
                    5.37576201885131,
                    8.812199193979767,
                    15.561005383513386,
                    18.380611134988733,
                    6.972882521446655,
                    31.678806028405063,
                    7.902542022868393,
                    5.332949013438252,
                    19.72101941444612,
                    24.61607316011202,
                    9.539894262781926,
                    14.173216048574309,
                    8.606044707905907,
                    6.647681272429933,
                    14.377008465374763,
                    21.664158142668253,
                    13.19131323977386,
                    10.59438642205234,
                    12.989120013175253
                  ]
                },
                {
                  "type": "surface",
                  "x": [
                    -2.6385223486105533,
                    -1.8789403174077157,
                    -1.119358286204878,
                    -0.35977625500204047,
                    0.39980577620079716,
                    1.1593878074036348,
                    1.9189698386064724,
                    2.67855186980931,
                    3.4381339010121477,
                    4.197715932214986
                  ],
                  "y": [
                    -2.7194735831070043,
                    -1.9515545935214655,
                    -1.183635603935927,
                    -0.41571661435038854,
                    0.3522023752351502,
                    1.120121364820689,
                    1.8880403544062272,
                    2.655959343991766,
                    3.4238783335773046,
                    4.191797323162843
                  ],
                  "z": [
                    [
                      12.8320738537059,
                      15.97083462121634,
                      11.461029112779528,
                      12.743489582790097,
                      9.36062530240713,
                      3.791358214092611,
                      8.42906030224674,
                      3.4852288181308495,
                      16.02643591513595,
                      6.192885879764503
                    ],
                    [
                      15.039006930065511,
                      12.831895049804857,
                      12.72633182478999,
                      6.8720009142879235,
                      15.128939056989907,
                      12.832183756406332,
                      8.412574473989366,
                      3.395710741623475,
                      7.881886702251791,
                      -2.0443277133282436
                    ],
                    [
                      8.175522860360502,
                      25.845403103960848,
                      17.269461851787923,
                      2.646395051956347,
                      6.377639990520834,
                      13.590872984600423,
                      40.36516497678792,
                      9.768207017902455,
                      7.4955360705379235,
                      22.269461851787923
                    ],
                    [
                      0.42833004355168214,
                      1.4851632548842417,
                      2.7050087267879235,
                      25.755873900127767,
                      10.937394856751183,
                      12.83214853839324,
                      14.445731383037923,
                      9.99698371453196,
                      11.452502247065922,
                      4.907964310316288
                    ],
                    [
                      10.337213422735958,
                      7.159288367477416,
                      5.4429848010066735,
                      20.586966734600423,
                      12.447627718950546,
                      22.384118613076566,
                      3.628793962753548,
                      15.459021788311361,
                      14.248404722881673,
                      10.336241668311118
                    ],
                    [
                      3.4569618517879235,
                      21.687897708036758,
                      5.68745976336038,
                      17.718815506889655,
                      9.432227596468621,
                      4.4257118517879235,
                      23.696520814893006,
                      19.743195128411458,
                      21.864517819672002,
                      12.832098606260129
                    ],
                    [
                      13.168509703350423,
                      8.834281187725423,
                      13.27453921384847,
                      4.0936806017879235,
                      18.64302752561605,
                      15.740334562573963,
                      18.245047789287923,
                      3.8971307025529995,
                      2.447285017219542,
                      2.020726669347141
                    ],
                    [
                      2.506111179721188,
                      8.772650938701986,
                      18.96103266765158,
                      20.078564588201402,
                      0.8914231745756069,
                      5.209927794842384,
                      11.709604389946207,
                      12.805112804612737,
                      17.615653258037923,
                      2.8763389999229503
                    ],
                    [
                      10.895374525559305,
                      5.29095906693226,
                      13.225510566716252,
                      15.697641470341182,
                      12.832138555109564,
                      6.228107471239923,
                      31.789969664287923,
                      12.832114918146276,
                      5.1581337267879235,
                      19.68121169157064
                    ],
                    [
                      24.300589673765785,
                      9.605513792705892,
                      13.833522152934847,
                      8.591361265850423,
                      6.5585243517879235,
                      14.456961851787923,
                      21.71952555723226,
                      12.833003524435846,
                      9.244802993011831,
                      21.98978235222137
                    ]
                  ]
                }
              ],
              "layout": {
                "legend": {
                  "tracegroupgap": 0
                },
                "margin": {
                  "t": 60
                },
                "scene": {
                  "domain": {
                    "x": [
                      0,
                      1
                    ],
                    "y": [
                      0,
                      1
                    ]
                  },
                  "xaxis": {
                    "title": {
                      "text": "x"
                    }
                  },
                  "yaxis": {
                    "title": {
                      "text": "y"
                    }
                  },
                  "zaxis": {
                    "range": [
                      0,
                      35
                    ],
                    "title": {
                      "text": "z"
                    }
                  }
                },
                "template": {
                  "data": {
                    "bar": [
                      {
                        "error_x": {
                          "color": "#2a3f5f"
                        },
                        "error_y": {
                          "color": "#2a3f5f"
                        },
                        "marker": {
                          "line": {
                            "color": "#E5ECF6",
                            "width": 0.5
                          }
                        },
                        "type": "bar"
                      }
                    ],
                    "barpolar": [
                      {
                        "marker": {
                          "line": {
                            "color": "#E5ECF6",
                            "width": 0.5
                          }
                        },
                        "type": "barpolar"
                      }
                    ],
                    "carpet": [
                      {
                        "aaxis": {
                          "endlinecolor": "#2a3f5f",
                          "gridcolor": "white",
                          "linecolor": "white",
                          "minorgridcolor": "white",
                          "startlinecolor": "#2a3f5f"
                        },
                        "baxis": {
                          "endlinecolor": "#2a3f5f",
                          "gridcolor": "white",
                          "linecolor": "white",
                          "minorgridcolor": "white",
                          "startlinecolor": "#2a3f5f"
                        },
                        "type": "carpet"
                      }
                    ],
                    "choropleth": [
                      {
                        "colorbar": {
                          "outlinewidth": 0,
                          "ticks": ""
                        },
                        "type": "choropleth"
                      }
                    ],
                    "contour": [
                      {
                        "colorbar": {
                          "outlinewidth": 0,
                          "ticks": ""
                        },
                        "colorscale": [
                          [
                            0,
                            "#0d0887"
                          ],
                          [
                            0.1111111111111111,
                            "#46039f"
                          ],
                          [
                            0.2222222222222222,
                            "#7201a8"
                          ],
                          [
                            0.3333333333333333,
                            "#9c179e"
                          ],
                          [
                            0.4444444444444444,
                            "#bd3786"
                          ],
                          [
                            0.5555555555555556,
                            "#d8576b"
                          ],
                          [
                            0.6666666666666666,
                            "#ed7953"
                          ],
                          [
                            0.7777777777777778,
                            "#fb9f3a"
                          ],
                          [
                            0.8888888888888888,
                            "#fdca26"
                          ],
                          [
                            1,
                            "#f0f921"
                          ]
                        ],
                        "type": "contour"
                      }
                    ],
                    "contourcarpet": [
                      {
                        "colorbar": {
                          "outlinewidth": 0,
                          "ticks": ""
                        },
                        "type": "contourcarpet"
                      }
                    ],
                    "heatmap": [
                      {
                        "colorbar": {
                          "outlinewidth": 0,
                          "ticks": ""
                        },
                        "colorscale": [
                          [
                            0,
                            "#0d0887"
                          ],
                          [
                            0.1111111111111111,
                            "#46039f"
                          ],
                          [
                            0.2222222222222222,
                            "#7201a8"
                          ],
                          [
                            0.3333333333333333,
                            "#9c179e"
                          ],
                          [
                            0.4444444444444444,
                            "#bd3786"
                          ],
                          [
                            0.5555555555555556,
                            "#d8576b"
                          ],
                          [
                            0.6666666666666666,
                            "#ed7953"
                          ],
                          [
                            0.7777777777777778,
                            "#fb9f3a"
                          ],
                          [
                            0.8888888888888888,
                            "#fdca26"
                          ],
                          [
                            1,
                            "#f0f921"
                          ]
                        ],
                        "type": "heatmap"
                      }
                    ],
                    "heatmapgl": [
                      {
                        "colorbar": {
                          "outlinewidth": 0,
                          "ticks": ""
                        },
                        "colorscale": [
                          [
                            0,
                            "#0d0887"
                          ],
                          [
                            0.1111111111111111,
                            "#46039f"
                          ],
                          [
                            0.2222222222222222,
                            "#7201a8"
                          ],
                          [
                            0.3333333333333333,
                            "#9c179e"
                          ],
                          [
                            0.4444444444444444,
                            "#bd3786"
                          ],
                          [
                            0.5555555555555556,
                            "#d8576b"
                          ],
                          [
                            0.6666666666666666,
                            "#ed7953"
                          ],
                          [
                            0.7777777777777778,
                            "#fb9f3a"
                          ],
                          [
                            0.8888888888888888,
                            "#fdca26"
                          ],
                          [
                            1,
                            "#f0f921"
                          ]
                        ],
                        "type": "heatmapgl"
                      }
                    ],
                    "histogram": [
                      {
                        "marker": {
                          "colorbar": {
                            "outlinewidth": 0,
                            "ticks": ""
                          }
                        },
                        "type": "histogram"
                      }
                    ],
                    "histogram2d": [
                      {
                        "colorbar": {
                          "outlinewidth": 0,
                          "ticks": ""
                        },
                        "colorscale": [
                          [
                            0,
                            "#0d0887"
                          ],
                          [
                            0.1111111111111111,
                            "#46039f"
                          ],
                          [
                            0.2222222222222222,
                            "#7201a8"
                          ],
                          [
                            0.3333333333333333,
                            "#9c179e"
                          ],
                          [
                            0.4444444444444444,
                            "#bd3786"
                          ],
                          [
                            0.5555555555555556,
                            "#d8576b"
                          ],
                          [
                            0.6666666666666666,
                            "#ed7953"
                          ],
                          [
                            0.7777777777777778,
                            "#fb9f3a"
                          ],
                          [
                            0.8888888888888888,
                            "#fdca26"
                          ],
                          [
                            1,
                            "#f0f921"
                          ]
                        ],
                        "type": "histogram2d"
                      }
                    ],
                    "histogram2dcontour": [
                      {
                        "colorbar": {
                          "outlinewidth": 0,
                          "ticks": ""
                        },
                        "colorscale": [
                          [
                            0,
                            "#0d0887"
                          ],
                          [
                            0.1111111111111111,
                            "#46039f"
                          ],
                          [
                            0.2222222222222222,
                            "#7201a8"
                          ],
                          [
                            0.3333333333333333,
                            "#9c179e"
                          ],
                          [
                            0.4444444444444444,
                            "#bd3786"
                          ],
                          [
                            0.5555555555555556,
                            "#d8576b"
                          ],
                          [
                            0.6666666666666666,
                            "#ed7953"
                          ],
                          [
                            0.7777777777777778,
                            "#fb9f3a"
                          ],
                          [
                            0.8888888888888888,
                            "#fdca26"
                          ],
                          [
                            1,
                            "#f0f921"
                          ]
                        ],
                        "type": "histogram2dcontour"
                      }
                    ],
                    "mesh3d": [
                      {
                        "colorbar": {
                          "outlinewidth": 0,
                          "ticks": ""
                        },
                        "type": "mesh3d"
                      }
                    ],
                    "parcoords": [
                      {
                        "line": {
                          "colorbar": {
                            "outlinewidth": 0,
                            "ticks": ""
                          }
                        },
                        "type": "parcoords"
                      }
                    ],
                    "pie": [
                      {
                        "automargin": true,
                        "type": "pie"
                      }
                    ],
                    "scatter": [
                      {
                        "marker": {
                          "colorbar": {
                            "outlinewidth": 0,
                            "ticks": ""
                          }
                        },
                        "type": "scatter"
                      }
                    ],
                    "scatter3d": [
                      {
                        "line": {
                          "colorbar": {
                            "outlinewidth": 0,
                            "ticks": ""
                          }
                        },
                        "marker": {
                          "colorbar": {
                            "outlinewidth": 0,
                            "ticks": ""
                          }
                        },
                        "type": "scatter3d"
                      }
                    ],
                    "scattercarpet": [
                      {
                        "marker": {
                          "colorbar": {
                            "outlinewidth": 0,
                            "ticks": ""
                          }
                        },
                        "type": "scattercarpet"
                      }
                    ],
                    "scattergeo": [
                      {
                        "marker": {
                          "colorbar": {
                            "outlinewidth": 0,
                            "ticks": ""
                          }
                        },
                        "type": "scattergeo"
                      }
                    ],
                    "scattergl": [
                      {
                        "marker": {
                          "colorbar": {
                            "outlinewidth": 0,
                            "ticks": ""
                          }
                        },
                        "type": "scattergl"
                      }
                    ],
                    "scattermapbox": [
                      {
                        "marker": {
                          "colorbar": {
                            "outlinewidth": 0,
                            "ticks": ""
                          }
                        },
                        "type": "scattermapbox"
                      }
                    ],
                    "scatterpolar": [
                      {
                        "marker": {
                          "colorbar": {
                            "outlinewidth": 0,
                            "ticks": ""
                          }
                        },
                        "type": "scatterpolar"
                      }
                    ],
                    "scatterpolargl": [
                      {
                        "marker": {
                          "colorbar": {
                            "outlinewidth": 0,
                            "ticks": ""
                          }
                        },
                        "type": "scatterpolargl"
                      }
                    ],
                    "scatterternary": [
                      {
                        "marker": {
                          "colorbar": {
                            "outlinewidth": 0,
                            "ticks": ""
                          }
                        },
                        "type": "scatterternary"
                      }
                    ],
                    "surface": [
                      {
                        "colorbar": {
                          "outlinewidth": 0,
                          "ticks": ""
                        },
                        "colorscale": [
                          [
                            0,
                            "#0d0887"
                          ],
                          [
                            0.1111111111111111,
                            "#46039f"
                          ],
                          [
                            0.2222222222222222,
                            "#7201a8"
                          ],
                          [
                            0.3333333333333333,
                            "#9c179e"
                          ],
                          [
                            0.4444444444444444,
                            "#bd3786"
                          ],
                          [
                            0.5555555555555556,
                            "#d8576b"
                          ],
                          [
                            0.6666666666666666,
                            "#ed7953"
                          ],
                          [
                            0.7777777777777778,
                            "#fb9f3a"
                          ],
                          [
                            0.8888888888888888,
                            "#fdca26"
                          ],
                          [
                            1,
                            "#f0f921"
                          ]
                        ],
                        "type": "surface"
                      }
                    ],
                    "table": [
                      {
                        "cells": {
                          "fill": {
                            "color": "#EBF0F8"
                          },
                          "line": {
                            "color": "white"
                          }
                        },
                        "header": {
                          "fill": {
                            "color": "#C8D4E3"
                          },
                          "line": {
                            "color": "white"
                          }
                        },
                        "type": "table"
                      }
                    ]
                  },
                  "layout": {
                    "annotationdefaults": {
                      "arrowcolor": "#2a3f5f",
                      "arrowhead": 0,
                      "arrowwidth": 1
                    },
                    "autotypenumbers": "strict",
                    "coloraxis": {
                      "colorbar": {
                        "outlinewidth": 0,
                        "ticks": ""
                      }
                    },
                    "colorscale": {
                      "diverging": [
                        [
                          0,
                          "#8e0152"
                        ],
                        [
                          0.1,
                          "#c51b7d"
                        ],
                        [
                          0.2,
                          "#de77ae"
                        ],
                        [
                          0.3,
                          "#f1b6da"
                        ],
                        [
                          0.4,
                          "#fde0ef"
                        ],
                        [
                          0.5,
                          "#f7f7f7"
                        ],
                        [
                          0.6,
                          "#e6f5d0"
                        ],
                        [
                          0.7,
                          "#b8e186"
                        ],
                        [
                          0.8,
                          "#7fbc41"
                        ],
                        [
                          0.9,
                          "#4d9221"
                        ],
                        [
                          1,
                          "#276419"
                        ]
                      ],
                      "sequential": [
                        [
                          0,
                          "#0d0887"
                        ],
                        [
                          0.1111111111111111,
                          "#46039f"
                        ],
                        [
                          0.2222222222222222,
                          "#7201a8"
                        ],
                        [
                          0.3333333333333333,
                          "#9c179e"
                        ],
                        [
                          0.4444444444444444,
                          "#bd3786"
                        ],
                        [
                          0.5555555555555556,
                          "#d8576b"
                        ],
                        [
                          0.6666666666666666,
                          "#ed7953"
                        ],
                        [
                          0.7777777777777778,
                          "#fb9f3a"
                        ],
                        [
                          0.8888888888888888,
                          "#fdca26"
                        ],
                        [
                          1,
                          "#f0f921"
                        ]
                      ],
                      "sequentialminus": [
                        [
                          0,
                          "#0d0887"
                        ],
                        [
                          0.1111111111111111,
                          "#46039f"
                        ],
                        [
                          0.2222222222222222,
                          "#7201a8"
                        ],
                        [
                          0.3333333333333333,
                          "#9c179e"
                        ],
                        [
                          0.4444444444444444,
                          "#bd3786"
                        ],
                        [
                          0.5555555555555556,
                          "#d8576b"
                        ],
                        [
                          0.6666666666666666,
                          "#ed7953"
                        ],
                        [
                          0.7777777777777778,
                          "#fb9f3a"
                        ],
                        [
                          0.8888888888888888,
                          "#fdca26"
                        ],
                        [
                          1,
                          "#f0f921"
                        ]
                      ]
                    },
                    "colorway": [
                      "#636efa",
                      "#EF553B",
                      "#00cc96",
                      "#ab63fa",
                      "#FFA15A",
                      "#19d3f3",
                      "#FF6692",
                      "#B6E880",
                      "#FF97FF",
                      "#FECB52"
                    ],
                    "font": {
                      "color": "#2a3f5f"
                    },
                    "geo": {
                      "bgcolor": "white",
                      "lakecolor": "white",
                      "landcolor": "#E5ECF6",
                      "showlakes": true,
                      "showland": true,
                      "subunitcolor": "white"
                    },
                    "hoverlabel": {
                      "align": "left"
                    },
                    "hovermode": "closest",
                    "mapbox": {
                      "style": "light"
                    },
                    "paper_bgcolor": "white",
                    "plot_bgcolor": "#E5ECF6",
                    "polar": {
                      "angularaxis": {
                        "gridcolor": "white",
                        "linecolor": "white",
                        "ticks": ""
                      },
                      "bgcolor": "#E5ECF6",
                      "radialaxis": {
                        "gridcolor": "white",
                        "linecolor": "white",
                        "ticks": ""
                      }
                    },
                    "scene": {
                      "xaxis": {
                        "backgroundcolor": "#E5ECF6",
                        "gridcolor": "white",
                        "gridwidth": 2,
                        "linecolor": "white",
                        "showbackground": true,
                        "ticks": "",
                        "zerolinecolor": "white"
                      },
                      "yaxis": {
                        "backgroundcolor": "#E5ECF6",
                        "gridcolor": "white",
                        "gridwidth": 2,
                        "linecolor": "white",
                        "showbackground": true,
                        "ticks": "",
                        "zerolinecolor": "white"
                      },
                      "zaxis": {
                        "backgroundcolor": "#E5ECF6",
                        "gridcolor": "white",
                        "gridwidth": 2,
                        "linecolor": "white",
                        "showbackground": true,
                        "ticks": "",
                        "zerolinecolor": "white"
                      }
                    },
                    "shapedefaults": {
                      "line": {
                        "color": "#2a3f5f"
                      }
                    },
                    "ternary": {
                      "aaxis": {
                        "gridcolor": "white",
                        "linecolor": "white",
                        "ticks": ""
                      },
                      "baxis": {
                        "gridcolor": "white",
                        "linecolor": "white",
                        "ticks": ""
                      },
                      "bgcolor": "#E5ECF6",
                      "caxis": {
                        "gridcolor": "white",
                        "linecolor": "white",
                        "ticks": ""
                      }
                    },
                    "title": {
                      "x": 0.05
                    },
                    "xaxis": {
                      "automargin": true,
                      "gridcolor": "white",
                      "linecolor": "white",
                      "ticks": "",
                      "title": {
                        "standoff": 15
                      },
                      "zerolinecolor": "white",
                      "zerolinewidth": 2
                    },
                    "yaxis": {
                      "automargin": true,
                      "gridcolor": "white",
                      "linecolor": "white",
                      "ticks": "",
                      "title": {
                        "standoff": 15
                      },
                      "zerolinecolor": "white",
                      "zerolinewidth": 2
                    }
                  }
                }
              }
            },
            "text/html": [
              "<div>                            <div id=\"0ab63865-b8f3-446b-9114-54bb7df25f68\" class=\"plotly-graph-div\" style=\"height:525px; width:100%;\"></div>            <script type=\"text/javascript\">                require([\"plotly\"], function(Plotly) {                    window.PLOTLYENV=window.PLOTLYENV || {};                                    if (document.getElementById(\"0ab63865-b8f3-446b-9114-54bb7df25f68\")) {                    Plotly.newPlot(                        \"0ab63865-b8f3-446b-9114-54bb7df25f68\",                        [{\"hovertemplate\": \"x=%{x}<br>y=%{y}<br>z=%{z}<extra></extra>\", \"legendgroup\": \"\", \"marker\": {\"color\": \"#636efa\", \"symbol\": \"circle\"}, \"mode\": \"markers\", \"name\": \"\", \"scene\": \"scene\", \"showlegend\": false, \"type\": \"scatter3d\", \"x\": [-0.8414777290414566, 0.20537652223986758, 2.2927274041256407, 1.3183571056875412, 1.7151954669720713, 0.0015961921966316517, 1.1855918806060624, -0.7693243681792077, -2.297821155366823, -0.08213487892033644, -0.10830161059243881, 3.480462415947195, 1.3694197185654344, -1.7276115443776963, 2.8344931579484074, -2.2096129905122464, -2.5735087065212654, 0.7244123760981003, -2.2299671379188313, 0.1371734948041814, 1.5698726107956267, 2.699054247432481, -0.31568278702339825, 0.8335523207078994, -1.2817164691708656, 0.9142983123183166, 4.178479148670702, -1.4974126755295547, 1.7308315044449287, 2.300988944484593, 0.7918033915397622, 0.08780816557184146, 0.006973616477340627, 2.7651341576674637, 2.498452368980703, -0.934241121280972, 3.2243307004243364, 0.548695987949932, 2.593578322796348, -2.00053323831486, 2.9078724069374786, -0.44914907426316253, -1.9719256721617064, 2.1216500779790577, 3.9906203811240637, 3.90533605530012, -0.3606178171913994, 2.333652865149376, 3.272567648607631, 1.4363611429952847, -0.07920948684276574, 3.832640518674755, -2.0143257254404223, 3.896279457405595, 2.4479696856175277, 0.3373802203606324, 1.6082340823187282, 3.8196139163570066, 4.197715932214986, -0.5106967874795547, 1.331657062595239, 2.330633640535658, -2.608328273136598, -0.15203290672224057, 3.2268268174766117, 3.5796023748921506, 3.274739642355211, -1.5950178338432601, -1.5866245353630686, -0.24706957667845986, 0.7461641696753416, -0.4279331751597, 4.13464353151227, 0.16889061389088855, 0.6434021633811042, 1.4404339383766818, 1.3977613831090627, -1.6213490292964619, 1.8422620142191226, 1.017876716878062, -1.5837261143889423, 0.43368878714100756, 0.7252247057220216, -2.6385223486105533, 3.7355658786771224, -0.9646110350035619, 3.8026340690068317, 0.7675614677111922, -0.256475279169603, 1.303185541959726, 1.660773261693481, -2.5400229133817698, 0.4542777341294366, -2.163079463225541, -1.8954939944440174, 3.3476893873926192, 3.011357761358868, 3.188207295341221, -2.0830781232377302, 1.9214667626238242], \"y\": [4.187781755960167, 3.637734874439917, 2.02386050849488, -1.9220066368485567, -2.7194735831070043, 1.3677166883915648, 2.1896221569758376, 0.9664743444883657, 0.19968535706719992, 1.7220564823876918, 4.179723763032645, 2.9910348366218393, -2.480497490392204, 1.601341687466693, 2.0681113103436806, 1.0115342112944088, 1.5725533033710315, 0.365671399534063, -0.7205146996714511, -1.0841945382647575, -2.221728929291694, 3.2961119945397215, 3.8844951051400356, 1.0997106125290057, 1.8246423249213262, 3.195219786672948, 4.191797323162843, -2.5299423912444268, 0.7968445361896572, 3.6881551466191462, 0.46016066091172503, 1.7760908947271963, -0.6987631757168415, 3.9008231327437732, 1.9789517451269445, -0.07098857628828936, 0.1801628958797079, 2.6553755697386086, -1.7630569638857048, -0.08807186236615205, -0.7457674986463183, -2.067945555929383, -0.9647044096715511, 3.453535462792739, 1.0546040872299667, -1.8297486883137395, -1.2691517133924164, 2.5262891682346584, -1.6361803351625948, 2.0319694920370734, 0.6219953510523051, 1.5380558706605507, -1.348680874798769, -0.794872441085082, -1.07605861423811, 1.1133984820304188, 3.9398779387589533, -1.6782013375586549, 0.7414048455103144, 2.0848993203790522, 2.711028739398527, 1.2875772281991305, 2.458470531903216, -1.4337109930196896, -2.4529159295880367, -1.379709989666658, -2.2689892218129897, 0.9275569803012331, 0.09165556097882943, -0.9454027721609295, 0.7567736611348224, -2.698092513825572, -0.4779588044594778, 4.0807359353958, 0.3215555138192716, -0.2274371436254783, -1.3931852646552076, 4.006402405392232, 3.4180850162161027, -0.07602682280512152, 1.57326601261724, 1.8839041683097033, 2.3019819237632095, 3.0237646864143146, -1.6144820969679703, -1.6118072874973808, 3.5224570634332597, 1.8798928607817889, 1.8892161825663303, 3.833179055228813, 4.104541296948449, -1.2305980787733901, 3.184027954251289, 1.7296531565463793, -1.0469310991164305, 0.2844027718377591, 2.969271618428902, -0.5001470560105714, -1.8488057553558517, -2.309268529685837], \"z\": [20.98784093627244, 16.569664502382945, 12.40164585501188, 6.532247706296038, 9.095215760454519, 3.7171325953370244, 8.958163711133999, 3.057812438861483, 5.687114477844501, 6.34431359479569, 19.792365805738868, 26.432122468574107, 9.492131990510618, 6.601103049849577, 15.663519880642653, 7.645040962224883, 10.306454337370475, 2.926088546281236, 7.760003586680639, 4.834465731501926, 8.582430008317742, 24.398024866094755, 17.447413387544866, 2.8994901282422934, 6.440878003269808, 13.609862843595444, 40.29044177232661, 9.897336013980295, 7.476454463511765, 21.7271305919637, 0.9288279475684553, 5.88125610341583, 2.776428308650936, 25.64749483748202, 12.295329865607696, 3.808760694906269, 14.129879421941279, 10.130331206794414, 11.29815294732246, 5.80200569904796, 10.75988804761976, 6.085067605360368, 5.453674003775552, 20.58301476036678, 20.198603907600805, 22.19184635066576, 3.8969080934807785, 15.471696371677417, 14.233732099368574, 9.392921228182724, 3.551712580915978, 21.998944544923297, 6.8874120936512115, 18.0286263875063, 9.680686955267344, 4.829715561936993, 22.87446312128793, 19.934424832755443, 21.296451513615867, 8.377132426171055, 13.1675021625304, 8.812794259612756, 13.205999038562696, 3.417517187033648, 18.619611414392384, 16.114295032249316, 18.18223824762192, 4.171833188889166, 3.8428711945712566, 2.2381042140716967, 2.721407777175854, 8.77177849861343, 19.3052554089457, 18.049422365379893, 1.1240971819115277, 5.2491724471572745, 6.868230364001274, 19.953852069027977, 17.526467476956448, 3.2226696742460166, 6.495093973575352, 5.37576201885131, 8.812199193979767, 15.561005383513386, 18.380611134988733, 6.972882521446655, 31.678806028405063, 7.902542022868393, 5.332949013438252, 19.72101941444612, 24.61607316011202, 9.539894262781926, 14.173216048574309, 8.606044707905907, 6.647681272429933, 14.377008465374763, 21.664158142668253, 13.19131323977386, 10.59438642205234, 12.989120013175253]}, {\"type\": \"surface\", \"x\": [-2.6385223486105533, -1.8789403174077157, -1.119358286204878, -0.35977625500204047, 0.39980577620079716, 1.1593878074036348, 1.9189698386064724, 2.67855186980931, 3.4381339010121477, 4.197715932214986], \"y\": [-2.7194735831070043, -1.9515545935214655, -1.183635603935927, -0.41571661435038854, 0.3522023752351502, 1.120121364820689, 1.8880403544062272, 2.655959343991766, 3.4238783335773046, 4.191797323162843], \"z\": [[12.8320738537059, 15.97083462121634, 11.461029112779528, 12.743489582790097, 9.36062530240713, 3.791358214092611, 8.42906030224674, 3.4852288181308495, 16.02643591513595, 6.192885879764503], [15.039006930065511, 12.831895049804857, 12.72633182478999, 6.8720009142879235, 15.128939056989907, 12.832183756406332, 8.412574473989366, 3.395710741623475, 7.881886702251791, -2.0443277133282436], [8.175522860360502, 25.845403103960848, 17.269461851787923, 2.646395051956347, 6.377639990520834, 13.590872984600423, 40.36516497678792, 9.768207017902455, 7.4955360705379235, 22.269461851787923], [0.42833004355168214, 1.4851632548842417, 2.7050087267879235, 25.755873900127767, 10.937394856751183, 12.83214853839324, 14.445731383037923, 9.99698371453196, 11.452502247065922, 4.907964310316288], [10.337213422735958, 7.159288367477416, 5.4429848010066735, 20.586966734600423, 12.447627718950546, 22.384118613076566, 3.628793962753548, 15.459021788311361, 14.248404722881673, 10.336241668311118], [3.4569618517879235, 21.687897708036758, 5.68745976336038, 17.718815506889655, 9.432227596468621, 4.4257118517879235, 23.696520814893006, 19.743195128411458, 21.864517819672002, 12.832098606260129], [13.168509703350423, 8.834281187725423, 13.27453921384847, 4.0936806017879235, 18.64302752561605, 15.740334562573963, 18.245047789287923, 3.8971307025529995, 2.447285017219542, 2.020726669347141], [2.506111179721188, 8.772650938701986, 18.96103266765158, 20.078564588201402, 0.8914231745756069, 5.209927794842384, 11.709604389946207, 12.805112804612737, 17.615653258037923, 2.8763389999229503], [10.895374525559305, 5.29095906693226, 13.225510566716252, 15.697641470341182, 12.832138555109564, 6.228107471239923, 31.789969664287923, 12.832114918146276, 5.1581337267879235, 19.68121169157064], [24.300589673765785, 9.605513792705892, 13.833522152934847, 8.591361265850423, 6.5585243517879235, 14.456961851787923, 21.71952555723226, 12.833003524435846, 9.244802993011831, 21.98978235222137]]}],                        {\"legend\": {\"tracegroupgap\": 0}, \"margin\": {\"t\": 60}, \"scene\": {\"domain\": {\"x\": [0.0, 1.0], \"y\": [0.0, 1.0]}, \"xaxis\": {\"title\": {\"text\": \"x\"}}, \"yaxis\": {\"title\": {\"text\": \"y\"}}, \"zaxis\": {\"range\": [0, 35], \"title\": {\"text\": \"z\"}}}, \"template\": {\"data\": {\"bar\": [{\"error_x\": {\"color\": \"#2a3f5f\"}, \"error_y\": {\"color\": \"#2a3f5f\"}, \"marker\": {\"line\": {\"color\": \"#E5ECF6\", \"width\": 0.5}}, \"type\": \"bar\"}], \"barpolar\": [{\"marker\": {\"line\": {\"color\": \"#E5ECF6\", \"width\": 0.5}}, \"type\": \"barpolar\"}], \"carpet\": [{\"aaxis\": {\"endlinecolor\": \"#2a3f5f\", \"gridcolor\": \"white\", \"linecolor\": \"white\", \"minorgridcolor\": \"white\", \"startlinecolor\": \"#2a3f5f\"}, \"baxis\": {\"endlinecolor\": \"#2a3f5f\", \"gridcolor\": \"white\", \"linecolor\": \"white\", \"minorgridcolor\": \"white\", \"startlinecolor\": \"#2a3f5f\"}, \"type\": \"carpet\"}], \"choropleth\": [{\"colorbar\": {\"outlinewidth\": 0, \"ticks\": \"\"}, \"type\": \"choropleth\"}], \"contour\": [{\"colorbar\": {\"outlinewidth\": 0, \"ticks\": \"\"}, \"colorscale\": [[0.0, \"#0d0887\"], [0.1111111111111111, \"#46039f\"], [0.2222222222222222, \"#7201a8\"], [0.3333333333333333, \"#9c179e\"], [0.4444444444444444, \"#bd3786\"], [0.5555555555555556, \"#d8576b\"], [0.6666666666666666, \"#ed7953\"], [0.7777777777777778, \"#fb9f3a\"], [0.8888888888888888, \"#fdca26\"], [1.0, \"#f0f921\"]], \"type\": \"contour\"}], \"contourcarpet\": [{\"colorbar\": {\"outlinewidth\": 0, \"ticks\": \"\"}, \"type\": \"contourcarpet\"}], \"heatmap\": [{\"colorbar\": {\"outlinewidth\": 0, \"ticks\": \"\"}, \"colorscale\": [[0.0, \"#0d0887\"], [0.1111111111111111, \"#46039f\"], [0.2222222222222222, \"#7201a8\"], [0.3333333333333333, \"#9c179e\"], [0.4444444444444444, \"#bd3786\"], [0.5555555555555556, \"#d8576b\"], [0.6666666666666666, \"#ed7953\"], [0.7777777777777778, \"#fb9f3a\"], [0.8888888888888888, \"#fdca26\"], [1.0, \"#f0f921\"]], \"type\": \"heatmap\"}], \"heatmapgl\": [{\"colorbar\": {\"outlinewidth\": 0, \"ticks\": \"\"}, \"colorscale\": [[0.0, \"#0d0887\"], [0.1111111111111111, \"#46039f\"], [0.2222222222222222, \"#7201a8\"], [0.3333333333333333, \"#9c179e\"], [0.4444444444444444, \"#bd3786\"], [0.5555555555555556, \"#d8576b\"], [0.6666666666666666, \"#ed7953\"], [0.7777777777777778, \"#fb9f3a\"], [0.8888888888888888, \"#fdca26\"], [1.0, \"#f0f921\"]], \"type\": \"heatmapgl\"}], \"histogram\": [{\"marker\": {\"colorbar\": {\"outlinewidth\": 0, \"ticks\": \"\"}}, \"type\": \"histogram\"}], \"histogram2d\": [{\"colorbar\": {\"outlinewidth\": 0, \"ticks\": \"\"}, \"colorscale\": [[0.0, \"#0d0887\"], [0.1111111111111111, \"#46039f\"], [0.2222222222222222, \"#7201a8\"], [0.3333333333333333, \"#9c179e\"], [0.4444444444444444, \"#bd3786\"], [0.5555555555555556, \"#d8576b\"], [0.6666666666666666, \"#ed7953\"], [0.7777777777777778, \"#fb9f3a\"], [0.8888888888888888, \"#fdca26\"], [1.0, \"#f0f921\"]], \"type\": \"histogram2d\"}], \"histogram2dcontour\": [{\"colorbar\": {\"outlinewidth\": 0, \"ticks\": \"\"}, \"colorscale\": [[0.0, \"#0d0887\"], [0.1111111111111111, \"#46039f\"], [0.2222222222222222, \"#7201a8\"], [0.3333333333333333, \"#9c179e\"], [0.4444444444444444, \"#bd3786\"], [0.5555555555555556, \"#d8576b\"], [0.6666666666666666, \"#ed7953\"], [0.7777777777777778, \"#fb9f3a\"], [0.8888888888888888, \"#fdca26\"], [1.0, \"#f0f921\"]], \"type\": \"histogram2dcontour\"}], \"mesh3d\": [{\"colorbar\": {\"outlinewidth\": 0, \"ticks\": \"\"}, \"type\": \"mesh3d\"}], \"parcoords\": [{\"line\": {\"colorbar\": {\"outlinewidth\": 0, \"ticks\": \"\"}}, \"type\": \"parcoords\"}], \"pie\": [{\"automargin\": true, \"type\": \"pie\"}], \"scatter\": [{\"marker\": {\"colorbar\": {\"outlinewidth\": 0, \"ticks\": \"\"}}, \"type\": \"scatter\"}], \"scatter3d\": [{\"line\": {\"colorbar\": {\"outlinewidth\": 0, \"ticks\": \"\"}}, \"marker\": {\"colorbar\": {\"outlinewidth\": 0, \"ticks\": \"\"}}, \"type\": \"scatter3d\"}], \"scattercarpet\": [{\"marker\": {\"colorbar\": {\"outlinewidth\": 0, \"ticks\": \"\"}}, \"type\": \"scattercarpet\"}], \"scattergeo\": [{\"marker\": {\"colorbar\": {\"outlinewidth\": 0, \"ticks\": \"\"}}, \"type\": \"scattergeo\"}], \"scattergl\": [{\"marker\": {\"colorbar\": {\"outlinewidth\": 0, \"ticks\": \"\"}}, \"type\": \"scattergl\"}], \"scattermapbox\": [{\"marker\": {\"colorbar\": {\"outlinewidth\": 0, \"ticks\": \"\"}}, \"type\": \"scattermapbox\"}], \"scatterpolar\": [{\"marker\": {\"colorbar\": {\"outlinewidth\": 0, \"ticks\": \"\"}}, \"type\": \"scatterpolar\"}], \"scatterpolargl\": [{\"marker\": {\"colorbar\": {\"outlinewidth\": 0, \"ticks\": \"\"}}, \"type\": \"scatterpolargl\"}], \"scatterternary\": [{\"marker\": {\"colorbar\": {\"outlinewidth\": 0, \"ticks\": \"\"}}, \"type\": \"scatterternary\"}], \"surface\": [{\"colorbar\": {\"outlinewidth\": 0, \"ticks\": \"\"}, \"colorscale\": [[0.0, \"#0d0887\"], [0.1111111111111111, \"#46039f\"], [0.2222222222222222, \"#7201a8\"], [0.3333333333333333, \"#9c179e\"], [0.4444444444444444, \"#bd3786\"], [0.5555555555555556, \"#d8576b\"], [0.6666666666666666, \"#ed7953\"], [0.7777777777777778, \"#fb9f3a\"], [0.8888888888888888, \"#fdca26\"], [1.0, \"#f0f921\"]], \"type\": \"surface\"}], \"table\": [{\"cells\": {\"fill\": {\"color\": \"#EBF0F8\"}, \"line\": {\"color\": \"white\"}}, \"header\": {\"fill\": {\"color\": \"#C8D4E3\"}, \"line\": {\"color\": \"white\"}}, \"type\": \"table\"}]}, \"layout\": {\"annotationdefaults\": {\"arrowcolor\": \"#2a3f5f\", \"arrowhead\": 0, \"arrowwidth\": 1}, \"autotypenumbers\": \"strict\", \"coloraxis\": {\"colorbar\": {\"outlinewidth\": 0, \"ticks\": \"\"}}, \"colorscale\": {\"diverging\": [[0, \"#8e0152\"], [0.1, \"#c51b7d\"], [0.2, \"#de77ae\"], [0.3, \"#f1b6da\"], [0.4, \"#fde0ef\"], [0.5, \"#f7f7f7\"], [0.6, \"#e6f5d0\"], [0.7, \"#b8e186\"], [0.8, \"#7fbc41\"], [0.9, \"#4d9221\"], [1, \"#276419\"]], \"sequential\": [[0.0, \"#0d0887\"], [0.1111111111111111, \"#46039f\"], [0.2222222222222222, \"#7201a8\"], [0.3333333333333333, \"#9c179e\"], [0.4444444444444444, \"#bd3786\"], [0.5555555555555556, \"#d8576b\"], [0.6666666666666666, \"#ed7953\"], [0.7777777777777778, \"#fb9f3a\"], [0.8888888888888888, \"#fdca26\"], [1.0, \"#f0f921\"]], \"sequentialminus\": [[0.0, \"#0d0887\"], [0.1111111111111111, \"#46039f\"], [0.2222222222222222, \"#7201a8\"], [0.3333333333333333, \"#9c179e\"], [0.4444444444444444, \"#bd3786\"], [0.5555555555555556, \"#d8576b\"], [0.6666666666666666, \"#ed7953\"], [0.7777777777777778, \"#fb9f3a\"], [0.8888888888888888, \"#fdca26\"], [1.0, \"#f0f921\"]]}, \"colorway\": [\"#636efa\", \"#EF553B\", \"#00cc96\", \"#ab63fa\", \"#FFA15A\", \"#19d3f3\", \"#FF6692\", \"#B6E880\", \"#FF97FF\", \"#FECB52\"], \"font\": {\"color\": \"#2a3f5f\"}, \"geo\": {\"bgcolor\": \"white\", \"lakecolor\": \"white\", \"landcolor\": \"#E5ECF6\", \"showlakes\": true, \"showland\": true, \"subunitcolor\": \"white\"}, \"hoverlabel\": {\"align\": \"left\"}, \"hovermode\": \"closest\", \"mapbox\": {\"style\": \"light\"}, \"paper_bgcolor\": \"white\", \"plot_bgcolor\": \"#E5ECF6\", \"polar\": {\"angularaxis\": {\"gridcolor\": \"white\", \"linecolor\": \"white\", \"ticks\": \"\"}, \"bgcolor\": \"#E5ECF6\", \"radialaxis\": {\"gridcolor\": \"white\", \"linecolor\": \"white\", \"ticks\": \"\"}}, \"scene\": {\"xaxis\": {\"backgroundcolor\": \"#E5ECF6\", \"gridcolor\": \"white\", \"gridwidth\": 2, \"linecolor\": \"white\", \"showbackground\": true, \"ticks\": \"\", \"zerolinecolor\": \"white\"}, \"yaxis\": {\"backgroundcolor\": \"#E5ECF6\", \"gridcolor\": \"white\", \"gridwidth\": 2, \"linecolor\": \"white\", \"showbackground\": true, \"ticks\": \"\", \"zerolinecolor\": \"white\"}, \"zaxis\": {\"backgroundcolor\": \"#E5ECF6\", \"gridcolor\": \"white\", \"gridwidth\": 2, \"linecolor\": \"white\", \"showbackground\": true, \"ticks\": \"\", \"zerolinecolor\": \"white\"}}, \"shapedefaults\": {\"line\": {\"color\": \"#2a3f5f\"}}, \"ternary\": {\"aaxis\": {\"gridcolor\": \"white\", \"linecolor\": \"white\", \"ticks\": \"\"}, \"baxis\": {\"gridcolor\": \"white\", \"linecolor\": \"white\", \"ticks\": \"\"}, \"bgcolor\": \"#E5ECF6\", \"caxis\": {\"gridcolor\": \"white\", \"linecolor\": \"white\", \"ticks\": \"\"}}, \"title\": {\"x\": 0.05}, \"xaxis\": {\"automargin\": true, \"gridcolor\": \"white\", \"linecolor\": \"white\", \"ticks\": \"\", \"title\": {\"standoff\": 15}, \"zerolinecolor\": \"white\", \"zerolinewidth\": 2}, \"yaxis\": {\"automargin\": true, \"gridcolor\": \"white\", \"linecolor\": \"white\", \"ticks\": \"\", \"title\": {\"standoff\": 15}, \"zerolinecolor\": \"white\", \"zerolinewidth\": 2}}}},                        {\"responsive\": true}                    ).then(function(){\n",
              "                            \n",
              "var gd = document.getElementById('0ab63865-b8f3-446b-9114-54bb7df25f68');\n",
              "var x = new MutationObserver(function (mutations, observer) {{\n",
              "        var display = window.getComputedStyle(gd).display;\n",
              "        if (!display || display === 'none') {{\n",
              "            console.log([gd, 'removed!']);\n",
              "            Plotly.purge(gd);\n",
              "            observer.disconnect();\n",
              "        }}\n",
              "}});\n",
              "\n",
              "// Listen for the removal of the full notebook cells\n",
              "var notebookContainer = gd.closest('#notebook-container');\n",
              "if (notebookContainer) {{\n",
              "    x.observe(notebookContainer, {childList: true});\n",
              "}}\n",
              "\n",
              "// Listen for the clearing of the current output cell\n",
              "var outputEl = gd.closest('.output');\n",
              "if (outputEl) {{\n",
              "    x.observe(outputEl, {childList: true});\n",
              "}}\n",
              "\n",
              "                        })                };                });            </script>        </div>"
            ]
          },
          "metadata": {},
          "output_type": "display_data"
        }
      ],
      "source": [
        "fig = px.scatter_3d(x=x.ravel(), y=y.ravel(), z=z.ravel())\n",
        "\n",
        "fig.add_trace(go.Surface(x = x_input, y = y_input, z =z_final))\n",
        "\n",
        "fig.update_layout(scene = dict(zaxis = dict(range=[0,35])))\n",
        "\n",
        "fig.show()"
      ]
    },
    {
      "cell_type": "code",
      "execution_count": null,
      "id": "a3f9e8dc",
      "metadata": {
        "id": "a3f9e8dc"
      },
      "outputs": [],
      "source": []
    },
    {
      "cell_type": "code",
      "execution_count": null,
      "id": "4eb1aa56",
      "metadata": {
        "id": "4eb1aa56"
      },
      "outputs": [],
      "source": []
    },
    {
      "cell_type": "code",
      "execution_count": null,
      "id": "f4595216",
      "metadata": {
        "id": "f4595216"
      },
      "outputs": [],
      "source": []
    },
    {
      "cell_type": "code",
      "execution_count": null,
      "id": "e8119018",
      "metadata": {
        "id": "e8119018"
      },
      "outputs": [],
      "source": []
    }
  ],
  "metadata": {
    "kernelspec": {
      "display_name": "Python 3",
      "language": "python",
      "name": "python3"
    },
    "language_info": {
      "codemirror_mode": {
        "name": "ipython",
        "version": 3
      },
      "file_extension": ".py",
      "mimetype": "text/x-python",
      "name": "python",
      "nbconvert_exporter": "python",
      "pygments_lexer": "ipython3",
      "version": "3.8.8"
    },
    "colab": {
      "provenance": []
    }
  },
  "nbformat": 4,
  "nbformat_minor": 5
}